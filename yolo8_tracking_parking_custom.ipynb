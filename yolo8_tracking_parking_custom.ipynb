{
  "cells": [
    {
      "cell_type": "code",
      "execution_count": 1,
      "metadata": {
        "colab": {
          "base_uri": "https://localhost:8080/"
        },
        "id": "Djs00q626_La",
        "outputId": "23d83288-cf55-4d85-8844-35c1076339cc"
      },
      "outputs": [
        {
          "name": "stdout",
          "output_type": "stream",
          "text": [
            "Collecting ultralytics\n",
            "  Downloading ultralytics-8.2.81-py3-none-any.whl.metadata (41 kB)\n",
            "\u001b[?25l     \u001b[90m━━━━━━━━━━━━━━━━━━━━━━━━━━━━━━━━━━━━━━━━\u001b[0m \u001b[32m0.0/41.3 kB\u001b[0m \u001b[31m?\u001b[0m eta \u001b[36m-:--:--\u001b[0m\r\u001b[2K     \u001b[90m━━━━━━━━━━━━━━━━━━━━━━━━━━━━━━━━━━━━━━━━\u001b[0m \u001b[32m41.3/41.3 kB\u001b[0m \u001b[31m1.8 MB/s\u001b[0m eta \u001b[36m0:00:00\u001b[0m\n",
            "\u001b[?25hRequirement already satisfied: numpy<2.0.0,>=1.23.0 in /usr/local/lib/python3.10/dist-packages (from ultralytics) (1.26.4)\n",
            "Requirement already satisfied: matplotlib>=3.3.0 in /usr/local/lib/python3.10/dist-packages (from ultralytics) (3.7.1)\n",
            "Requirement already satisfied: opencv-python>=4.6.0 in /usr/local/lib/python3.10/dist-packages (from ultralytics) (4.10.0.84)\n",
            "Requirement already satisfied: pillow>=7.1.2 in /usr/local/lib/python3.10/dist-packages (from ultralytics) (9.4.0)\n",
            "Requirement already satisfied: pyyaml>=5.3.1 in /usr/local/lib/python3.10/dist-packages (from ultralytics) (6.0.2)\n",
            "Requirement already satisfied: requests>=2.23.0 in /usr/local/lib/python3.10/dist-packages (from ultralytics) (2.32.3)\n",
            "Requirement already satisfied: scipy>=1.4.1 in /usr/local/lib/python3.10/dist-packages (from ultralytics) (1.13.1)\n",
            "Requirement already satisfied: torch>=1.8.0 in /usr/local/lib/python3.10/dist-packages (from ultralytics) (2.3.1+cu121)\n",
            "Requirement already satisfied: torchvision>=0.9.0 in /usr/local/lib/python3.10/dist-packages (from ultralytics) (0.18.1+cu121)\n",
            "Requirement already satisfied: tqdm>=4.64.0 in /usr/local/lib/python3.10/dist-packages (from ultralytics) (4.66.5)\n",
            "Requirement already satisfied: psutil in /usr/local/lib/python3.10/dist-packages (from ultralytics) (5.9.5)\n",
            "Requirement already satisfied: py-cpuinfo in /usr/local/lib/python3.10/dist-packages (from ultralytics) (9.0.0)\n",
            "Requirement already satisfied: pandas>=1.1.4 in /usr/local/lib/python3.10/dist-packages (from ultralytics) (2.1.4)\n",
            "Requirement already satisfied: seaborn>=0.11.0 in /usr/local/lib/python3.10/dist-packages (from ultralytics) (0.13.1)\n",
            "Collecting ultralytics-thop>=2.0.0 (from ultralytics)\n",
            "  Downloading ultralytics_thop-2.0.5-py3-none-any.whl.metadata (8.9 kB)\n",
            "Requirement already satisfied: contourpy>=1.0.1 in /usr/local/lib/python3.10/dist-packages (from matplotlib>=3.3.0->ultralytics) (1.2.1)\n",
            "Requirement already satisfied: cycler>=0.10 in /usr/local/lib/python3.10/dist-packages (from matplotlib>=3.3.0->ultralytics) (0.12.1)\n",
            "Requirement already satisfied: fonttools>=4.22.0 in /usr/local/lib/python3.10/dist-packages (from matplotlib>=3.3.0->ultralytics) (4.53.1)\n",
            "Requirement already satisfied: kiwisolver>=1.0.1 in /usr/local/lib/python3.10/dist-packages (from matplotlib>=3.3.0->ultralytics) (1.4.5)\n",
            "Requirement already satisfied: packaging>=20.0 in /usr/local/lib/python3.10/dist-packages (from matplotlib>=3.3.0->ultralytics) (24.1)\n",
            "Requirement already satisfied: pyparsing>=2.3.1 in /usr/local/lib/python3.10/dist-packages (from matplotlib>=3.3.0->ultralytics) (3.1.2)\n",
            "Requirement already satisfied: python-dateutil>=2.7 in /usr/local/lib/python3.10/dist-packages (from matplotlib>=3.3.0->ultralytics) (2.8.2)\n",
            "Requirement already satisfied: pytz>=2020.1 in /usr/local/lib/python3.10/dist-packages (from pandas>=1.1.4->ultralytics) (2024.1)\n",
            "Requirement already satisfied: tzdata>=2022.1 in /usr/local/lib/python3.10/dist-packages (from pandas>=1.1.4->ultralytics) (2024.1)\n",
            "Requirement already satisfied: charset-normalizer<4,>=2 in /usr/local/lib/python3.10/dist-packages (from requests>=2.23.0->ultralytics) (3.3.2)\n",
            "Requirement already satisfied: idna<4,>=2.5 in /usr/local/lib/python3.10/dist-packages (from requests>=2.23.0->ultralytics) (3.7)\n",
            "Requirement already satisfied: urllib3<3,>=1.21.1 in /usr/local/lib/python3.10/dist-packages (from requests>=2.23.0->ultralytics) (2.0.7)\n",
            "Requirement already satisfied: certifi>=2017.4.17 in /usr/local/lib/python3.10/dist-packages (from requests>=2.23.0->ultralytics) (2024.7.4)\n",
            "Requirement already satisfied: filelock in /usr/local/lib/python3.10/dist-packages (from torch>=1.8.0->ultralytics) (3.15.4)\n",
            "Requirement already satisfied: typing-extensions>=4.8.0 in /usr/local/lib/python3.10/dist-packages (from torch>=1.8.0->ultralytics) (4.12.2)\n",
            "Requirement already satisfied: sympy in /usr/local/lib/python3.10/dist-packages (from torch>=1.8.0->ultralytics) (1.13.2)\n",
            "Requirement already satisfied: networkx in /usr/local/lib/python3.10/dist-packages (from torch>=1.8.0->ultralytics) (3.3)\n",
            "Requirement already satisfied: jinja2 in /usr/local/lib/python3.10/dist-packages (from torch>=1.8.0->ultralytics) (3.1.4)\n",
            "Requirement already satisfied: fsspec in /usr/local/lib/python3.10/dist-packages (from torch>=1.8.0->ultralytics) (2024.6.1)\n",
            "Collecting nvidia-cuda-nvrtc-cu12==12.1.105 (from torch>=1.8.0->ultralytics)\n",
            "  Using cached nvidia_cuda_nvrtc_cu12-12.1.105-py3-none-manylinux1_x86_64.whl.metadata (1.5 kB)\n",
            "Collecting nvidia-cuda-runtime-cu12==12.1.105 (from torch>=1.8.0->ultralytics)\n",
            "  Using cached nvidia_cuda_runtime_cu12-12.1.105-py3-none-manylinux1_x86_64.whl.metadata (1.5 kB)\n",
            "Collecting nvidia-cuda-cupti-cu12==12.1.105 (from torch>=1.8.0->ultralytics)\n",
            "  Using cached nvidia_cuda_cupti_cu12-12.1.105-py3-none-manylinux1_x86_64.whl.metadata (1.6 kB)\n",
            "Collecting nvidia-cudnn-cu12==8.9.2.26 (from torch>=1.8.0->ultralytics)\n",
            "  Using cached nvidia_cudnn_cu12-8.9.2.26-py3-none-manylinux1_x86_64.whl.metadata (1.6 kB)\n",
            "Collecting nvidia-cublas-cu12==12.1.3.1 (from torch>=1.8.0->ultralytics)\n",
            "  Using cached nvidia_cublas_cu12-12.1.3.1-py3-none-manylinux1_x86_64.whl.metadata (1.5 kB)\n",
            "Collecting nvidia-cufft-cu12==11.0.2.54 (from torch>=1.8.0->ultralytics)\n",
            "  Using cached nvidia_cufft_cu12-11.0.2.54-py3-none-manylinux1_x86_64.whl.metadata (1.5 kB)\n",
            "Collecting nvidia-curand-cu12==10.3.2.106 (from torch>=1.8.0->ultralytics)\n",
            "  Using cached nvidia_curand_cu12-10.3.2.106-py3-none-manylinux1_x86_64.whl.metadata (1.5 kB)\n",
            "Collecting nvidia-cusolver-cu12==11.4.5.107 (from torch>=1.8.0->ultralytics)\n",
            "  Using cached nvidia_cusolver_cu12-11.4.5.107-py3-none-manylinux1_x86_64.whl.metadata (1.6 kB)\n",
            "Collecting nvidia-cusparse-cu12==12.1.0.106 (from torch>=1.8.0->ultralytics)\n",
            "  Using cached nvidia_cusparse_cu12-12.1.0.106-py3-none-manylinux1_x86_64.whl.metadata (1.6 kB)\n",
            "Collecting nvidia-nccl-cu12==2.20.5 (from torch>=1.8.0->ultralytics)\n",
            "  Using cached nvidia_nccl_cu12-2.20.5-py3-none-manylinux2014_x86_64.whl.metadata (1.8 kB)\n",
            "Collecting nvidia-nvtx-cu12==12.1.105 (from torch>=1.8.0->ultralytics)\n",
            "  Using cached nvidia_nvtx_cu12-12.1.105-py3-none-manylinux1_x86_64.whl.metadata (1.7 kB)\n",
            "Requirement already satisfied: triton==2.3.1 in /usr/local/lib/python3.10/dist-packages (from torch>=1.8.0->ultralytics) (2.3.1)\n",
            "Collecting nvidia-nvjitlink-cu12 (from nvidia-cusolver-cu12==11.4.5.107->torch>=1.8.0->ultralytics)\n",
            "  Using cached nvidia_nvjitlink_cu12-12.6.20-py3-none-manylinux2014_x86_64.whl.metadata (1.5 kB)\n",
            "Requirement already satisfied: six>=1.5 in /usr/local/lib/python3.10/dist-packages (from python-dateutil>=2.7->matplotlib>=3.3.0->ultralytics) (1.16.0)\n",
            "Requirement already satisfied: MarkupSafe>=2.0 in /usr/local/lib/python3.10/dist-packages (from jinja2->torch>=1.8.0->ultralytics) (2.1.5)\n",
            "Requirement already satisfied: mpmath<1.4,>=1.1.0 in /usr/local/lib/python3.10/dist-packages (from sympy->torch>=1.8.0->ultralytics) (1.3.0)\n",
            "Downloading ultralytics-8.2.81-py3-none-any.whl (869 kB)\n",
            "\u001b[2K   \u001b[90m━━━━━━━━━━━━━━━━━━━━━━━━━━━━━━━━━━━━━━━━\u001b[0m \u001b[32m869.4/869.4 kB\u001b[0m \u001b[31m14.0 MB/s\u001b[0m eta \u001b[36m0:00:00\u001b[0m\n",
            "\u001b[?25hUsing cached nvidia_cublas_cu12-12.1.3.1-py3-none-manylinux1_x86_64.whl (410.6 MB)\n",
            "Using cached nvidia_cuda_cupti_cu12-12.1.105-py3-none-manylinux1_x86_64.whl (14.1 MB)\n",
            "Using cached nvidia_cuda_nvrtc_cu12-12.1.105-py3-none-manylinux1_x86_64.whl (23.7 MB)\n",
            "Using cached nvidia_cuda_runtime_cu12-12.1.105-py3-none-manylinux1_x86_64.whl (823 kB)\n",
            "Using cached nvidia_cudnn_cu12-8.9.2.26-py3-none-manylinux1_x86_64.whl (731.7 MB)\n",
            "Using cached nvidia_cufft_cu12-11.0.2.54-py3-none-manylinux1_x86_64.whl (121.6 MB)\n",
            "Using cached nvidia_curand_cu12-10.3.2.106-py3-none-manylinux1_x86_64.whl (56.5 MB)\n",
            "Using cached nvidia_cusolver_cu12-11.4.5.107-py3-none-manylinux1_x86_64.whl (124.2 MB)\n",
            "Using cached nvidia_cusparse_cu12-12.1.0.106-py3-none-manylinux1_x86_64.whl (196.0 MB)\n",
            "Using cached nvidia_nccl_cu12-2.20.5-py3-none-manylinux2014_x86_64.whl (176.2 MB)\n",
            "Using cached nvidia_nvtx_cu12-12.1.105-py3-none-manylinux1_x86_64.whl (99 kB)\n",
            "Downloading ultralytics_thop-2.0.5-py3-none-any.whl (25 kB)\n",
            "Using cached nvidia_nvjitlink_cu12-12.6.20-py3-none-manylinux2014_x86_64.whl (19.7 MB)\n",
            "Installing collected packages: nvidia-nvtx-cu12, nvidia-nvjitlink-cu12, nvidia-nccl-cu12, nvidia-curand-cu12, nvidia-cufft-cu12, nvidia-cuda-runtime-cu12, nvidia-cuda-nvrtc-cu12, nvidia-cuda-cupti-cu12, nvidia-cublas-cu12, nvidia-cusparse-cu12, nvidia-cudnn-cu12, nvidia-cusolver-cu12, ultralytics-thop, ultralytics\n",
            "Successfully installed nvidia-cublas-cu12-12.1.3.1 nvidia-cuda-cupti-cu12-12.1.105 nvidia-cuda-nvrtc-cu12-12.1.105 nvidia-cuda-runtime-cu12-12.1.105 nvidia-cudnn-cu12-8.9.2.26 nvidia-cufft-cu12-11.0.2.54 nvidia-curand-cu12-10.3.2.106 nvidia-cusolver-cu12-11.4.5.107 nvidia-cusparse-cu12-12.1.0.106 nvidia-nccl-cu12-2.20.5 nvidia-nvjitlink-cu12-12.6.20 nvidia-nvtx-cu12-12.1.105 ultralytics-8.2.81 ultralytics-thop-2.0.5\n"
          ]
        }
      ],
      "source": [
        "!pip install ultralytics"
      ]
    },
    {
      "cell_type": "code",
      "execution_count": 2,
      "metadata": {
        "id": "YN3ULFlSUyTv"
      },
      "outputs": [],
      "source": [
        "import zipfile\n",
        "\n",
        "\n",
        "with zipfile.ZipFile('/content/drive/MyDrive/parking_tracking_project/registration plate.v1i.yolov8.zip') as target_file:\n",
        "  target_file.extractall('parking_plate_data')"
      ]
    },
    {
      "cell_type": "code",
      "execution_count": 3,
      "metadata": {
        "colab": {
          "base_uri": "https://localhost:8080/"
        },
        "id": "g98mclUQUtmy",
        "outputId": "123ee419-12e9-4c32-e2c5-cfb9d6bc5963"
      },
      "outputs": [
        {
          "name": "stdout",
          "output_type": "stream",
          "text": [
            "train: ../train/images\n",
            "val: ../valid/images\n",
            "test: ../test/images\n",
            "\n",
            "nc: 1\n",
            "names: ['plate']\n",
            "\n",
            "roboflow:\n",
            "  workspace: physical-laborrch\n",
            "  project: license-plate-dfeke\n",
            "  version: 1\n",
            "  license: CC BY 4.0\n",
            "  url: https://universe.roboflow.com/physical-laborrch/license-plate-dfeke/dataset/1"
          ]
        }
      ],
      "source": [
        "!cat /content/parking_plate_data/data.yaml"
      ]
    },
    {
      "cell_type": "code",
      "execution_count": 4,
      "metadata": {
        "colab": {
          "base_uri": "https://localhost:8080/"
        },
        "id": "SR99ky8CS4rE",
        "outputId": "6aa9f4fd-2319-49bd-c0e1-bbd35b585437"
      },
      "outputs": [
        {
          "name": "stdout",
          "output_type": "stream",
          "text": [
            "Requirement already satisfied: PyYAML in /usr/local/lib/python3.10/dist-packages (6.0.2)\n"
          ]
        }
      ],
      "source": [
        "!pip install PyYAML"
      ]
    },
    {
      "cell_type": "code",
      "execution_count": 5,
      "metadata": {
        "colab": {
          "base_uri": "https://localhost:8080/",
          "height": 110
        },
        "id": "24hh5Lo_S4Yf",
        "outputId": "fc7dad6c-b92c-4804-8332-aa61c8936fe4"
      },
      "outputs": [
        {
          "data": {
            "text/plain": [
              "{'names': ['plate'],\n",
              " 'nc': 1,\n",
              " 'test': '/content/parking_plate_data/test/images',\n",
              " 'train': '/content/parking_plate_data/train/images',\n",
              " 'val': '/content/parking_plate_data/valid/images'}"
            ]
          },
          "metadata": {},
          "output_type": "display_data"
        }
      ],
      "source": [
        "import yaml\n",
        "\n",
        "\n",
        "data = {'train' : '/content/parking_plate_data/train/images',\n",
        "               'val' : '/content/parking_plate_data/valid/images',\n",
        "               'test' : '/content/parking_plate_data/test/images',\n",
        "               'names' : ['plate'],\n",
        "               'nc' : 1 }\n",
        "\n",
        "\n",
        "with open('/content/parking_plate_data/car_plate_model_data.yaml','w') as f:\n",
        "  yaml.dump(data,f)\n",
        "\n",
        "\n",
        "\n",
        "with open('/content/parking_plate_data/car_plate_model_data.yaml', 'r') as f:\n",
        "  Car_model_yaml = yaml.safe_load(f)\n",
        "  display(Car_model_yaml)"
      ]
    },
    {
      "cell_type": "code",
      "execution_count": 6,
      "metadata": {
        "colab": {
          "base_uri": "https://localhost:8080/"
        },
        "id": "caaK0wOW7NxY",
        "outputId": "163940e0-a6f3-42a5-ccc8-c987c11f74af"
      },
      "outputs": [
        {
          "name": "stdout",
          "output_type": "stream",
          "text": [
            "Downloading https://github.com/ultralytics/assets/releases/download/v8.2.0/yolov8n.pt to 'yolov8n.pt'...\n"
          ]
        },
        {
          "name": "stderr",
          "output_type": "stream",
          "text": [
            "100%|██████████| 6.25M/6.25M [00:00<00:00, 77.1MB/s]\n"
          ]
        }
      ],
      "source": [
        "from ultralytics import YOLO\n",
        "\n",
        "model = YOLO('yolov8n.pt')\n",
        "\n",
        "#results = model('/content/drive/MyDrive/parking_tracking_project/tracking_ocr_edit.mp4', save = True)"
      ]
    },
    {
      "cell_type": "code",
      "execution_count": 8,
      "metadata": {
        "colab": {
          "base_uri": "https://localhost:8080/"
        },
        "id": "FNrzrmui8OFu",
        "outputId": "d2541a38-6fad-42ea-83bf-0c2eff3a79ad"
      },
      "outputs": [
        {
          "name": "stdout",
          "output_type": "stream",
          "text": [
            "Ultralytics YOLOv8.2.81 🚀 Python-3.10.12 torch-2.3.1+cu121 CPU (Intel Xeon 2.20GHz)\n",
            "\u001b[34m\u001b[1mengine/trainer: \u001b[0mtask=detect, mode=train, model=yolov8n.pt, data=/content/parking_plate_data/car_plate_model_data.yaml, epochs=25, time=None, patience=30, batch=32, imgsz=412, save=True, save_period=-1, cache=False, device=None, workers=8, project=None, name=train2, exist_ok=False, pretrained=True, optimizer=auto, verbose=True, seed=0, deterministic=True, single_cls=False, rect=False, cos_lr=False, close_mosaic=10, resume=False, amp=True, fraction=1.0, profile=False, freeze=None, multi_scale=False, overlap_mask=True, mask_ratio=4, dropout=0.0, val=True, split=val, save_json=False, save_hybrid=False, conf=None, iou=0.7, max_det=300, half=False, dnn=False, plots=True, source=None, vid_stride=1, stream_buffer=False, visualize=False, augment=False, agnostic_nms=False, classes=None, retina_masks=False, embed=None, show=False, save_frames=False, save_txt=False, save_conf=False, save_crop=False, show_labels=True, show_conf=True, show_boxes=True, line_width=None, format=torchscript, keras=False, optimize=False, int8=False, dynamic=False, simplify=False, opset=None, workspace=4, nms=False, lr0=0.01, lrf=0.01, momentum=0.937, weight_decay=0.0005, warmup_epochs=3.0, warmup_momentum=0.8, warmup_bias_lr=0.1, box=7.5, cls=0.5, dfl=1.5, pose=12.0, kobj=1.0, label_smoothing=0.0, nbs=64, hsv_h=0.015, hsv_s=0.7, hsv_v=0.4, degrees=0.0, translate=0.1, scale=0.5, shear=0.0, perspective=0.0, flipud=0.0, fliplr=0.5, bgr=0.0, mosaic=1.0, mixup=0.0, copy_paste=0.0, auto_augment=randaugment, erasing=0.4, crop_fraction=1.0, cfg=None, tracker=botsort.yaml, save_dir=runs/detect/train2\n",
            "Downloading https://ultralytics.com/assets/Arial.ttf to '/root/.config/Ultralytics/Arial.ttf'...\n"
          ]
        },
        {
          "name": "stderr",
          "output_type": "stream",
          "text": [
            "100%|██████████| 755k/755k [00:00<00:00, 14.7MB/s]\n"
          ]
        },
        {
          "name": "stdout",
          "output_type": "stream",
          "text": [
            "Overriding model.yaml nc=80 with nc=1\n",
            "\n",
            "                   from  n    params  module                                       arguments                     \n",
            "  0                  -1  1       464  ultralytics.nn.modules.conv.Conv             [3, 16, 3, 2]                 \n",
            "  1                  -1  1      4672  ultralytics.nn.modules.conv.Conv             [16, 32, 3, 2]                \n",
            "  2                  -1  1      7360  ultralytics.nn.modules.block.C2f             [32, 32, 1, True]             \n",
            "  3                  -1  1     18560  ultralytics.nn.modules.conv.Conv             [32, 64, 3, 2]                \n",
            "  4                  -1  2     49664  ultralytics.nn.modules.block.C2f             [64, 64, 2, True]             \n",
            "  5                  -1  1     73984  ultralytics.nn.modules.conv.Conv             [64, 128, 3, 2]               \n",
            "  6                  -1  2    197632  ultralytics.nn.modules.block.C2f             [128, 128, 2, True]           \n",
            "  7                  -1  1    295424  ultralytics.nn.modules.conv.Conv             [128, 256, 3, 2]              \n",
            "  8                  -1  1    460288  ultralytics.nn.modules.block.C2f             [256, 256, 1, True]           \n",
            "  9                  -1  1    164608  ultralytics.nn.modules.block.SPPF            [256, 256, 5]                 \n",
            " 10                  -1  1         0  torch.nn.modules.upsampling.Upsample         [None, 2, 'nearest']          \n",
            " 11             [-1, 6]  1         0  ultralytics.nn.modules.conv.Concat           [1]                           \n",
            " 12                  -1  1    148224  ultralytics.nn.modules.block.C2f             [384, 128, 1]                 \n",
            " 13                  -1  1         0  torch.nn.modules.upsampling.Upsample         [None, 2, 'nearest']          \n",
            " 14             [-1, 4]  1         0  ultralytics.nn.modules.conv.Concat           [1]                           \n",
            " 15                  -1  1     37248  ultralytics.nn.modules.block.C2f             [192, 64, 1]                  \n",
            " 16                  -1  1     36992  ultralytics.nn.modules.conv.Conv             [64, 64, 3, 2]                \n",
            " 17            [-1, 12]  1         0  ultralytics.nn.modules.conv.Concat           [1]                           \n",
            " 18                  -1  1    123648  ultralytics.nn.modules.block.C2f             [192, 128, 1]                 \n",
            " 19                  -1  1    147712  ultralytics.nn.modules.conv.Conv             [128, 128, 3, 2]              \n",
            " 20             [-1, 9]  1         0  ultralytics.nn.modules.conv.Concat           [1]                           \n",
            " 21                  -1  1    493056  ultralytics.nn.modules.block.C2f             [384, 256, 1]                 \n",
            " 22        [15, 18, 21]  1    751507  ultralytics.nn.modules.head.Detect           [1, [64, 128, 256]]           \n",
            "Model summary: 225 layers, 3,011,043 parameters, 3,011,027 gradients, 8.2 GFLOPs\n",
            "\n",
            "Transferred 319/355 items from pretrained weights\n",
            "\u001b[34m\u001b[1mTensorBoard: \u001b[0mStart with 'tensorboard --logdir runs/detect/train2', view at http://localhost:6006/\n",
            "Freezing layer 'model.22.dfl.conv.weight'\n",
            "WARNING ⚠️ imgsz=[412] must be multiple of max stride 32, updating to [416]\n"
          ]
        },
        {
          "name": "stderr",
          "output_type": "stream",
          "text": [
            "\u001b[34m\u001b[1mtrain: \u001b[0mScanning /content/parking_plate_data/train/labels... 210 images, 0 backgrounds, 0 corrupt: 100%|██████████| 210/210 [00:00<00:00, 1559.65it/s]"
          ]
        },
        {
          "name": "stdout",
          "output_type": "stream",
          "text": [
            "\u001b[34m\u001b[1mtrain: \u001b[0mNew cache created: /content/parking_plate_data/train/labels.cache\n"
          ]
        },
        {
          "name": "stderr",
          "output_type": "stream",
          "text": [
            "\n"
          ]
        },
        {
          "name": "stdout",
          "output_type": "stream",
          "text": [
            "\u001b[34m\u001b[1malbumentations: \u001b[0mBlur(p=0.01, blur_limit=(3, 7)), MedianBlur(p=0.01, blur_limit=(3, 7)), ToGray(p=0.01), CLAHE(p=0.01, clip_limit=(1, 4.0), tile_grid_size=(8, 8))\n"
          ]
        },
        {
          "name": "stderr",
          "output_type": "stream",
          "text": [
            "\u001b[34m\u001b[1mval: \u001b[0mScanning /content/parking_plate_data/valid/labels... 20 images, 0 backgrounds, 0 corrupt: 100%|██████████| 20/20 [00:00<00:00, 2042.22it/s]"
          ]
        },
        {
          "name": "stdout",
          "output_type": "stream",
          "text": [
            "\u001b[34m\u001b[1mval: \u001b[0mNew cache created: /content/parking_plate_data/valid/labels.cache\n"
          ]
        },
        {
          "name": "stderr",
          "output_type": "stream",
          "text": [
            "\n"
          ]
        },
        {
          "name": "stdout",
          "output_type": "stream",
          "text": [
            "Plotting labels to runs/detect/train2/labels.jpg... \n",
            "\u001b[34m\u001b[1moptimizer:\u001b[0m 'optimizer=auto' found, ignoring 'lr0=0.01' and 'momentum=0.937' and determining best 'optimizer', 'lr0' and 'momentum' automatically... \n",
            "\u001b[34m\u001b[1moptimizer:\u001b[0m AdamW(lr=0.002, momentum=0.9) with parameter groups 57 weight(decay=0.0), 64 weight(decay=0.0005), 63 bias(decay=0.0)\n",
            "\u001b[34m\u001b[1mTensorBoard: \u001b[0mmodel graph visualization added ✅\n",
            "Image sizes 416 train, 416 val\n",
            "Using 0 dataloader workers\n",
            "Logging results to \u001b[1mruns/detect/train2\u001b[0m\n",
            "Starting training for 25 epochs...\n",
            "\n",
            "      Epoch    GPU_mem   box_loss   cls_loss   dfl_loss  Instances       Size\n"
          ]
        },
        {
          "name": "stderr",
          "output_type": "stream",
          "text": [
            "       1/25         0G      1.813      2.762      1.845         37        416: 100%|██████████| 7/7 [01:28<00:00, 12.67s/it]\n",
            "                 Class     Images  Instances      Box(P          R      mAP50  mAP50-95): 100%|██████████| 1/1 [00:02<00:00,  2.83s/it]"
          ]
        },
        {
          "name": "stdout",
          "output_type": "stream",
          "text": [
            "                   all         20         20    0.00335          1       0.99      0.596\n"
          ]
        },
        {
          "name": "stderr",
          "output_type": "stream",
          "text": [
            "\n"
          ]
        },
        {
          "name": "stdout",
          "output_type": "stream",
          "text": [
            "\n",
            "      Epoch    GPU_mem   box_loss   cls_loss   dfl_loss  Instances       Size\n"
          ]
        },
        {
          "name": "stderr",
          "output_type": "stream",
          "text": [
            "       2/25         0G      1.457      1.874      1.409         37        416: 100%|██████████| 7/7 [01:19<00:00, 11.29s/it]\n",
            "                 Class     Images  Instances      Box(P          R      mAP50  mAP50-95): 100%|██████████| 1/1 [00:02<00:00,  2.86s/it]"
          ]
        },
        {
          "name": "stdout",
          "output_type": "stream",
          "text": [
            "                   all         20         20       0.95      0.945      0.988      0.665\n"
          ]
        },
        {
          "name": "stderr",
          "output_type": "stream",
          "text": [
            "\n"
          ]
        },
        {
          "name": "stdout",
          "output_type": "stream",
          "text": [
            "\n",
            "      Epoch    GPU_mem   box_loss   cls_loss   dfl_loss  Instances       Size\n"
          ]
        },
        {
          "name": "stderr",
          "output_type": "stream",
          "text": [
            "       3/25         0G      1.373      1.325      1.325         44        416: 100%|██████████| 7/7 [01:17<00:00, 11.14s/it]\n",
            "                 Class     Images  Instances      Box(P          R      mAP50  mAP50-95): 100%|██████████| 1/1 [00:03<00:00,  3.31s/it]"
          ]
        },
        {
          "name": "stdout",
          "output_type": "stream",
          "text": [
            "                   all         20         20          1      0.673      0.995      0.647\n"
          ]
        },
        {
          "name": "stderr",
          "output_type": "stream",
          "text": [
            "\n"
          ]
        },
        {
          "name": "stdout",
          "output_type": "stream",
          "text": [
            "\n",
            "      Epoch    GPU_mem   box_loss   cls_loss   dfl_loss  Instances       Size\n"
          ]
        },
        {
          "name": "stderr",
          "output_type": "stream",
          "text": [
            "       4/25         0G      1.268      1.148      1.267         44        416: 100%|██████████| 7/7 [01:17<00:00, 11.05s/it]\n",
            "                 Class     Images  Instances      Box(P          R      mAP50  mAP50-95): 100%|██████████| 1/1 [00:02<00:00,  2.58s/it]"
          ]
        },
        {
          "name": "stdout",
          "output_type": "stream",
          "text": [
            "                   all         20         20      0.881        0.7      0.891      0.574\n"
          ]
        },
        {
          "name": "stderr",
          "output_type": "stream",
          "text": [
            "\n"
          ]
        },
        {
          "name": "stdout",
          "output_type": "stream",
          "text": [
            "\n",
            "      Epoch    GPU_mem   box_loss   cls_loss   dfl_loss  Instances       Size\n"
          ]
        },
        {
          "name": "stderr",
          "output_type": "stream",
          "text": [
            "       5/25         0G      1.218      1.151      1.246         44        416: 100%|██████████| 7/7 [01:18<00:00, 11.27s/it]\n",
            "                 Class     Images  Instances      Box(P          R      mAP50  mAP50-95): 100%|██████████| 1/1 [00:02<00:00,  2.62s/it]"
          ]
        },
        {
          "name": "stdout",
          "output_type": "stream",
          "text": [
            "                   all         20         20      0.884       0.55      0.836       0.42\n"
          ]
        },
        {
          "name": "stderr",
          "output_type": "stream",
          "text": [
            "\n"
          ]
        },
        {
          "name": "stdout",
          "output_type": "stream",
          "text": [
            "\n",
            "      Epoch    GPU_mem   box_loss   cls_loss   dfl_loss  Instances       Size\n"
          ]
        },
        {
          "name": "stderr",
          "output_type": "stream",
          "text": [
            "       6/25         0G      1.134      1.034      1.173         47        416: 100%|██████████| 7/7 [01:22<00:00, 11.78s/it]\n",
            "                 Class     Images  Instances      Box(P          R      mAP50  mAP50-95): 100%|██████████| 1/1 [00:02<00:00,  2.57s/it]"
          ]
        },
        {
          "name": "stdout",
          "output_type": "stream",
          "text": [
            "                   all         20         20      0.743        0.9      0.914      0.556\n"
          ]
        },
        {
          "name": "stderr",
          "output_type": "stream",
          "text": [
            "\n"
          ]
        },
        {
          "name": "stdout",
          "output_type": "stream",
          "text": [
            "\n",
            "      Epoch    GPU_mem   box_loss   cls_loss   dfl_loss  Instances       Size\n"
          ]
        },
        {
          "name": "stderr",
          "output_type": "stream",
          "text": [
            "       7/25         0G      1.173     0.9818      1.197         38        416: 100%|██████████| 7/7 [01:18<00:00, 11.15s/it]\n",
            "                 Class     Images  Instances      Box(P          R      mAP50  mAP50-95): 100%|██████████| 1/1 [00:02<00:00,  2.56s/it]"
          ]
        },
        {
          "name": "stdout",
          "output_type": "stream",
          "text": [
            "                   all         20         20      0.229       0.45      0.168     0.0328\n"
          ]
        },
        {
          "name": "stderr",
          "output_type": "stream",
          "text": [
            "\n"
          ]
        },
        {
          "name": "stdout",
          "output_type": "stream",
          "text": [
            "\n",
            "      Epoch    GPU_mem   box_loss   cls_loss   dfl_loss  Instances       Size\n"
          ]
        },
        {
          "name": "stderr",
          "output_type": "stream",
          "text": [
            "       8/25         0G        1.2      1.028      1.229         40        416: 100%|██████████| 7/7 [01:18<00:00, 11.17s/it]\n",
            "                 Class     Images  Instances      Box(P          R      mAP50  mAP50-95): 100%|██████████| 1/1 [00:03<00:00,  3.37s/it]"
          ]
        },
        {
          "name": "stdout",
          "output_type": "stream",
          "text": [
            "                   all         20         20      0.697       0.65      0.729      0.396\n"
          ]
        },
        {
          "name": "stderr",
          "output_type": "stream",
          "text": [
            "\n"
          ]
        },
        {
          "name": "stdout",
          "output_type": "stream",
          "text": [
            "\n",
            "      Epoch    GPU_mem   box_loss   cls_loss   dfl_loss  Instances       Size\n"
          ]
        },
        {
          "name": "stderr",
          "output_type": "stream",
          "text": [
            "       9/25         0G      1.098     0.9367      1.149         52        416: 100%|██████████| 7/7 [01:17<00:00, 11.08s/it]\n",
            "                 Class     Images  Instances      Box(P          R      mAP50  mAP50-95): 100%|██████████| 1/1 [00:03<00:00,  3.03s/it]"
          ]
        },
        {
          "name": "stdout",
          "output_type": "stream",
          "text": [
            "                   all         20         20      0.864      0.951      0.983      0.661\n"
          ]
        },
        {
          "name": "stderr",
          "output_type": "stream",
          "text": [
            "\n"
          ]
        },
        {
          "name": "stdout",
          "output_type": "stream",
          "text": [
            "\n",
            "      Epoch    GPU_mem   box_loss   cls_loss   dfl_loss  Instances       Size\n"
          ]
        },
        {
          "name": "stderr",
          "output_type": "stream",
          "text": [
            "      10/25         0G      1.137     0.9478      1.202         42        416: 100%|██████████| 7/7 [01:20<00:00, 11.45s/it]\n",
            "                 Class     Images  Instances      Box(P          R      mAP50  mAP50-95): 100%|██████████| 1/1 [00:02<00:00,  2.54s/it]"
          ]
        },
        {
          "name": "stdout",
          "output_type": "stream",
          "text": [
            "                   all         20         20      0.948          1      0.978       0.68\n"
          ]
        },
        {
          "name": "stderr",
          "output_type": "stream",
          "text": [
            "\n"
          ]
        },
        {
          "name": "stdout",
          "output_type": "stream",
          "text": [
            "\n",
            "      Epoch    GPU_mem   box_loss   cls_loss   dfl_loss  Instances       Size\n"
          ]
        },
        {
          "name": "stderr",
          "output_type": "stream",
          "text": [
            "      11/25         0G      1.106     0.9187      1.186         40        416: 100%|██████████| 7/7 [01:21<00:00, 11.68s/it]\n",
            "                 Class     Images  Instances      Box(P          R      mAP50  mAP50-95): 100%|██████████| 1/1 [00:05<00:00,  5.68s/it]"
          ]
        },
        {
          "name": "stdout",
          "output_type": "stream",
          "text": [
            "                   all         20         20          1      0.988      0.995      0.736\n"
          ]
        },
        {
          "name": "stderr",
          "output_type": "stream",
          "text": [
            "\n"
          ]
        },
        {
          "name": "stdout",
          "output_type": "stream",
          "text": [
            "\n",
            "      Epoch    GPU_mem   box_loss   cls_loss   dfl_loss  Instances       Size\n"
          ]
        },
        {
          "name": "stderr",
          "output_type": "stream",
          "text": [
            "      12/25         0G      1.012     0.8522      1.125         38        416: 100%|██████████| 7/7 [01:17<00:00, 11.09s/it]\n",
            "                 Class     Images  Instances      Box(P          R      mAP50  mAP50-95): 100%|██████████| 1/1 [00:02<00:00,  2.59s/it]"
          ]
        },
        {
          "name": "stdout",
          "output_type": "stream",
          "text": [
            "                   all         20         20      0.996          1      0.995      0.698\n"
          ]
        },
        {
          "name": "stderr",
          "output_type": "stream",
          "text": [
            "\n"
          ]
        },
        {
          "name": "stdout",
          "output_type": "stream",
          "text": [
            "\n",
            "      Epoch    GPU_mem   box_loss   cls_loss   dfl_loss  Instances       Size\n"
          ]
        },
        {
          "name": "stderr",
          "output_type": "stream",
          "text": [
            "      13/25         0G      1.059     0.8689      1.164         34        416: 100%|██████████| 7/7 [01:18<00:00, 11.28s/it]\n",
            "                 Class     Images  Instances      Box(P          R      mAP50  mAP50-95): 100%|██████████| 1/1 [00:03<00:00,  3.21s/it]"
          ]
        },
        {
          "name": "stdout",
          "output_type": "stream",
          "text": [
            "                   all         20         20          1      0.995      0.995      0.772\n"
          ]
        },
        {
          "name": "stderr",
          "output_type": "stream",
          "text": [
            "\n"
          ]
        },
        {
          "name": "stdout",
          "output_type": "stream",
          "text": [
            "\n",
            "      Epoch    GPU_mem   box_loss   cls_loss   dfl_loss  Instances       Size\n"
          ]
        },
        {
          "name": "stderr",
          "output_type": "stream",
          "text": [
            "      14/25         0G      1.036     0.8423      1.134         42        416: 100%|██████████| 7/7 [01:22<00:00, 11.86s/it]\n",
            "                 Class     Images  Instances      Box(P          R      mAP50  mAP50-95): 100%|██████████| 1/1 [00:02<00:00,  2.55s/it]"
          ]
        },
        {
          "name": "stdout",
          "output_type": "stream",
          "text": [
            "                   all         20         20          1      0.883      0.963      0.714\n"
          ]
        },
        {
          "name": "stderr",
          "output_type": "stream",
          "text": [
            "\n"
          ]
        },
        {
          "name": "stdout",
          "output_type": "stream",
          "text": [
            "\n",
            "      Epoch    GPU_mem   box_loss   cls_loss   dfl_loss  Instances       Size\n"
          ]
        },
        {
          "name": "stderr",
          "output_type": "stream",
          "text": [
            "      15/25         0G      1.012     0.7956      1.126         37        416: 100%|██████████| 7/7 [01:17<00:00, 11.09s/it]\n",
            "                 Class     Images  Instances      Box(P          R      mAP50  mAP50-95): 100%|██████████| 1/1 [00:02<00:00,  2.56s/it]"
          ]
        },
        {
          "name": "stdout",
          "output_type": "stream",
          "text": [
            "                   all         20         20      0.997          1      0.995      0.724\n"
          ]
        },
        {
          "name": "stderr",
          "output_type": "stream",
          "text": [
            "\n"
          ]
        },
        {
          "name": "stdout",
          "output_type": "stream",
          "text": [
            "Closing dataloader mosaic\n",
            "\u001b[34m\u001b[1malbumentations: \u001b[0mBlur(p=0.01, blur_limit=(3, 7)), MedianBlur(p=0.01, blur_limit=(3, 7)), ToGray(p=0.01), CLAHE(p=0.01, clip_limit=(1, 4.0), tile_grid_size=(8, 8))\n",
            "\n",
            "      Epoch    GPU_mem   box_loss   cls_loss   dfl_loss  Instances       Size\n"
          ]
        },
        {
          "name": "stderr",
          "output_type": "stream",
          "text": [
            "      16/25         0G     0.9184     0.8781      1.112         18        416: 100%|██████████| 7/7 [01:17<00:00, 11.10s/it]\n",
            "                 Class     Images  Instances      Box(P          R      mAP50  mAP50-95): 100%|██████████| 1/1 [00:03<00:00,  3.72s/it]"
          ]
        },
        {
          "name": "stdout",
          "output_type": "stream",
          "text": [
            "                   all         20         20      0.998          1      0.995      0.754\n"
          ]
        },
        {
          "name": "stderr",
          "output_type": "stream",
          "text": [
            "\n"
          ]
        },
        {
          "name": "stdout",
          "output_type": "stream",
          "text": [
            "\n",
            "      Epoch    GPU_mem   box_loss   cls_loss   dfl_loss  Instances       Size\n"
          ]
        },
        {
          "name": "stderr",
          "output_type": "stream",
          "text": [
            "      17/25         0G     0.9236      0.822      1.087         18        416: 100%|██████████| 7/7 [01:16<00:00, 10.94s/it]\n",
            "                 Class     Images  Instances      Box(P          R      mAP50  mAP50-95): 100%|██████████| 1/1 [00:03<00:00,  3.01s/it]"
          ]
        },
        {
          "name": "stdout",
          "output_type": "stream",
          "text": [
            "                   all         20         20      0.819          1      0.957      0.648\n"
          ]
        },
        {
          "name": "stderr",
          "output_type": "stream",
          "text": [
            "\n"
          ]
        },
        {
          "name": "stdout",
          "output_type": "stream",
          "text": [
            "\n",
            "      Epoch    GPU_mem   box_loss   cls_loss   dfl_loss  Instances       Size\n"
          ]
        },
        {
          "name": "stderr",
          "output_type": "stream",
          "text": [
            "      18/25         0G     0.8657     0.7105      1.082         18        416: 100%|██████████| 7/7 [01:17<00:00, 11.07s/it]\n",
            "                 Class     Images  Instances      Box(P          R      mAP50  mAP50-95): 100%|██████████| 1/1 [00:02<00:00,  2.58s/it]"
          ]
        },
        {
          "name": "stdout",
          "output_type": "stream",
          "text": [
            "                   all         20         20       0.77       0.85      0.849      0.578\n"
          ]
        },
        {
          "name": "stderr",
          "output_type": "stream",
          "text": [
            "\n"
          ]
        },
        {
          "name": "stdout",
          "output_type": "stream",
          "text": [
            "\n",
            "      Epoch    GPU_mem   box_loss   cls_loss   dfl_loss  Instances       Size\n"
          ]
        },
        {
          "name": "stderr",
          "output_type": "stream",
          "text": [
            "      19/25         0G     0.8304     0.6764      1.033         18        416: 100%|██████████| 7/7 [01:17<00:00, 11.07s/it]\n",
            "                 Class     Images  Instances      Box(P          R      mAP50  mAP50-95): 100%|██████████| 1/1 [00:02<00:00,  2.55s/it]"
          ]
        },
        {
          "name": "stdout",
          "output_type": "stream",
          "text": [
            "                   all         20         20      0.901          1      0.988       0.71\n"
          ]
        },
        {
          "name": "stderr",
          "output_type": "stream",
          "text": [
            "\n"
          ]
        },
        {
          "name": "stdout",
          "output_type": "stream",
          "text": [
            "\n",
            "      Epoch    GPU_mem   box_loss   cls_loss   dfl_loss  Instances       Size\n"
          ]
        },
        {
          "name": "stderr",
          "output_type": "stream",
          "text": [
            "      20/25         0G     0.7962      0.653      1.034         18        416: 100%|██████████| 7/7 [01:17<00:00, 11.08s/it]\n",
            "                 Class     Images  Instances      Box(P          R      mAP50  mAP50-95): 100%|██████████| 1/1 [00:03<00:00,  3.43s/it]"
          ]
        },
        {
          "name": "stdout",
          "output_type": "stream",
          "text": [
            "                   all         20         20      0.994          1      0.995       0.79\n"
          ]
        },
        {
          "name": "stderr",
          "output_type": "stream",
          "text": [
            "\n"
          ]
        },
        {
          "name": "stdout",
          "output_type": "stream",
          "text": [
            "\n",
            "      Epoch    GPU_mem   box_loss   cls_loss   dfl_loss  Instances       Size\n"
          ]
        },
        {
          "name": "stderr",
          "output_type": "stream",
          "text": [
            "      21/25         0G      0.815     0.6233      1.046         18        416: 100%|██████████| 7/7 [01:22<00:00, 11.77s/it]\n",
            "                 Class     Images  Instances      Box(P          R      mAP50  mAP50-95): 100%|██████████| 1/1 [00:02<00:00,  2.61s/it]"
          ]
        },
        {
          "name": "stdout",
          "output_type": "stream",
          "text": [
            "                   all         20         20      0.996          1      0.995        0.8\n"
          ]
        },
        {
          "name": "stderr",
          "output_type": "stream",
          "text": [
            "\n"
          ]
        },
        {
          "name": "stdout",
          "output_type": "stream",
          "text": [
            "\n",
            "      Epoch    GPU_mem   box_loss   cls_loss   dfl_loss  Instances       Size\n"
          ]
        },
        {
          "name": "stderr",
          "output_type": "stream",
          "text": [
            "      22/25         0G     0.7525     0.6066      1.027         18        416: 100%|██████████| 7/7 [01:17<00:00, 11.11s/it]\n",
            "                 Class     Images  Instances      Box(P          R      mAP50  mAP50-95): 100%|██████████| 1/1 [00:02<00:00,  2.54s/it]"
          ]
        },
        {
          "name": "stdout",
          "output_type": "stream",
          "text": [
            "                   all         20         20      0.996          1      0.995      0.765\n"
          ]
        },
        {
          "name": "stderr",
          "output_type": "stream",
          "text": [
            "\n"
          ]
        },
        {
          "name": "stdout",
          "output_type": "stream",
          "text": [
            "\n",
            "      Epoch    GPU_mem   box_loss   cls_loss   dfl_loss  Instances       Size\n"
          ]
        },
        {
          "name": "stderr",
          "output_type": "stream",
          "text": [
            "      23/25         0G     0.7302     0.5652     0.9674         18        416: 100%|██████████| 7/7 [01:17<00:00, 11.12s/it]\n",
            "                 Class     Images  Instances      Box(P          R      mAP50  mAP50-95): 100%|██████████| 1/1 [00:02<00:00,  2.95s/it]"
          ]
        },
        {
          "name": "stdout",
          "output_type": "stream",
          "text": [
            "                   all         20         20      0.979          1      0.995       0.79\n"
          ]
        },
        {
          "name": "stderr",
          "output_type": "stream",
          "text": [
            "\n"
          ]
        },
        {
          "name": "stdout",
          "output_type": "stream",
          "text": [
            "\n",
            "      Epoch    GPU_mem   box_loss   cls_loss   dfl_loss  Instances       Size\n"
          ]
        },
        {
          "name": "stderr",
          "output_type": "stream",
          "text": [
            "      24/25         0G     0.6865     0.5554      0.973         18        416: 100%|██████████| 7/7 [01:17<00:00, 11.13s/it]\n",
            "                 Class     Images  Instances      Box(P          R      mAP50  mAP50-95): 100%|██████████| 1/1 [00:03<00:00,  3.91s/it]"
          ]
        },
        {
          "name": "stdout",
          "output_type": "stream",
          "text": [
            "                   all         20         20      0.996          1      0.995      0.781\n"
          ]
        },
        {
          "name": "stderr",
          "output_type": "stream",
          "text": [
            "\n"
          ]
        },
        {
          "name": "stdout",
          "output_type": "stream",
          "text": [
            "\n",
            "      Epoch    GPU_mem   box_loss   cls_loss   dfl_loss  Instances       Size\n"
          ]
        },
        {
          "name": "stderr",
          "output_type": "stream",
          "text": [
            "      25/25         0G     0.6723     0.5475     0.9492         18        416: 100%|██████████| 7/7 [01:17<00:00, 11.04s/it]\n",
            "                 Class     Images  Instances      Box(P          R      mAP50  mAP50-95): 100%|██████████| 1/1 [00:02<00:00,  2.53s/it]"
          ]
        },
        {
          "name": "stdout",
          "output_type": "stream",
          "text": [
            "                   all         20         20      0.997          1      0.995      0.762\n"
          ]
        },
        {
          "name": "stderr",
          "output_type": "stream",
          "text": [
            "\n"
          ]
        },
        {
          "name": "stdout",
          "output_type": "stream",
          "text": [
            "\n",
            "25 epochs completed in 0.577 hours.\n",
            "Optimizer stripped from runs/detect/train2/weights/last.pt, 6.2MB\n",
            "Optimizer stripped from runs/detect/train2/weights/best.pt, 6.2MB\n",
            "\n",
            "Validating runs/detect/train2/weights/best.pt...\n",
            "Ultralytics YOLOv8.2.81 🚀 Python-3.10.12 torch-2.3.1+cu121 CPU (Intel Xeon 2.20GHz)\n",
            "Model summary (fused): 168 layers, 3,005,843 parameters, 0 gradients, 8.1 GFLOPs\n"
          ]
        },
        {
          "name": "stderr",
          "output_type": "stream",
          "text": [
            "                 Class     Images  Instances      Box(P          R      mAP50  mAP50-95): 100%|██████████| 1/1 [00:02<00:00,  2.38s/it]\n"
          ]
        },
        {
          "name": "stdout",
          "output_type": "stream",
          "text": [
            "                   all         20         20      0.996          1      0.995        0.8\n",
            "Speed: 1.1ms preprocess, 110.7ms inference, 0.0ms loss, 1.1ms postprocess per image\n",
            "Results saved to \u001b[1mruns/detect/train2\u001b[0m\n"
          ]
        },
        {
          "data": {
            "text/plain": [
              "ultralytics.utils.metrics.DetMetrics object with attributes:\n",
              "\n",
              "ap_class_index: array([0])\n",
              "box: ultralytics.utils.metrics.Metric object\n",
              "confusion_matrix: <ultralytics.utils.metrics.ConfusionMatrix object at 0x7cf8a695ddb0>\n",
              "curves: ['Precision-Recall(B)', 'F1-Confidence(B)', 'Precision-Confidence(B)', 'Recall-Confidence(B)']\n",
              "curves_results: [[array([          0,    0.001001,    0.002002,    0.003003,    0.004004,    0.005005,    0.006006,    0.007007,    0.008008,    0.009009,     0.01001,    0.011011,    0.012012,    0.013013,    0.014014,    0.015015,    0.016016,    0.017017,    0.018018,    0.019019,     0.02002,    0.021021,    0.022022,    0.023023,\n",
              "          0.024024,    0.025025,    0.026026,    0.027027,    0.028028,    0.029029,     0.03003,    0.031031,    0.032032,    0.033033,    0.034034,    0.035035,    0.036036,    0.037037,    0.038038,    0.039039,     0.04004,    0.041041,    0.042042,    0.043043,    0.044044,    0.045045,    0.046046,    0.047047,\n",
              "          0.048048,    0.049049,     0.05005,    0.051051,    0.052052,    0.053053,    0.054054,    0.055055,    0.056056,    0.057057,    0.058058,    0.059059,     0.06006,    0.061061,    0.062062,    0.063063,    0.064064,    0.065065,    0.066066,    0.067067,    0.068068,    0.069069,     0.07007,    0.071071,\n",
              "          0.072072,    0.073073,    0.074074,    0.075075,    0.076076,    0.077077,    0.078078,    0.079079,     0.08008,    0.081081,    0.082082,    0.083083,    0.084084,    0.085085,    0.086086,    0.087087,    0.088088,    0.089089,     0.09009,    0.091091,    0.092092,    0.093093,    0.094094,    0.095095,\n",
              "          0.096096,    0.097097,    0.098098,    0.099099,      0.1001,      0.1011,      0.1021,      0.1031,      0.1041,     0.10511,     0.10611,     0.10711,     0.10811,     0.10911,     0.11011,     0.11111,     0.11211,     0.11311,     0.11411,     0.11512,     0.11612,     0.11712,     0.11812,     0.11912,\n",
              "           0.12012,     0.12112,     0.12212,     0.12312,     0.12412,     0.12513,     0.12613,     0.12713,     0.12813,     0.12913,     0.13013,     0.13113,     0.13213,     0.13313,     0.13413,     0.13514,     0.13614,     0.13714,     0.13814,     0.13914,     0.14014,     0.14114,     0.14214,     0.14314,\n",
              "           0.14414,     0.14515,     0.14615,     0.14715,     0.14815,     0.14915,     0.15015,     0.15115,     0.15215,     0.15315,     0.15415,     0.15516,     0.15616,     0.15716,     0.15816,     0.15916,     0.16016,     0.16116,     0.16216,     0.16316,     0.16416,     0.16517,     0.16617,     0.16717,\n",
              "           0.16817,     0.16917,     0.17017,     0.17117,     0.17217,     0.17317,     0.17417,     0.17518,     0.17618,     0.17718,     0.17818,     0.17918,     0.18018,     0.18118,     0.18218,     0.18318,     0.18418,     0.18519,     0.18619,     0.18719,     0.18819,     0.18919,     0.19019,     0.19119,\n",
              "           0.19219,     0.19319,     0.19419,      0.1952,      0.1962,      0.1972,      0.1982,      0.1992,      0.2002,      0.2012,      0.2022,      0.2032,      0.2042,     0.20521,     0.20621,     0.20721,     0.20821,     0.20921,     0.21021,     0.21121,     0.21221,     0.21321,     0.21421,     0.21522,\n",
              "           0.21622,     0.21722,     0.21822,     0.21922,     0.22022,     0.22122,     0.22222,     0.22322,     0.22422,     0.22523,     0.22623,     0.22723,     0.22823,     0.22923,     0.23023,     0.23123,     0.23223,     0.23323,     0.23423,     0.23524,     0.23624,     0.23724,     0.23824,     0.23924,\n",
              "           0.24024,     0.24124,     0.24224,     0.24324,     0.24424,     0.24525,     0.24625,     0.24725,     0.24825,     0.24925,     0.25025,     0.25125,     0.25225,     0.25325,     0.25425,     0.25526,     0.25626,     0.25726,     0.25826,     0.25926,     0.26026,     0.26126,     0.26226,     0.26326,\n",
              "           0.26426,     0.26527,     0.26627,     0.26727,     0.26827,     0.26927,     0.27027,     0.27127,     0.27227,     0.27327,     0.27427,     0.27528,     0.27628,     0.27728,     0.27828,     0.27928,     0.28028,     0.28128,     0.28228,     0.28328,     0.28428,     0.28529,     0.28629,     0.28729,\n",
              "           0.28829,     0.28929,     0.29029,     0.29129,     0.29229,     0.29329,     0.29429,      0.2953,      0.2963,      0.2973,      0.2983,      0.2993,      0.3003,      0.3013,      0.3023,      0.3033,      0.3043,     0.30531,     0.30631,     0.30731,     0.30831,     0.30931,     0.31031,     0.31131,\n",
              "           0.31231,     0.31331,     0.31431,     0.31532,     0.31632,     0.31732,     0.31832,     0.31932,     0.32032,     0.32132,     0.32232,     0.32332,     0.32432,     0.32533,     0.32633,     0.32733,     0.32833,     0.32933,     0.33033,     0.33133,     0.33233,     0.33333,     0.33433,     0.33534,\n",
              "           0.33634,     0.33734,     0.33834,     0.33934,     0.34034,     0.34134,     0.34234,     0.34334,     0.34434,     0.34535,     0.34635,     0.34735,     0.34835,     0.34935,     0.35035,     0.35135,     0.35235,     0.35335,     0.35435,     0.35536,     0.35636,     0.35736,     0.35836,     0.35936,\n",
              "           0.36036,     0.36136,     0.36236,     0.36336,     0.36436,     0.36537,     0.36637,     0.36737,     0.36837,     0.36937,     0.37037,     0.37137,     0.37237,     0.37337,     0.37437,     0.37538,     0.37638,     0.37738,     0.37838,     0.37938,     0.38038,     0.38138,     0.38238,     0.38338,\n",
              "           0.38438,     0.38539,     0.38639,     0.38739,     0.38839,     0.38939,     0.39039,     0.39139,     0.39239,     0.39339,     0.39439,      0.3954,      0.3964,      0.3974,      0.3984,      0.3994,      0.4004,      0.4014,      0.4024,      0.4034,      0.4044,     0.40541,     0.40641,     0.40741,\n",
              "           0.40841,     0.40941,     0.41041,     0.41141,     0.41241,     0.41341,     0.41441,     0.41542,     0.41642,     0.41742,     0.41842,     0.41942,     0.42042,     0.42142,     0.42242,     0.42342,     0.42442,     0.42543,     0.42643,     0.42743,     0.42843,     0.42943,     0.43043,     0.43143,\n",
              "           0.43243,     0.43343,     0.43443,     0.43544,     0.43644,     0.43744,     0.43844,     0.43944,     0.44044,     0.44144,     0.44244,     0.44344,     0.44444,     0.44545,     0.44645,     0.44745,     0.44845,     0.44945,     0.45045,     0.45145,     0.45245,     0.45345,     0.45445,     0.45546,\n",
              "           0.45646,     0.45746,     0.45846,     0.45946,     0.46046,     0.46146,     0.46246,     0.46346,     0.46446,     0.46547,     0.46647,     0.46747,     0.46847,     0.46947,     0.47047,     0.47147,     0.47247,     0.47347,     0.47447,     0.47548,     0.47648,     0.47748,     0.47848,     0.47948,\n",
              "           0.48048,     0.48148,     0.48248,     0.48348,     0.48448,     0.48549,     0.48649,     0.48749,     0.48849,     0.48949,     0.49049,     0.49149,     0.49249,     0.49349,     0.49449,      0.4955,      0.4965,      0.4975,      0.4985,      0.4995,      0.5005,      0.5015,      0.5025,      0.5035,\n",
              "            0.5045,     0.50551,     0.50651,     0.50751,     0.50851,     0.50951,     0.51051,     0.51151,     0.51251,     0.51351,     0.51451,     0.51552,     0.51652,     0.51752,     0.51852,     0.51952,     0.52052,     0.52152,     0.52252,     0.52352,     0.52452,     0.52553,     0.52653,     0.52753,\n",
              "           0.52853,     0.52953,     0.53053,     0.53153,     0.53253,     0.53353,     0.53453,     0.53554,     0.53654,     0.53754,     0.53854,     0.53954,     0.54054,     0.54154,     0.54254,     0.54354,     0.54454,     0.54555,     0.54655,     0.54755,     0.54855,     0.54955,     0.55055,     0.55155,\n",
              "           0.55255,     0.55355,     0.55455,     0.55556,     0.55656,     0.55756,     0.55856,     0.55956,     0.56056,     0.56156,     0.56256,     0.56356,     0.56456,     0.56557,     0.56657,     0.56757,     0.56857,     0.56957,     0.57057,     0.57157,     0.57257,     0.57357,     0.57457,     0.57558,\n",
              "           0.57658,     0.57758,     0.57858,     0.57958,     0.58058,     0.58158,     0.58258,     0.58358,     0.58458,     0.58559,     0.58659,     0.58759,     0.58859,     0.58959,     0.59059,     0.59159,     0.59259,     0.59359,     0.59459,      0.5956,      0.5966,      0.5976,      0.5986,      0.5996,\n",
              "            0.6006,      0.6016,      0.6026,      0.6036,      0.6046,     0.60561,     0.60661,     0.60761,     0.60861,     0.60961,     0.61061,     0.61161,     0.61261,     0.61361,     0.61461,     0.61562,     0.61662,     0.61762,     0.61862,     0.61962,     0.62062,     0.62162,     0.62262,     0.62362,\n",
              "           0.62462,     0.62563,     0.62663,     0.62763,     0.62863,     0.62963,     0.63063,     0.63163,     0.63263,     0.63363,     0.63463,     0.63564,     0.63664,     0.63764,     0.63864,     0.63964,     0.64064,     0.64164,     0.64264,     0.64364,     0.64464,     0.64565,     0.64665,     0.64765,\n",
              "           0.64865,     0.64965,     0.65065,     0.65165,     0.65265,     0.65365,     0.65465,     0.65566,     0.65666,     0.65766,     0.65866,     0.65966,     0.66066,     0.66166,     0.66266,     0.66366,     0.66466,     0.66567,     0.66667,     0.66767,     0.66867,     0.66967,     0.67067,     0.67167,\n",
              "           0.67267,     0.67367,     0.67467,     0.67568,     0.67668,     0.67768,     0.67868,     0.67968,     0.68068,     0.68168,     0.68268,     0.68368,     0.68468,     0.68569,     0.68669,     0.68769,     0.68869,     0.68969,     0.69069,     0.69169,     0.69269,     0.69369,     0.69469,      0.6957,\n",
              "            0.6967,      0.6977,      0.6987,      0.6997,      0.7007,      0.7017,      0.7027,      0.7037,      0.7047,     0.70571,     0.70671,     0.70771,     0.70871,     0.70971,     0.71071,     0.71171,     0.71271,     0.71371,     0.71471,     0.71572,     0.71672,     0.71772,     0.71872,     0.71972,\n",
              "           0.72072,     0.72172,     0.72272,     0.72372,     0.72472,     0.72573,     0.72673,     0.72773,     0.72873,     0.72973,     0.73073,     0.73173,     0.73273,     0.73373,     0.73473,     0.73574,     0.73674,     0.73774,     0.73874,     0.73974,     0.74074,     0.74174,     0.74274,     0.74374,\n",
              "           0.74474,     0.74575,     0.74675,     0.74775,     0.74875,     0.74975,     0.75075,     0.75175,     0.75275,     0.75375,     0.75475,     0.75576,     0.75676,     0.75776,     0.75876,     0.75976,     0.76076,     0.76176,     0.76276,     0.76376,     0.76476,     0.76577,     0.76677,     0.76777,\n",
              "           0.76877,     0.76977,     0.77077,     0.77177,     0.77277,     0.77377,     0.77477,     0.77578,     0.77678,     0.77778,     0.77878,     0.77978,     0.78078,     0.78178,     0.78278,     0.78378,     0.78478,     0.78579,     0.78679,     0.78779,     0.78879,     0.78979,     0.79079,     0.79179,\n",
              "           0.79279,     0.79379,     0.79479,      0.7958,      0.7968,      0.7978,      0.7988,      0.7998,      0.8008,      0.8018,      0.8028,      0.8038,      0.8048,     0.80581,     0.80681,     0.80781,     0.80881,     0.80981,     0.81081,     0.81181,     0.81281,     0.81381,     0.81481,     0.81582,\n",
              "           0.81682,     0.81782,     0.81882,     0.81982,     0.82082,     0.82182,     0.82282,     0.82382,     0.82482,     0.82583,     0.82683,     0.82783,     0.82883,     0.82983,     0.83083,     0.83183,     0.83283,     0.83383,     0.83483,     0.83584,     0.83684,     0.83784,     0.83884,     0.83984,\n",
              "           0.84084,     0.84184,     0.84284,     0.84384,     0.84484,     0.84585,     0.84685,     0.84785,     0.84885,     0.84985,     0.85085,     0.85185,     0.85285,     0.85385,     0.85485,     0.85586,     0.85686,     0.85786,     0.85886,     0.85986,     0.86086,     0.86186,     0.86286,     0.86386,\n",
              "           0.86486,     0.86587,     0.86687,     0.86787,     0.86887,     0.86987,     0.87087,     0.87187,     0.87287,     0.87387,     0.87487,     0.87588,     0.87688,     0.87788,     0.87888,     0.87988,     0.88088,     0.88188,     0.88288,     0.88388,     0.88488,     0.88589,     0.88689,     0.88789,\n",
              "           0.88889,     0.88989,     0.89089,     0.89189,     0.89289,     0.89389,     0.89489,      0.8959,      0.8969,      0.8979,      0.8989,      0.8999,      0.9009,      0.9019,      0.9029,      0.9039,      0.9049,     0.90591,     0.90691,     0.90791,     0.90891,     0.90991,     0.91091,     0.91191,\n",
              "           0.91291,     0.91391,     0.91491,     0.91592,     0.91692,     0.91792,     0.91892,     0.91992,     0.92092,     0.92192,     0.92292,     0.92392,     0.92492,     0.92593,     0.92693,     0.92793,     0.92893,     0.92993,     0.93093,     0.93193,     0.93293,     0.93393,     0.93493,     0.93594,\n",
              "           0.93694,     0.93794,     0.93894,     0.93994,     0.94094,     0.94194,     0.94294,     0.94394,     0.94494,     0.94595,     0.94695,     0.94795,     0.94895,     0.94995,     0.95095,     0.95195,     0.95295,     0.95395,     0.95495,     0.95596,     0.95696,     0.95796,     0.95896,     0.95996,\n",
              "           0.96096,     0.96196,     0.96296,     0.96396,     0.96496,     0.96597,     0.96697,     0.96797,     0.96897,     0.96997,     0.97097,     0.97197,     0.97297,     0.97397,     0.97497,     0.97598,     0.97698,     0.97798,     0.97898,     0.97998,     0.98098,     0.98198,     0.98298,     0.98398,\n",
              "           0.98498,     0.98599,     0.98699,     0.98799,     0.98899,     0.98999,     0.99099,     0.99199,     0.99299,     0.99399,     0.99499,       0.996,       0.997,       0.998,       0.999,           1]), array([[          1,           1,           1,           1,           1,           1,           1,           1,           1,           1,           1,           1,           1,           1,           1,           1,           1,           1,           1,           1,           1,           1,           1,\n",
              "                  1,           1,           1,           1,           1,           1,           1,           1,           1,           1,           1,           1,           1,           1,           1,           1,           1,           1,           1,           1,           1,           1,           1,\n",
              "                  1,           1,           1,           1,           1,           1,           1,           1,           1,           1,           1,           1,           1,           1,           1,           1,           1,           1,           1,           1,           1,           1,           1,\n",
              "                  1,           1,           1,           1,           1,           1,           1,           1,           1,           1,           1,           1,           1,           1,           1,           1,           1,           1,           1,           1,           1,           1,           1,\n",
              "                  1,           1,           1,           1,           1,           1,           1,           1,           1,           1,           1,           1,           1,           1,           1,           1,           1,           1,           1,           1,           1,           1,           1,\n",
              "                  1,           1,           1,           1,           1,           1,           1,           1,           1,           1,           1,           1,           1,           1,           1,           1,           1,           1,           1,           1,           1,           1,           1,\n",
              "                  1,           1,           1,           1,           1,           1,           1,           1,           1,           1,           1,           1,           1,           1,           1,           1,           1,           1,           1,           1,           1,           1,           1,\n",
              "                  1,           1,           1,           1,           1,           1,           1,           1,           1,           1,           1,           1,           1,           1,           1,           1,           1,           1,           1,           1,           1,           1,           1,\n",
              "                  1,           1,           1,           1,           1,           1,           1,           1,           1,           1,           1,           1,           1,           1,           1,           1,           1,           1,           1,           1,           1,           1,           1,\n",
              "                  1,           1,           1,           1,           1,           1,           1,           1,           1,           1,           1,           1,           1,           1,           1,           1,           1,           1,           1,           1,           1,           1,           1,\n",
              "                  1,           1,           1,           1,           1,           1,           1,           1,           1,           1,           1,           1,           1,           1,           1,           1,           1,           1,           1,           1,           1,           1,           1,\n",
              "                  1,           1,           1,           1,           1,           1,           1,           1,           1,           1,           1,           1,           1,           1,           1,           1,           1,           1,           1,           1,           1,           1,           1,\n",
              "                  1,           1,           1,           1,           1,           1,           1,           1,           1,           1,           1,           1,           1,           1,           1,           1,           1,           1,           1,           1,           1,           1,           1,\n",
              "                  1,           1,           1,           1,           1,           1,           1,           1,           1,           1,           1,           1,           1,           1,           1,           1,           1,           1,           1,           1,           1,           1,           1,\n",
              "                  1,           1,           1,           1,           1,           1,           1,           1,           1,           1,           1,           1,           1,           1,           1,           1,           1,           1,           1,           1,           1,           1,           1,\n",
              "                  1,           1,           1,           1,           1,           1,           1,           1,           1,           1,           1,           1,           1,           1,           1,           1,           1,           1,           1,           1,           1,           1,           1,\n",
              "                  1,           1,           1,           1,           1,           1,           1,           1,           1,           1,           1,           1,           1,           1,           1,           1,           1,           1,           1,           1,           1,           1,           1,\n",
              "                  1,           1,           1,           1,           1,           1,           1,           1,           1,           1,           1,           1,           1,           1,           1,           1,           1,           1,           1,           1,           1,           1,           1,\n",
              "                  1,           1,           1,           1,           1,           1,           1,           1,           1,           1,           1,           1,           1,           1,           1,           1,           1,           1,           1,           1,           1,           1,           1,\n",
              "                  1,           1,           1,           1,           1,           1,           1,           1,           1,           1,           1,           1,           1,           1,           1,           1,           1,           1,           1,           1,           1,           1,           1,\n",
              "                  1,           1,           1,           1,           1,           1,           1,           1,           1,           1,           1,           1,           1,           1,           1,           1,           1,           1,           1,           1,           1,           1,           1,\n",
              "                  1,           1,           1,           1,           1,           1,           1,           1,           1,           1,           1,           1,           1,           1,           1,           1,           1,           1,           1,           1,           1,           1,           1,\n",
              "                  1,           1,           1,           1,           1,           1,           1,           1,           1,           1,           1,           1,           1,           1,           1,           1,           1,           1,           1,           1,           1,           1,           1,\n",
              "                  1,           1,           1,           1,           1,           1,           1,           1,           1,           1,           1,           1,           1,           1,           1,           1,           1,           1,           1,           1,           1,           1,           1,\n",
              "                  1,           1,           1,           1,           1,           1,           1,           1,           1,           1,           1,           1,           1,           1,           1,           1,           1,           1,           1,           1,           1,           1,           1,\n",
              "                  1,           1,           1,           1,           1,           1,           1,           1,           1,           1,           1,           1,           1,           1,           1,           1,           1,           1,           1,           1,           1,           1,           1,\n",
              "                  1,           1,           1,           1,           1,           1,           1,           1,           1,           1,           1,           1,           1,           1,           1,           1,           1,           1,           1,           1,           1,           1,           1,\n",
              "                  1,           1,           1,           1,           1,           1,           1,           1,           1,           1,           1,           1,           1,           1,           1,           1,           1,           1,           1,           1,           1,           1,           1,\n",
              "                  1,           1,           1,           1,           1,           1,           1,           1,           1,           1,           1,           1,           1,           1,           1,           1,           1,           1,           1,           1,           1,           1,           1,\n",
              "                  1,           1,           1,           1,           1,           1,           1,           1,           1,           1,           1,           1,           1,           1,           1,           1,           1,           1,           1,           1,           1,           1,           1,\n",
              "                  1,           1,           1,           1,           1,           1,           1,           1,           1,           1,           1,           1,           1,           1,           1,           1,           1,           1,           1,           1,           1,           1,           1,\n",
              "                  1,           1,           1,           1,           1,           1,           1,           1,           1,           1,           1,           1,           1,           1,           1,           1,           1,           1,           1,           1,           1,           1,           1,\n",
              "                  1,           1,           1,           1,           1,           1,           1,           1,           1,           1,           1,           1,           1,           1,           1,           1,           1,           1,           1,           1,           1,           1,           1,\n",
              "                  1,           1,           1,           1,           1,           1,           1,           1,           1,           1,           1,           1,           1,           1,           1,           1,           1,           1,           1,           1,           1,           1,           1,\n",
              "                  1,           1,           1,           1,           1,           1,           1,           1,           1,           1,           1,           1,           1,           1,           1,           1,           1,           1,           1,           1,           1,           1,           1,\n",
              "                  1,           1,           1,           1,           1,           1,           1,           1,           1,           1,           1,           1,           1,           1,           1,           1,           1,           1,           1,           1,           1,           1,           1,\n",
              "                  1,           1,           1,           1,           1,           1,           1,           1,           1,           1,           1,           1,           1,           1,           1,           1,           1,           1,           1,           1,           1,           1,           1,\n",
              "                  1,           1,           1,           1,           1,           1,           1,           1,           1,           1,           1,           1,           1,           1,           1,           1,           1,           1,           1,           1,           1,           1,           1,\n",
              "                  1,           1,           1,           1,           1,           1,           1,           1,           1,           1,           1,           1,           1,           1,           1,           1,           1,           1,           1,           1,           1,           1,           1,\n",
              "                  1,           1,           1,           1,           1,           1,           1,           1,           1,           1,           1,           1,           1,           1,           1,           1,           1,           1,           1,           1,           1,           1,           1,\n",
              "                  1,           1,           1,           1,           1,           1,           1,           1,           1,           1,           1,           1,           1,           1,           1,           1,           1,           1,           1,           1,           1,           1,           1,\n",
              "                  1,           1,           1,           1,           1,           1,           1,           1,           1,           1,           1,           1,           1,           1,           1,           1,           1,           1,           1,           1,           1,           1,           1,\n",
              "                  1,           1,           1,           1,           1,           1,           1,           1,           1,           1,           1,           1,           1,           1,           1,           1,           1,           1,           1,           1,           1,           1,           1,\n",
              "                  1,           1,           1,           1,           1,           1,           1,           1,           1,           1,           0]]), 'Recall', 'Precision'], [array([          0,    0.001001,    0.002002,    0.003003,    0.004004,    0.005005,    0.006006,    0.007007,    0.008008,    0.009009,     0.01001,    0.011011,    0.012012,    0.013013,    0.014014,    0.015015,    0.016016,    0.017017,    0.018018,    0.019019,     0.02002,    0.021021,    0.022022,    0.023023,\n",
              "          0.024024,    0.025025,    0.026026,    0.027027,    0.028028,    0.029029,     0.03003,    0.031031,    0.032032,    0.033033,    0.034034,    0.035035,    0.036036,    0.037037,    0.038038,    0.039039,     0.04004,    0.041041,    0.042042,    0.043043,    0.044044,    0.045045,    0.046046,    0.047047,\n",
              "          0.048048,    0.049049,     0.05005,    0.051051,    0.052052,    0.053053,    0.054054,    0.055055,    0.056056,    0.057057,    0.058058,    0.059059,     0.06006,    0.061061,    0.062062,    0.063063,    0.064064,    0.065065,    0.066066,    0.067067,    0.068068,    0.069069,     0.07007,    0.071071,\n",
              "          0.072072,    0.073073,    0.074074,    0.075075,    0.076076,    0.077077,    0.078078,    0.079079,     0.08008,    0.081081,    0.082082,    0.083083,    0.084084,    0.085085,    0.086086,    0.087087,    0.088088,    0.089089,     0.09009,    0.091091,    0.092092,    0.093093,    0.094094,    0.095095,\n",
              "          0.096096,    0.097097,    0.098098,    0.099099,      0.1001,      0.1011,      0.1021,      0.1031,      0.1041,     0.10511,     0.10611,     0.10711,     0.10811,     0.10911,     0.11011,     0.11111,     0.11211,     0.11311,     0.11411,     0.11512,     0.11612,     0.11712,     0.11812,     0.11912,\n",
              "           0.12012,     0.12112,     0.12212,     0.12312,     0.12412,     0.12513,     0.12613,     0.12713,     0.12813,     0.12913,     0.13013,     0.13113,     0.13213,     0.13313,     0.13413,     0.13514,     0.13614,     0.13714,     0.13814,     0.13914,     0.14014,     0.14114,     0.14214,     0.14314,\n",
              "           0.14414,     0.14515,     0.14615,     0.14715,     0.14815,     0.14915,     0.15015,     0.15115,     0.15215,     0.15315,     0.15415,     0.15516,     0.15616,     0.15716,     0.15816,     0.15916,     0.16016,     0.16116,     0.16216,     0.16316,     0.16416,     0.16517,     0.16617,     0.16717,\n",
              "           0.16817,     0.16917,     0.17017,     0.17117,     0.17217,     0.17317,     0.17417,     0.17518,     0.17618,     0.17718,     0.17818,     0.17918,     0.18018,     0.18118,     0.18218,     0.18318,     0.18418,     0.18519,     0.18619,     0.18719,     0.18819,     0.18919,     0.19019,     0.19119,\n",
              "           0.19219,     0.19319,     0.19419,      0.1952,      0.1962,      0.1972,      0.1982,      0.1992,      0.2002,      0.2012,      0.2022,      0.2032,      0.2042,     0.20521,     0.20621,     0.20721,     0.20821,     0.20921,     0.21021,     0.21121,     0.21221,     0.21321,     0.21421,     0.21522,\n",
              "           0.21622,     0.21722,     0.21822,     0.21922,     0.22022,     0.22122,     0.22222,     0.22322,     0.22422,     0.22523,     0.22623,     0.22723,     0.22823,     0.22923,     0.23023,     0.23123,     0.23223,     0.23323,     0.23423,     0.23524,     0.23624,     0.23724,     0.23824,     0.23924,\n",
              "           0.24024,     0.24124,     0.24224,     0.24324,     0.24424,     0.24525,     0.24625,     0.24725,     0.24825,     0.24925,     0.25025,     0.25125,     0.25225,     0.25325,     0.25425,     0.25526,     0.25626,     0.25726,     0.25826,     0.25926,     0.26026,     0.26126,     0.26226,     0.26326,\n",
              "           0.26426,     0.26527,     0.26627,     0.26727,     0.26827,     0.26927,     0.27027,     0.27127,     0.27227,     0.27327,     0.27427,     0.27528,     0.27628,     0.27728,     0.27828,     0.27928,     0.28028,     0.28128,     0.28228,     0.28328,     0.28428,     0.28529,     0.28629,     0.28729,\n",
              "           0.28829,     0.28929,     0.29029,     0.29129,     0.29229,     0.29329,     0.29429,      0.2953,      0.2963,      0.2973,      0.2983,      0.2993,      0.3003,      0.3013,      0.3023,      0.3033,      0.3043,     0.30531,     0.30631,     0.30731,     0.30831,     0.30931,     0.31031,     0.31131,\n",
              "           0.31231,     0.31331,     0.31431,     0.31532,     0.31632,     0.31732,     0.31832,     0.31932,     0.32032,     0.32132,     0.32232,     0.32332,     0.32432,     0.32533,     0.32633,     0.32733,     0.32833,     0.32933,     0.33033,     0.33133,     0.33233,     0.33333,     0.33433,     0.33534,\n",
              "           0.33634,     0.33734,     0.33834,     0.33934,     0.34034,     0.34134,     0.34234,     0.34334,     0.34434,     0.34535,     0.34635,     0.34735,     0.34835,     0.34935,     0.35035,     0.35135,     0.35235,     0.35335,     0.35435,     0.35536,     0.35636,     0.35736,     0.35836,     0.35936,\n",
              "           0.36036,     0.36136,     0.36236,     0.36336,     0.36436,     0.36537,     0.36637,     0.36737,     0.36837,     0.36937,     0.37037,     0.37137,     0.37237,     0.37337,     0.37437,     0.37538,     0.37638,     0.37738,     0.37838,     0.37938,     0.38038,     0.38138,     0.38238,     0.38338,\n",
              "           0.38438,     0.38539,     0.38639,     0.38739,     0.38839,     0.38939,     0.39039,     0.39139,     0.39239,     0.39339,     0.39439,      0.3954,      0.3964,      0.3974,      0.3984,      0.3994,      0.4004,      0.4014,      0.4024,      0.4034,      0.4044,     0.40541,     0.40641,     0.40741,\n",
              "           0.40841,     0.40941,     0.41041,     0.41141,     0.41241,     0.41341,     0.41441,     0.41542,     0.41642,     0.41742,     0.41842,     0.41942,     0.42042,     0.42142,     0.42242,     0.42342,     0.42442,     0.42543,     0.42643,     0.42743,     0.42843,     0.42943,     0.43043,     0.43143,\n",
              "           0.43243,     0.43343,     0.43443,     0.43544,     0.43644,     0.43744,     0.43844,     0.43944,     0.44044,     0.44144,     0.44244,     0.44344,     0.44444,     0.44545,     0.44645,     0.44745,     0.44845,     0.44945,     0.45045,     0.45145,     0.45245,     0.45345,     0.45445,     0.45546,\n",
              "           0.45646,     0.45746,     0.45846,     0.45946,     0.46046,     0.46146,     0.46246,     0.46346,     0.46446,     0.46547,     0.46647,     0.46747,     0.46847,     0.46947,     0.47047,     0.47147,     0.47247,     0.47347,     0.47447,     0.47548,     0.47648,     0.47748,     0.47848,     0.47948,\n",
              "           0.48048,     0.48148,     0.48248,     0.48348,     0.48448,     0.48549,     0.48649,     0.48749,     0.48849,     0.48949,     0.49049,     0.49149,     0.49249,     0.49349,     0.49449,      0.4955,      0.4965,      0.4975,      0.4985,      0.4995,      0.5005,      0.5015,      0.5025,      0.5035,\n",
              "            0.5045,     0.50551,     0.50651,     0.50751,     0.50851,     0.50951,     0.51051,     0.51151,     0.51251,     0.51351,     0.51451,     0.51552,     0.51652,     0.51752,     0.51852,     0.51952,     0.52052,     0.52152,     0.52252,     0.52352,     0.52452,     0.52553,     0.52653,     0.52753,\n",
              "           0.52853,     0.52953,     0.53053,     0.53153,     0.53253,     0.53353,     0.53453,     0.53554,     0.53654,     0.53754,     0.53854,     0.53954,     0.54054,     0.54154,     0.54254,     0.54354,     0.54454,     0.54555,     0.54655,     0.54755,     0.54855,     0.54955,     0.55055,     0.55155,\n",
              "           0.55255,     0.55355,     0.55455,     0.55556,     0.55656,     0.55756,     0.55856,     0.55956,     0.56056,     0.56156,     0.56256,     0.56356,     0.56456,     0.56557,     0.56657,     0.56757,     0.56857,     0.56957,     0.57057,     0.57157,     0.57257,     0.57357,     0.57457,     0.57558,\n",
              "           0.57658,     0.57758,     0.57858,     0.57958,     0.58058,     0.58158,     0.58258,     0.58358,     0.58458,     0.58559,     0.58659,     0.58759,     0.58859,     0.58959,     0.59059,     0.59159,     0.59259,     0.59359,     0.59459,      0.5956,      0.5966,      0.5976,      0.5986,      0.5996,\n",
              "            0.6006,      0.6016,      0.6026,      0.6036,      0.6046,     0.60561,     0.60661,     0.60761,     0.60861,     0.60961,     0.61061,     0.61161,     0.61261,     0.61361,     0.61461,     0.61562,     0.61662,     0.61762,     0.61862,     0.61962,     0.62062,     0.62162,     0.62262,     0.62362,\n",
              "           0.62462,     0.62563,     0.62663,     0.62763,     0.62863,     0.62963,     0.63063,     0.63163,     0.63263,     0.63363,     0.63463,     0.63564,     0.63664,     0.63764,     0.63864,     0.63964,     0.64064,     0.64164,     0.64264,     0.64364,     0.64464,     0.64565,     0.64665,     0.64765,\n",
              "           0.64865,     0.64965,     0.65065,     0.65165,     0.65265,     0.65365,     0.65465,     0.65566,     0.65666,     0.65766,     0.65866,     0.65966,     0.66066,     0.66166,     0.66266,     0.66366,     0.66466,     0.66567,     0.66667,     0.66767,     0.66867,     0.66967,     0.67067,     0.67167,\n",
              "           0.67267,     0.67367,     0.67467,     0.67568,     0.67668,     0.67768,     0.67868,     0.67968,     0.68068,     0.68168,     0.68268,     0.68368,     0.68468,     0.68569,     0.68669,     0.68769,     0.68869,     0.68969,     0.69069,     0.69169,     0.69269,     0.69369,     0.69469,      0.6957,\n",
              "            0.6967,      0.6977,      0.6987,      0.6997,      0.7007,      0.7017,      0.7027,      0.7037,      0.7047,     0.70571,     0.70671,     0.70771,     0.70871,     0.70971,     0.71071,     0.71171,     0.71271,     0.71371,     0.71471,     0.71572,     0.71672,     0.71772,     0.71872,     0.71972,\n",
              "           0.72072,     0.72172,     0.72272,     0.72372,     0.72472,     0.72573,     0.72673,     0.72773,     0.72873,     0.72973,     0.73073,     0.73173,     0.73273,     0.73373,     0.73473,     0.73574,     0.73674,     0.73774,     0.73874,     0.73974,     0.74074,     0.74174,     0.74274,     0.74374,\n",
              "           0.74474,     0.74575,     0.74675,     0.74775,     0.74875,     0.74975,     0.75075,     0.75175,     0.75275,     0.75375,     0.75475,     0.75576,     0.75676,     0.75776,     0.75876,     0.75976,     0.76076,     0.76176,     0.76276,     0.76376,     0.76476,     0.76577,     0.76677,     0.76777,\n",
              "           0.76877,     0.76977,     0.77077,     0.77177,     0.77277,     0.77377,     0.77477,     0.77578,     0.77678,     0.77778,     0.77878,     0.77978,     0.78078,     0.78178,     0.78278,     0.78378,     0.78478,     0.78579,     0.78679,     0.78779,     0.78879,     0.78979,     0.79079,     0.79179,\n",
              "           0.79279,     0.79379,     0.79479,      0.7958,      0.7968,      0.7978,      0.7988,      0.7998,      0.8008,      0.8018,      0.8028,      0.8038,      0.8048,     0.80581,     0.80681,     0.80781,     0.80881,     0.80981,     0.81081,     0.81181,     0.81281,     0.81381,     0.81481,     0.81582,\n",
              "           0.81682,     0.81782,     0.81882,     0.81982,     0.82082,     0.82182,     0.82282,     0.82382,     0.82482,     0.82583,     0.82683,     0.82783,     0.82883,     0.82983,     0.83083,     0.83183,     0.83283,     0.83383,     0.83483,     0.83584,     0.83684,     0.83784,     0.83884,     0.83984,\n",
              "           0.84084,     0.84184,     0.84284,     0.84384,     0.84484,     0.84585,     0.84685,     0.84785,     0.84885,     0.84985,     0.85085,     0.85185,     0.85285,     0.85385,     0.85485,     0.85586,     0.85686,     0.85786,     0.85886,     0.85986,     0.86086,     0.86186,     0.86286,     0.86386,\n",
              "           0.86486,     0.86587,     0.86687,     0.86787,     0.86887,     0.86987,     0.87087,     0.87187,     0.87287,     0.87387,     0.87487,     0.87588,     0.87688,     0.87788,     0.87888,     0.87988,     0.88088,     0.88188,     0.88288,     0.88388,     0.88488,     0.88589,     0.88689,     0.88789,\n",
              "           0.88889,     0.88989,     0.89089,     0.89189,     0.89289,     0.89389,     0.89489,      0.8959,      0.8969,      0.8979,      0.8989,      0.8999,      0.9009,      0.9019,      0.9029,      0.9039,      0.9049,     0.90591,     0.90691,     0.90791,     0.90891,     0.90991,     0.91091,     0.91191,\n",
              "           0.91291,     0.91391,     0.91491,     0.91592,     0.91692,     0.91792,     0.91892,     0.91992,     0.92092,     0.92192,     0.92292,     0.92392,     0.92492,     0.92593,     0.92693,     0.92793,     0.92893,     0.92993,     0.93093,     0.93193,     0.93293,     0.93393,     0.93493,     0.93594,\n",
              "           0.93694,     0.93794,     0.93894,     0.93994,     0.94094,     0.94194,     0.94294,     0.94394,     0.94494,     0.94595,     0.94695,     0.94795,     0.94895,     0.94995,     0.95095,     0.95195,     0.95295,     0.95395,     0.95495,     0.95596,     0.95696,     0.95796,     0.95896,     0.95996,\n",
              "           0.96096,     0.96196,     0.96296,     0.96396,     0.96496,     0.96597,     0.96697,     0.96797,     0.96897,     0.96997,     0.97097,     0.97197,     0.97297,     0.97397,     0.97497,     0.97598,     0.97698,     0.97798,     0.97898,     0.97998,     0.98098,     0.98198,     0.98298,     0.98398,\n",
              "           0.98498,     0.98599,     0.98699,     0.98799,     0.98899,     0.98999,     0.99099,     0.99199,     0.99299,     0.99399,     0.99499,       0.996,       0.997,       0.998,       0.999,           1]), array([[  0.0072438,   0.0072508,    0.021707,    0.023222,    0.024865,    0.029633,     0.04091,    0.058671,    0.094135,     0.14289,     0.21339,     0.28949,     0.35712,     0.44341,     0.47475,     0.50036,     0.55896,       0.614,     0.66874,     0.68798,     0.72287,      0.7615,     0.77494,\n",
              "            0.78278,     0.81526,     0.83585,     0.85233,     0.85482,     0.85729,     0.85975,      0.8622,     0.86464,     0.86707,     0.86949,     0.87182,     0.87415,     0.87646,     0.87876,     0.88106,     0.88334,     0.88562,     0.88788,     0.88954,      0.8907,     0.89186,     0.89302,\n",
              "            0.89418,     0.89533,     0.89648,     0.89763,     0.89878,     0.89992,     0.90107,     0.90221,     0.90334,     0.90448,     0.90561,     0.90674,     0.90787,       0.909,     0.91027,     0.91155,     0.91283,      0.9141,     0.91538,     0.91665,     0.91791,     0.91918,     0.92044,\n",
              "            0.92169,     0.92295,      0.9242,     0.92545,      0.9267,     0.92794,     0.92918,     0.93034,     0.93106,     0.93177,     0.93249,      0.9332,     0.93391,     0.93463,     0.93534,     0.93605,     0.93676,     0.93746,     0.93817,     0.93888,     0.93958,     0.94029,     0.94099,\n",
              "            0.94169,     0.94239,      0.9431,     0.94379,     0.94449,     0.94519,     0.94589,     0.94658,     0.94728,     0.94797,     0.94867,     0.94936,     0.95005,     0.95074,     0.95143,     0.95212,     0.95251,     0.95273,     0.95294,     0.95316,     0.95337,     0.95359,      0.9538,\n",
              "            0.95401,     0.95423,     0.95444,     0.95466,     0.95487,     0.95508,      0.9553,     0.95551,     0.95572,     0.95594,     0.95615,     0.95636,     0.95657,     0.95679,       0.957,     0.95721,     0.95743,     0.95764,     0.95785,     0.95806,     0.95827,     0.95849,      0.9587,\n",
              "            0.95891,     0.95912,     0.95933,     0.95955,     0.95976,     0.95997,     0.96018,     0.96039,      0.9606,     0.96081,     0.96103,     0.96124,     0.96145,     0.96166,     0.96187,     0.96208,     0.96229,      0.9625,     0.96271,     0.96292,     0.96313,     0.96334,     0.96355,\n",
              "            0.96376,     0.96397,     0.96418,     0.96439,      0.9646,     0.96481,     0.96502,     0.96523,     0.96544,     0.96565,     0.96586,     0.96607,     0.96628,     0.96649,     0.96669,      0.9669,     0.96711,     0.96732,     0.96753,     0.96774,     0.96794,     0.96815,     0.96836,\n",
              "            0.96857,     0.96878,     0.96899,     0.96919,      0.9694,     0.96961,     0.96982,     0.97002,     0.97023,     0.97044,     0.97065,     0.97085,     0.97106,     0.97127,     0.97147,     0.97168,     0.97189,     0.97209,      0.9723,     0.97251,     0.97271,     0.97292,     0.97313,\n",
              "            0.97333,     0.97354,     0.97374,     0.97395,     0.97416,     0.97436,     0.97457,     0.97477,     0.97498,     0.97518,     0.97539,     0.97559,     0.97565,     0.97569,     0.97573,     0.97577,     0.97581,     0.97585,     0.97589,     0.97593,     0.97597,     0.97601,     0.97606,\n",
              "             0.9761,     0.97614,     0.97618,     0.97622,     0.97626,      0.9763,     0.97634,     0.97638,     0.97642,     0.97646,      0.9765,     0.97654,     0.97659,     0.97663,     0.97667,     0.97671,     0.97675,     0.97679,     0.97683,     0.97687,     0.97691,     0.97695,     0.97699,\n",
              "            0.97703,     0.97707,     0.97711,     0.97716,      0.9772,     0.97724,     0.97728,     0.97732,     0.97736,      0.9774,     0.97744,     0.97748,     0.97752,     0.97756,      0.9776,     0.97764,     0.97768,     0.97773,     0.97777,     0.97781,     0.97785,     0.97789,     0.97793,\n",
              "            0.97797,     0.97801,     0.97805,     0.97809,     0.97813,     0.97817,     0.97821,     0.97825,     0.97829,     0.97833,     0.97838,     0.97842,     0.97846,      0.9785,     0.97854,     0.97858,     0.97862,     0.97866,      0.9787,     0.97874,     0.97878,     0.97882,     0.97886,\n",
              "             0.9789,     0.97894,     0.97898,     0.97902,     0.97907,     0.97911,     0.97915,     0.97919,     0.97923,     0.97927,     0.97931,     0.97935,     0.97939,     0.97943,     0.97947,     0.97951,     0.97955,     0.97959,     0.97963,     0.97967,     0.97971,     0.97975,     0.97979,\n",
              "            0.97984,     0.97988,     0.97992,     0.97996,        0.98,     0.98004,     0.98008,     0.98012,     0.98016,      0.9802,     0.98024,     0.98028,     0.98032,     0.98036,      0.9804,     0.98044,     0.98048,     0.98052,     0.98056,      0.9806,     0.98064,     0.98068,     0.98073,\n",
              "            0.98077,     0.98081,     0.98085,     0.98089,     0.98093,     0.98097,     0.98101,     0.98105,     0.98109,     0.98113,     0.98117,     0.98121,     0.98125,     0.98129,     0.98133,     0.98137,     0.98141,     0.98145,     0.98149,     0.98153,     0.98157,     0.98161,     0.98165,\n",
              "            0.98169,     0.98173,     0.98177,     0.98182,     0.98186,      0.9819,     0.98194,     0.98198,     0.98202,     0.98206,      0.9821,     0.98214,     0.98218,     0.98222,     0.98226,      0.9823,     0.98234,     0.98238,     0.98242,     0.98246,      0.9825,     0.98254,     0.98258,\n",
              "            0.98262,     0.98266,      0.9827,     0.98274,     0.98278,     0.98282,     0.98286,      0.9829,     0.98294,     0.98298,     0.98302,     0.98306,      0.9831,     0.98314,     0.98318,     0.98322,     0.98327,     0.98331,     0.98335,     0.98339,     0.98343,     0.98347,     0.98351,\n",
              "            0.98355,     0.98359,     0.98363,     0.98367,     0.98371,     0.98375,     0.98379,     0.98383,     0.98387,     0.98391,     0.98395,     0.98399,     0.98403,     0.98407,     0.98411,     0.98415,     0.98419,     0.98423,     0.98427,     0.98431,     0.98435,     0.98439,     0.98443,\n",
              "            0.98447,     0.98451,     0.98455,     0.98459,     0.98463,     0.98467,     0.98471,     0.98475,     0.98479,     0.98483,     0.98487,     0.98491,     0.98495,     0.98499,     0.98503,     0.98507,     0.98511,     0.98515,     0.98519,     0.98523,     0.98527,     0.98531,     0.98535,\n",
              "            0.98539,     0.98543,     0.98547,     0.98551,     0.98555,     0.98559,     0.98563,     0.98567,     0.98571,     0.98575,     0.98579,     0.98583,     0.98587,     0.98591,     0.98595,     0.98599,     0.98603,     0.98607,     0.98611,     0.98615,     0.98619,     0.98623,     0.98627,\n",
              "            0.98631,     0.98635,     0.98639,     0.98643,     0.98647,     0.98651,     0.98655,     0.98659,     0.98663,     0.98667,     0.98671,     0.98675,     0.98679,     0.98683,     0.98687,     0.98691,     0.98695,     0.98699,     0.98703,     0.98707,     0.98711,     0.98715,     0.98719,\n",
              "            0.98723,     0.98727,     0.98731,     0.98735,     0.98739,     0.98743,     0.98747,     0.98751,     0.98755,     0.98759,     0.98763,     0.98767,     0.98771,     0.98775,     0.98779,     0.98783,     0.98787,     0.98791,     0.98795,     0.98799,     0.98803,     0.98807,     0.98811,\n",
              "            0.98815,     0.98819,     0.98823,     0.98827,     0.98831,     0.98835,     0.98839,     0.98843,     0.98847,     0.98851,     0.98855,     0.98859,     0.98863,     0.98867,     0.98871,     0.98875,     0.98879,     0.98882,     0.98886,      0.9889,     0.98894,     0.98898,     0.98902,\n",
              "            0.98906,      0.9891,     0.98914,     0.98918,     0.98922,     0.98926,      0.9893,     0.98934,     0.98938,     0.98942,     0.98946,      0.9895,     0.98954,     0.98958,     0.98962,     0.98966,      0.9897,     0.98974,     0.98978,     0.98982,     0.98986,      0.9899,     0.98994,\n",
              "            0.98998,     0.99002,     0.99006,      0.9901,     0.99014,     0.99018,     0.99022,     0.99025,     0.99029,     0.99033,     0.99037,     0.99041,     0.99045,     0.99049,     0.99053,     0.99057,     0.99061,     0.99065,     0.99069,     0.99073,     0.99077,     0.99081,     0.99085,\n",
              "            0.99089,     0.99093,     0.99097,     0.99101,     0.99105,     0.99109,     0.99113,     0.99117,     0.99121,     0.99125,     0.99129,     0.99132,     0.99136,      0.9914,     0.99144,     0.99148,     0.99152,     0.99156,      0.9916,     0.99164,     0.99168,     0.99172,     0.99176,\n",
              "             0.9918,     0.99184,     0.99188,     0.99192,     0.99196,       0.992,     0.99204,     0.99208,     0.99212,     0.99216,     0.99219,     0.99223,     0.99227,     0.99231,     0.99235,     0.99239,     0.99243,     0.99247,     0.99251,     0.99255,     0.99259,     0.99263,     0.99267,\n",
              "            0.99271,     0.99275,     0.99279,     0.99283,     0.99287,     0.99291,     0.99295,     0.99298,     0.99302,     0.99306,      0.9931,     0.99314,     0.99318,     0.99322,     0.99326,      0.9933,     0.99334,     0.99338,     0.99342,     0.99346,      0.9935,     0.99354,     0.99358,\n",
              "            0.99362,     0.99365,     0.99369,     0.99373,     0.99377,     0.99381,     0.99385,     0.99389,     0.99393,     0.99397,     0.99401,     0.99405,     0.99409,     0.99413,     0.99417,     0.99421,     0.99425,     0.99428,     0.99432,     0.99436,      0.9944,     0.99444,     0.99448,\n",
              "            0.99452,     0.99456,      0.9946,     0.99464,     0.99468,     0.99472,     0.99476,      0.9948,     0.99484,     0.99487,     0.99491,     0.99495,     0.99499,     0.99503,     0.99507,     0.99511,     0.99515,     0.99519,     0.99523,     0.99527,     0.99531,     0.99535,     0.99539,\n",
              "            0.99542,     0.99546,      0.9955,     0.99554,     0.99558,     0.99562,     0.99566,      0.9957,     0.99574,     0.99578,     0.99582,     0.99586,      0.9959,     0.99593,     0.99597,     0.99601,     0.99605,     0.99609,     0.99613,     0.99617,     0.99621,     0.99625,     0.99629,\n",
              "            0.99633,     0.99637,     0.99641,     0.99644,     0.99648,     0.99652,     0.99656,      0.9966,     0.99664,     0.99668,     0.99672,     0.99676,      0.9968,     0.99684,     0.99688,     0.99691,     0.99695,     0.99699,     0.99703,     0.99707,     0.99711,     0.99715,     0.99719,\n",
              "            0.99723,     0.99727,     0.99731,     0.99734,     0.99738,     0.99742,     0.99746,      0.9975,     0.99754,     0.99758,     0.99762,     0.99766,      0.9977,     0.99774,     0.99777,     0.99781,     0.99785,     0.99789,     0.99793,     0.99797,     0.99801,     0.99805,     0.99809,\n",
              "            0.99813,     0.99817,      0.9982,     0.99824,     0.99828,     0.99832,     0.99836,      0.9984,     0.99844,     0.99848,     0.99852,     0.99856,     0.99859,     0.99863,     0.99867,     0.99871,     0.99875,     0.99879,     0.99883,     0.99887,     0.99891,     0.99895,     0.99898,\n",
              "            0.99902,     0.99906,      0.9991,     0.99914,     0.99918,     0.99922,     0.99926,      0.9993,     0.99934,     0.99937,     0.99941,     0.99945,     0.99949,     0.99953,     0.99957,     0.99961,     0.99965,     0.99969,     0.99973,     0.99976,      0.9998,     0.99984,     0.99988,\n",
              "            0.99992,     0.99996,           1,     0.99902,     0.99798,     0.99693,     0.99588,     0.99483,     0.99378,     0.99272,     0.99166,      0.9906,     0.98954,     0.98847,      0.9874,     0.98633,     0.98526,     0.98419,     0.98311,     0.98203,     0.98095,     0.97987,     0.97878,\n",
              "            0.97769,      0.9766,     0.97551,     0.97441,     0.97378,     0.97316,     0.97254,     0.97193,     0.97131,     0.97069,     0.97007,     0.96945,     0.96883,     0.96821,     0.96758,     0.96696,     0.96634,     0.96571,     0.96509,     0.96446,     0.96383,      0.9632,     0.96258,\n",
              "            0.96195,     0.96132,     0.96069,     0.96005,     0.95942,     0.95879,     0.95815,     0.95752,     0.95688,     0.95625,     0.95561,     0.95497,     0.95433,      0.9537,     0.95305,     0.95241,     0.95177,     0.95113,     0.95049,     0.94984,      0.9492,     0.94855,     0.94791,\n",
              "             0.9469,     0.94414,     0.94136,     0.93857,     0.93576,     0.93294,     0.93011,     0.92726,     0.92439,     0.92151,     0.91867,      0.9163,     0.91393,     0.91154,     0.90914,     0.90673,     0.90431,     0.90188,     0.89944,     0.89699,     0.89452,     0.89205,     0.88956,\n",
              "            0.88533,     0.88041,     0.87545,     0.87045,      0.8654,      0.8603,     0.85356,     0.84414,     0.83456,     0.82482,     0.81799,     0.81155,     0.80504,     0.79845,      0.7918,     0.78526,     0.77891,     0.77251,     0.76603,     0.75948,     0.75287,     0.74213,     0.72807,\n",
              "             0.7137,     0.68912,     0.66248,     0.64434,      0.6257,     0.56549,      0.5512,     0.53662,     0.52174,     0.51449,     0.50932,     0.50413,     0.49889,     0.49362,     0.48832,     0.48297,     0.47759,     0.47217,     0.46671,     0.45705,     0.39552,     0.37891,     0.36195,\n",
              "            0.34464,     0.31676,     0.26869,     0.23802,     0.21012,     0.18055,      0.1044,           0,           0,           0,           0,           0,           0,           0,           0,           0,           0,           0,           0,           0,           0,           0,           0,\n",
              "                  0,           0,           0,           0,           0,           0,           0,           0,           0,           0,           0]]), 'Confidence', 'F1'], [array([          0,    0.001001,    0.002002,    0.003003,    0.004004,    0.005005,    0.006006,    0.007007,    0.008008,    0.009009,     0.01001,    0.011011,    0.012012,    0.013013,    0.014014,    0.015015,    0.016016,    0.017017,    0.018018,    0.019019,     0.02002,    0.021021,    0.022022,    0.023023,\n",
              "          0.024024,    0.025025,    0.026026,    0.027027,    0.028028,    0.029029,     0.03003,    0.031031,    0.032032,    0.033033,    0.034034,    0.035035,    0.036036,    0.037037,    0.038038,    0.039039,     0.04004,    0.041041,    0.042042,    0.043043,    0.044044,    0.045045,    0.046046,    0.047047,\n",
              "          0.048048,    0.049049,     0.05005,    0.051051,    0.052052,    0.053053,    0.054054,    0.055055,    0.056056,    0.057057,    0.058058,    0.059059,     0.06006,    0.061061,    0.062062,    0.063063,    0.064064,    0.065065,    0.066066,    0.067067,    0.068068,    0.069069,     0.07007,    0.071071,\n",
              "          0.072072,    0.073073,    0.074074,    0.075075,    0.076076,    0.077077,    0.078078,    0.079079,     0.08008,    0.081081,    0.082082,    0.083083,    0.084084,    0.085085,    0.086086,    0.087087,    0.088088,    0.089089,     0.09009,    0.091091,    0.092092,    0.093093,    0.094094,    0.095095,\n",
              "          0.096096,    0.097097,    0.098098,    0.099099,      0.1001,      0.1011,      0.1021,      0.1031,      0.1041,     0.10511,     0.10611,     0.10711,     0.10811,     0.10911,     0.11011,     0.11111,     0.11211,     0.11311,     0.11411,     0.11512,     0.11612,     0.11712,     0.11812,     0.11912,\n",
              "           0.12012,     0.12112,     0.12212,     0.12312,     0.12412,     0.12513,     0.12613,     0.12713,     0.12813,     0.12913,     0.13013,     0.13113,     0.13213,     0.13313,     0.13413,     0.13514,     0.13614,     0.13714,     0.13814,     0.13914,     0.14014,     0.14114,     0.14214,     0.14314,\n",
              "           0.14414,     0.14515,     0.14615,     0.14715,     0.14815,     0.14915,     0.15015,     0.15115,     0.15215,     0.15315,     0.15415,     0.15516,     0.15616,     0.15716,     0.15816,     0.15916,     0.16016,     0.16116,     0.16216,     0.16316,     0.16416,     0.16517,     0.16617,     0.16717,\n",
              "           0.16817,     0.16917,     0.17017,     0.17117,     0.17217,     0.17317,     0.17417,     0.17518,     0.17618,     0.17718,     0.17818,     0.17918,     0.18018,     0.18118,     0.18218,     0.18318,     0.18418,     0.18519,     0.18619,     0.18719,     0.18819,     0.18919,     0.19019,     0.19119,\n",
              "           0.19219,     0.19319,     0.19419,      0.1952,      0.1962,      0.1972,      0.1982,      0.1992,      0.2002,      0.2012,      0.2022,      0.2032,      0.2042,     0.20521,     0.20621,     0.20721,     0.20821,     0.20921,     0.21021,     0.21121,     0.21221,     0.21321,     0.21421,     0.21522,\n",
              "           0.21622,     0.21722,     0.21822,     0.21922,     0.22022,     0.22122,     0.22222,     0.22322,     0.22422,     0.22523,     0.22623,     0.22723,     0.22823,     0.22923,     0.23023,     0.23123,     0.23223,     0.23323,     0.23423,     0.23524,     0.23624,     0.23724,     0.23824,     0.23924,\n",
              "           0.24024,     0.24124,     0.24224,     0.24324,     0.24424,     0.24525,     0.24625,     0.24725,     0.24825,     0.24925,     0.25025,     0.25125,     0.25225,     0.25325,     0.25425,     0.25526,     0.25626,     0.25726,     0.25826,     0.25926,     0.26026,     0.26126,     0.26226,     0.26326,\n",
              "           0.26426,     0.26527,     0.26627,     0.26727,     0.26827,     0.26927,     0.27027,     0.27127,     0.27227,     0.27327,     0.27427,     0.27528,     0.27628,     0.27728,     0.27828,     0.27928,     0.28028,     0.28128,     0.28228,     0.28328,     0.28428,     0.28529,     0.28629,     0.28729,\n",
              "           0.28829,     0.28929,     0.29029,     0.29129,     0.29229,     0.29329,     0.29429,      0.2953,      0.2963,      0.2973,      0.2983,      0.2993,      0.3003,      0.3013,      0.3023,      0.3033,      0.3043,     0.30531,     0.30631,     0.30731,     0.30831,     0.30931,     0.31031,     0.31131,\n",
              "           0.31231,     0.31331,     0.31431,     0.31532,     0.31632,     0.31732,     0.31832,     0.31932,     0.32032,     0.32132,     0.32232,     0.32332,     0.32432,     0.32533,     0.32633,     0.32733,     0.32833,     0.32933,     0.33033,     0.33133,     0.33233,     0.33333,     0.33433,     0.33534,\n",
              "           0.33634,     0.33734,     0.33834,     0.33934,     0.34034,     0.34134,     0.34234,     0.34334,     0.34434,     0.34535,     0.34635,     0.34735,     0.34835,     0.34935,     0.35035,     0.35135,     0.35235,     0.35335,     0.35435,     0.35536,     0.35636,     0.35736,     0.35836,     0.35936,\n",
              "           0.36036,     0.36136,     0.36236,     0.36336,     0.36436,     0.36537,     0.36637,     0.36737,     0.36837,     0.36937,     0.37037,     0.37137,     0.37237,     0.37337,     0.37437,     0.37538,     0.37638,     0.37738,     0.37838,     0.37938,     0.38038,     0.38138,     0.38238,     0.38338,\n",
              "           0.38438,     0.38539,     0.38639,     0.38739,     0.38839,     0.38939,     0.39039,     0.39139,     0.39239,     0.39339,     0.39439,      0.3954,      0.3964,      0.3974,      0.3984,      0.3994,      0.4004,      0.4014,      0.4024,      0.4034,      0.4044,     0.40541,     0.40641,     0.40741,\n",
              "           0.40841,     0.40941,     0.41041,     0.41141,     0.41241,     0.41341,     0.41441,     0.41542,     0.41642,     0.41742,     0.41842,     0.41942,     0.42042,     0.42142,     0.42242,     0.42342,     0.42442,     0.42543,     0.42643,     0.42743,     0.42843,     0.42943,     0.43043,     0.43143,\n",
              "           0.43243,     0.43343,     0.43443,     0.43544,     0.43644,     0.43744,     0.43844,     0.43944,     0.44044,     0.44144,     0.44244,     0.44344,     0.44444,     0.44545,     0.44645,     0.44745,     0.44845,     0.44945,     0.45045,     0.45145,     0.45245,     0.45345,     0.45445,     0.45546,\n",
              "           0.45646,     0.45746,     0.45846,     0.45946,     0.46046,     0.46146,     0.46246,     0.46346,     0.46446,     0.46547,     0.46647,     0.46747,     0.46847,     0.46947,     0.47047,     0.47147,     0.47247,     0.47347,     0.47447,     0.47548,     0.47648,     0.47748,     0.47848,     0.47948,\n",
              "           0.48048,     0.48148,     0.48248,     0.48348,     0.48448,     0.48549,     0.48649,     0.48749,     0.48849,     0.48949,     0.49049,     0.49149,     0.49249,     0.49349,     0.49449,      0.4955,      0.4965,      0.4975,      0.4985,      0.4995,      0.5005,      0.5015,      0.5025,      0.5035,\n",
              "            0.5045,     0.50551,     0.50651,     0.50751,     0.50851,     0.50951,     0.51051,     0.51151,     0.51251,     0.51351,     0.51451,     0.51552,     0.51652,     0.51752,     0.51852,     0.51952,     0.52052,     0.52152,     0.52252,     0.52352,     0.52452,     0.52553,     0.52653,     0.52753,\n",
              "           0.52853,     0.52953,     0.53053,     0.53153,     0.53253,     0.53353,     0.53453,     0.53554,     0.53654,     0.53754,     0.53854,     0.53954,     0.54054,     0.54154,     0.54254,     0.54354,     0.54454,     0.54555,     0.54655,     0.54755,     0.54855,     0.54955,     0.55055,     0.55155,\n",
              "           0.55255,     0.55355,     0.55455,     0.55556,     0.55656,     0.55756,     0.55856,     0.55956,     0.56056,     0.56156,     0.56256,     0.56356,     0.56456,     0.56557,     0.56657,     0.56757,     0.56857,     0.56957,     0.57057,     0.57157,     0.57257,     0.57357,     0.57457,     0.57558,\n",
              "           0.57658,     0.57758,     0.57858,     0.57958,     0.58058,     0.58158,     0.58258,     0.58358,     0.58458,     0.58559,     0.58659,     0.58759,     0.58859,     0.58959,     0.59059,     0.59159,     0.59259,     0.59359,     0.59459,      0.5956,      0.5966,      0.5976,      0.5986,      0.5996,\n",
              "            0.6006,      0.6016,      0.6026,      0.6036,      0.6046,     0.60561,     0.60661,     0.60761,     0.60861,     0.60961,     0.61061,     0.61161,     0.61261,     0.61361,     0.61461,     0.61562,     0.61662,     0.61762,     0.61862,     0.61962,     0.62062,     0.62162,     0.62262,     0.62362,\n",
              "           0.62462,     0.62563,     0.62663,     0.62763,     0.62863,     0.62963,     0.63063,     0.63163,     0.63263,     0.63363,     0.63463,     0.63564,     0.63664,     0.63764,     0.63864,     0.63964,     0.64064,     0.64164,     0.64264,     0.64364,     0.64464,     0.64565,     0.64665,     0.64765,\n",
              "           0.64865,     0.64965,     0.65065,     0.65165,     0.65265,     0.65365,     0.65465,     0.65566,     0.65666,     0.65766,     0.65866,     0.65966,     0.66066,     0.66166,     0.66266,     0.66366,     0.66466,     0.66567,     0.66667,     0.66767,     0.66867,     0.66967,     0.67067,     0.67167,\n",
              "           0.67267,     0.67367,     0.67467,     0.67568,     0.67668,     0.67768,     0.67868,     0.67968,     0.68068,     0.68168,     0.68268,     0.68368,     0.68468,     0.68569,     0.68669,     0.68769,     0.68869,     0.68969,     0.69069,     0.69169,     0.69269,     0.69369,     0.69469,      0.6957,\n",
              "            0.6967,      0.6977,      0.6987,      0.6997,      0.7007,      0.7017,      0.7027,      0.7037,      0.7047,     0.70571,     0.70671,     0.70771,     0.70871,     0.70971,     0.71071,     0.71171,     0.71271,     0.71371,     0.71471,     0.71572,     0.71672,     0.71772,     0.71872,     0.71972,\n",
              "           0.72072,     0.72172,     0.72272,     0.72372,     0.72472,     0.72573,     0.72673,     0.72773,     0.72873,     0.72973,     0.73073,     0.73173,     0.73273,     0.73373,     0.73473,     0.73574,     0.73674,     0.73774,     0.73874,     0.73974,     0.74074,     0.74174,     0.74274,     0.74374,\n",
              "           0.74474,     0.74575,     0.74675,     0.74775,     0.74875,     0.74975,     0.75075,     0.75175,     0.75275,     0.75375,     0.75475,     0.75576,     0.75676,     0.75776,     0.75876,     0.75976,     0.76076,     0.76176,     0.76276,     0.76376,     0.76476,     0.76577,     0.76677,     0.76777,\n",
              "           0.76877,     0.76977,     0.77077,     0.77177,     0.77277,     0.77377,     0.77477,     0.77578,     0.77678,     0.77778,     0.77878,     0.77978,     0.78078,     0.78178,     0.78278,     0.78378,     0.78478,     0.78579,     0.78679,     0.78779,     0.78879,     0.78979,     0.79079,     0.79179,\n",
              "           0.79279,     0.79379,     0.79479,      0.7958,      0.7968,      0.7978,      0.7988,      0.7998,      0.8008,      0.8018,      0.8028,      0.8038,      0.8048,     0.80581,     0.80681,     0.80781,     0.80881,     0.80981,     0.81081,     0.81181,     0.81281,     0.81381,     0.81481,     0.81582,\n",
              "           0.81682,     0.81782,     0.81882,     0.81982,     0.82082,     0.82182,     0.82282,     0.82382,     0.82482,     0.82583,     0.82683,     0.82783,     0.82883,     0.82983,     0.83083,     0.83183,     0.83283,     0.83383,     0.83483,     0.83584,     0.83684,     0.83784,     0.83884,     0.83984,\n",
              "           0.84084,     0.84184,     0.84284,     0.84384,     0.84484,     0.84585,     0.84685,     0.84785,     0.84885,     0.84985,     0.85085,     0.85185,     0.85285,     0.85385,     0.85485,     0.85586,     0.85686,     0.85786,     0.85886,     0.85986,     0.86086,     0.86186,     0.86286,     0.86386,\n",
              "           0.86486,     0.86587,     0.86687,     0.86787,     0.86887,     0.86987,     0.87087,     0.87187,     0.87287,     0.87387,     0.87487,     0.87588,     0.87688,     0.87788,     0.87888,     0.87988,     0.88088,     0.88188,     0.88288,     0.88388,     0.88488,     0.88589,     0.88689,     0.88789,\n",
              "           0.88889,     0.88989,     0.89089,     0.89189,     0.89289,     0.89389,     0.89489,      0.8959,      0.8969,      0.8979,      0.8989,      0.8999,      0.9009,      0.9019,      0.9029,      0.9039,      0.9049,     0.90591,     0.90691,     0.90791,     0.90891,     0.90991,     0.91091,     0.91191,\n",
              "           0.91291,     0.91391,     0.91491,     0.91592,     0.91692,     0.91792,     0.91892,     0.91992,     0.92092,     0.92192,     0.92292,     0.92392,     0.92492,     0.92593,     0.92693,     0.92793,     0.92893,     0.92993,     0.93093,     0.93193,     0.93293,     0.93393,     0.93493,     0.93594,\n",
              "           0.93694,     0.93794,     0.93894,     0.93994,     0.94094,     0.94194,     0.94294,     0.94394,     0.94494,     0.94595,     0.94695,     0.94795,     0.94895,     0.94995,     0.95095,     0.95195,     0.95295,     0.95395,     0.95495,     0.95596,     0.95696,     0.95796,     0.95896,     0.95996,\n",
              "           0.96096,     0.96196,     0.96296,     0.96396,     0.96496,     0.96597,     0.96697,     0.96797,     0.96897,     0.96997,     0.97097,     0.97197,     0.97297,     0.97397,     0.97497,     0.97598,     0.97698,     0.97798,     0.97898,     0.97998,     0.98098,     0.98198,     0.98298,     0.98398,\n",
              "           0.98498,     0.98599,     0.98699,     0.98799,     0.98899,     0.98999,     0.99099,     0.99199,     0.99299,     0.99399,     0.99499,       0.996,       0.997,       0.998,       0.999,           1]), array([[   0.003635,   0.0036386,    0.010973,    0.011747,    0.012589,    0.015039,    0.020882,    0.030222,    0.049393,    0.076942,     0.11944,     0.16924,     0.21738,     0.28486,     0.31126,     0.33366,     0.38789,       0.443,     0.50234,     0.52437,     0.56601,     0.61486,     0.63258,\n",
              "            0.64309,     0.68814,     0.71799,     0.74267,     0.74644,     0.75022,       0.754,     0.75778,     0.76155,     0.76533,     0.76911,     0.77277,     0.77643,     0.78009,     0.78374,      0.7874,     0.79106,     0.79471,     0.79837,     0.80105,     0.80294,     0.80483,     0.80672,\n",
              "            0.80861,      0.8105,     0.81239,     0.81428,     0.81617,     0.81806,     0.81995,     0.82184,     0.82373,     0.82562,     0.82751,     0.82939,     0.83128,     0.83317,     0.83531,     0.83747,     0.83963,      0.8418,     0.84396,     0.84612,     0.84828,     0.85044,      0.8526,\n",
              "            0.85476,     0.85692,     0.85908,     0.86124,      0.8634,     0.86557,     0.86773,     0.86975,     0.87101,     0.87226,     0.87351,     0.87477,     0.87602,     0.87727,     0.87853,     0.87978,     0.88104,     0.88229,     0.88354,      0.8848,     0.88605,      0.8873,     0.88856,\n",
              "            0.88981,     0.89106,     0.89232,     0.89357,     0.89483,     0.89608,     0.89733,     0.89859,     0.89984,     0.90109,     0.90235,      0.9036,     0.90485,     0.90611,     0.90736,     0.90862,     0.90933,     0.90972,     0.91012,     0.91051,      0.9109,     0.91129,     0.91168,\n",
              "            0.91207,     0.91246,     0.91285,     0.91324,     0.91364,     0.91403,     0.91442,     0.91481,      0.9152,     0.91559,     0.91598,     0.91637,     0.91676,     0.91715,     0.91755,     0.91794,     0.91833,     0.91872,     0.91911,      0.9195,     0.91989,     0.92028,     0.92067,\n",
              "            0.92107,     0.92146,     0.92185,     0.92224,     0.92263,     0.92302,     0.92341,      0.9238,     0.92419,     0.92459,     0.92498,     0.92537,     0.92576,     0.92615,     0.92654,     0.92693,     0.92732,     0.92771,      0.9281,      0.9285,     0.92889,     0.92928,     0.92967,\n",
              "            0.93006,     0.93045,     0.93084,     0.93123,     0.93162,     0.93202,     0.93241,      0.9328,     0.93319,     0.93358,     0.93397,     0.93436,     0.93475,     0.93514,     0.93553,     0.93593,     0.93632,     0.93671,      0.9371,     0.93749,     0.93788,     0.93827,     0.93866,\n",
              "            0.93905,     0.93945,     0.93984,     0.94023,     0.94062,     0.94101,      0.9414,     0.94179,     0.94218,     0.94257,     0.94297,     0.94336,     0.94375,     0.94414,     0.94453,     0.94492,     0.94531,      0.9457,     0.94609,     0.94648,     0.94688,     0.94727,     0.94766,\n",
              "            0.94805,     0.94844,     0.94883,     0.94922,     0.94961,        0.95,      0.9504,     0.95079,     0.95118,     0.95157,     0.95196,     0.95235,     0.95245,     0.95253,     0.95261,     0.95269,     0.95276,     0.95284,     0.95292,       0.953,     0.95308,     0.95315,     0.95323,\n",
              "            0.95331,     0.95339,     0.95346,     0.95354,     0.95362,      0.9537,     0.95378,     0.95385,     0.95393,     0.95401,     0.95409,     0.95416,     0.95424,     0.95432,      0.9544,     0.95448,     0.95455,     0.95463,     0.95471,     0.95479,     0.95486,     0.95494,     0.95502,\n",
              "             0.9551,     0.95518,     0.95525,     0.95533,     0.95541,     0.95549,     0.95557,     0.95564,     0.95572,      0.9558,     0.95588,     0.95595,     0.95603,     0.95611,     0.95619,     0.95627,     0.95634,     0.95642,      0.9565,     0.95658,     0.95665,     0.95673,     0.95681,\n",
              "            0.95689,     0.95697,     0.95704,     0.95712,      0.9572,     0.95728,     0.95735,     0.95743,     0.95751,     0.95759,     0.95767,     0.95774,     0.95782,      0.9579,     0.95798,     0.95806,     0.95813,     0.95821,     0.95829,     0.95837,     0.95844,     0.95852,      0.9586,\n",
              "            0.95868,     0.95876,     0.95883,     0.95891,     0.95899,     0.95907,     0.95914,     0.95922,      0.9593,     0.95938,     0.95946,     0.95953,     0.95961,     0.95969,     0.95977,     0.95984,     0.95992,        0.96,     0.96008,     0.96016,     0.96023,     0.96031,     0.96039,\n",
              "            0.96047,     0.96055,     0.96062,      0.9607,     0.96078,     0.96086,     0.96093,     0.96101,     0.96109,     0.96117,     0.96125,     0.96132,      0.9614,     0.96148,     0.96156,     0.96163,     0.96171,     0.96179,     0.96187,     0.96195,     0.96202,      0.9621,     0.96218,\n",
              "            0.96226,     0.96233,     0.96241,     0.96249,     0.96257,     0.96265,     0.96272,      0.9628,     0.96288,     0.96296,     0.96303,     0.96311,     0.96319,     0.96327,     0.96335,     0.96342,      0.9635,     0.96358,     0.96366,     0.96374,     0.96381,     0.96389,     0.96397,\n",
              "            0.96405,     0.96412,      0.9642,     0.96428,     0.96436,     0.96444,     0.96451,     0.96459,     0.96467,     0.96475,     0.96482,      0.9649,     0.96498,     0.96506,     0.96514,     0.96521,     0.96529,     0.96537,     0.96545,     0.96552,      0.9656,     0.96568,     0.96576,\n",
              "            0.96584,     0.96591,     0.96599,     0.96607,     0.96615,     0.96623,      0.9663,     0.96638,     0.96646,     0.96654,     0.96661,     0.96669,     0.96677,     0.96685,     0.96693,       0.967,     0.96708,     0.96716,     0.96724,     0.96731,     0.96739,     0.96747,     0.96755,\n",
              "            0.96763,      0.9677,     0.96778,     0.96786,     0.96794,     0.96801,     0.96809,     0.96817,     0.96825,     0.96833,      0.9684,     0.96848,     0.96856,     0.96864,     0.96872,     0.96879,     0.96887,     0.96895,     0.96903,      0.9691,     0.96918,     0.96926,     0.96934,\n",
              "            0.96942,     0.96949,     0.96957,     0.96965,     0.96973,      0.9698,     0.96988,     0.96996,     0.97004,     0.97012,     0.97019,     0.97027,     0.97035,     0.97043,      0.9705,     0.97058,     0.97066,     0.97074,     0.97082,     0.97089,     0.97097,     0.97105,     0.97113,\n",
              "            0.97121,     0.97128,     0.97136,     0.97144,     0.97152,     0.97159,     0.97167,     0.97175,     0.97183,     0.97191,     0.97198,     0.97206,     0.97214,     0.97222,     0.97229,     0.97237,     0.97245,     0.97253,     0.97261,     0.97268,     0.97276,     0.97284,     0.97292,\n",
              "            0.97299,     0.97307,     0.97315,     0.97323,     0.97331,     0.97338,     0.97346,     0.97354,     0.97362,     0.97369,     0.97377,     0.97385,     0.97393,     0.97401,     0.97408,     0.97416,     0.97424,     0.97432,      0.9744,     0.97447,     0.97455,     0.97463,     0.97471,\n",
              "            0.97478,     0.97486,     0.97494,     0.97502,      0.9751,     0.97517,     0.97525,     0.97533,     0.97541,     0.97548,     0.97556,     0.97564,     0.97572,      0.9758,     0.97587,     0.97595,     0.97603,     0.97611,     0.97618,     0.97626,     0.97634,     0.97642,      0.9765,\n",
              "            0.97657,     0.97665,     0.97673,     0.97681,     0.97689,     0.97696,     0.97704,     0.97712,      0.9772,     0.97727,     0.97735,     0.97743,     0.97751,     0.97759,     0.97766,     0.97774,     0.97782,      0.9779,     0.97797,     0.97805,     0.97813,     0.97821,     0.97829,\n",
              "            0.97836,     0.97844,     0.97852,      0.9786,     0.97867,     0.97875,     0.97883,     0.97891,     0.97899,     0.97906,     0.97914,     0.97922,      0.9793,     0.97938,     0.97945,     0.97953,     0.97961,     0.97969,     0.97976,     0.97984,     0.97992,        0.98,     0.98008,\n",
              "            0.98015,     0.98023,     0.98031,     0.98039,     0.98046,     0.98054,     0.98062,      0.9807,     0.98078,     0.98085,     0.98093,     0.98101,     0.98109,     0.98116,     0.98124,     0.98132,      0.9814,     0.98148,     0.98155,     0.98163,     0.98171,     0.98179,     0.98187,\n",
              "            0.98194,     0.98202,      0.9821,     0.98218,     0.98225,     0.98233,     0.98241,     0.98249,     0.98257,     0.98264,     0.98272,      0.9828,     0.98288,     0.98295,     0.98303,     0.98311,     0.98319,     0.98327,     0.98334,     0.98342,      0.9835,     0.98358,     0.98365,\n",
              "            0.98373,     0.98381,     0.98389,     0.98397,     0.98404,     0.98412,      0.9842,     0.98428,     0.98436,     0.98443,     0.98451,     0.98459,     0.98467,     0.98474,     0.98482,      0.9849,     0.98498,     0.98506,     0.98513,     0.98521,     0.98529,     0.98537,     0.98544,\n",
              "            0.98552,      0.9856,     0.98568,     0.98576,     0.98583,     0.98591,     0.98599,     0.98607,     0.98614,     0.98622,      0.9863,     0.98638,     0.98646,     0.98653,     0.98661,     0.98669,     0.98677,     0.98684,     0.98692,       0.987,     0.98708,     0.98716,     0.98723,\n",
              "            0.98731,     0.98739,     0.98747,     0.98755,     0.98762,      0.9877,     0.98778,     0.98786,     0.98793,     0.98801,     0.98809,     0.98817,     0.98825,     0.98832,      0.9884,     0.98848,     0.98856,     0.98863,     0.98871,     0.98879,     0.98887,     0.98895,     0.98902,\n",
              "             0.9891,     0.98918,     0.98926,     0.98933,     0.98941,     0.98949,     0.98957,     0.98965,     0.98972,      0.9898,     0.98988,     0.98996,     0.99004,     0.99011,     0.99019,     0.99027,     0.99035,     0.99042,      0.9905,     0.99058,     0.99066,     0.99074,     0.99081,\n",
              "            0.99089,     0.99097,     0.99105,     0.99112,      0.9912,     0.99128,     0.99136,     0.99144,     0.99151,     0.99159,     0.99167,     0.99175,     0.99182,      0.9919,     0.99198,     0.99206,     0.99214,     0.99221,     0.99229,     0.99237,     0.99245,     0.99253,      0.9926,\n",
              "            0.99268,     0.99276,     0.99284,     0.99291,     0.99299,     0.99307,     0.99315,     0.99323,      0.9933,     0.99338,     0.99346,     0.99354,     0.99361,     0.99369,     0.99377,     0.99385,     0.99393,       0.994,     0.99408,     0.99416,     0.99424,     0.99431,     0.99439,\n",
              "            0.99447,     0.99455,     0.99463,      0.9947,     0.99478,     0.99486,     0.99494,     0.99502,     0.99509,     0.99517,     0.99525,     0.99533,      0.9954,     0.99548,     0.99556,     0.99564,     0.99572,     0.99579,     0.99587,     0.99595,     0.99603,      0.9961,     0.99618,\n",
              "            0.99626,     0.99634,     0.99642,     0.99649,     0.99657,     0.99665,     0.99673,      0.9968,     0.99688,     0.99696,     0.99704,     0.99712,     0.99719,     0.99727,     0.99735,     0.99743,     0.99751,     0.99758,     0.99766,     0.99774,     0.99782,     0.99789,     0.99797,\n",
              "            0.99805,     0.99813,     0.99821,     0.99828,     0.99836,     0.99844,     0.99852,     0.99859,     0.99867,     0.99875,     0.99883,     0.99891,     0.99898,     0.99906,     0.99914,     0.99922,     0.99929,     0.99937,     0.99945,     0.99953,     0.99961,     0.99968,     0.99976,\n",
              "            0.99984,     0.99992,     0.99999,           1,           1,           1,           1,           1,           1,           1,           1,           1,           1,           1,           1,           1,           1,           1,           1,           1,           1,           1,           1,\n",
              "                  1,           1,           1,           1,           1,           1,           1,           1,           1,           1,           1,           1,           1,           1,           1,           1,           1,           1,           1,           1,           1,           1,           1,\n",
              "                  1,           1,           1,           1,           1,           1,           1,           1,           1,           1,           1,           1,           1,           1,           1,           1,           1,           1,           1,           1,           1,           1,           1,\n",
              "                  1,           1,           1,           1,           1,           1,           1,           1,           1,           1,           1,           1,           1,           1,           1,           1,           1,           1,           1,           1,           1,           1,           1,\n",
              "                  1,           1,           1,           1,           1,           1,           1,           1,           1,           1,           1,           1,           1,           1,           1,           1,           1,           1,           1,           1,           1,           1,           1,\n",
              "                  1,           1,           1,           1,           1,           1,           1,           1,           1,           1,           1,           1,           1,           1,           1,           1,           1,           1,           1,           1,           1,           1,           1,\n",
              "                  1,           1,           1,           1,           1,           1,           1,           1,           1,           1,           1,           1,           1,           1,           1,           1,           1,           1,           1,           1,           1,           1,           1,\n",
              "                  1,           1,           1,           1,           1,           1,           1,           1,           1,           1,           1]]), 'Confidence', 'Precision'], [array([          0,    0.001001,    0.002002,    0.003003,    0.004004,    0.005005,    0.006006,    0.007007,    0.008008,    0.009009,     0.01001,    0.011011,    0.012012,    0.013013,    0.014014,    0.015015,    0.016016,    0.017017,    0.018018,    0.019019,     0.02002,    0.021021,    0.022022,    0.023023,\n",
              "          0.024024,    0.025025,    0.026026,    0.027027,    0.028028,    0.029029,     0.03003,    0.031031,    0.032032,    0.033033,    0.034034,    0.035035,    0.036036,    0.037037,    0.038038,    0.039039,     0.04004,    0.041041,    0.042042,    0.043043,    0.044044,    0.045045,    0.046046,    0.047047,\n",
              "          0.048048,    0.049049,     0.05005,    0.051051,    0.052052,    0.053053,    0.054054,    0.055055,    0.056056,    0.057057,    0.058058,    0.059059,     0.06006,    0.061061,    0.062062,    0.063063,    0.064064,    0.065065,    0.066066,    0.067067,    0.068068,    0.069069,     0.07007,    0.071071,\n",
              "          0.072072,    0.073073,    0.074074,    0.075075,    0.076076,    0.077077,    0.078078,    0.079079,     0.08008,    0.081081,    0.082082,    0.083083,    0.084084,    0.085085,    0.086086,    0.087087,    0.088088,    0.089089,     0.09009,    0.091091,    0.092092,    0.093093,    0.094094,    0.095095,\n",
              "          0.096096,    0.097097,    0.098098,    0.099099,      0.1001,      0.1011,      0.1021,      0.1031,      0.1041,     0.10511,     0.10611,     0.10711,     0.10811,     0.10911,     0.11011,     0.11111,     0.11211,     0.11311,     0.11411,     0.11512,     0.11612,     0.11712,     0.11812,     0.11912,\n",
              "           0.12012,     0.12112,     0.12212,     0.12312,     0.12412,     0.12513,     0.12613,     0.12713,     0.12813,     0.12913,     0.13013,     0.13113,     0.13213,     0.13313,     0.13413,     0.13514,     0.13614,     0.13714,     0.13814,     0.13914,     0.14014,     0.14114,     0.14214,     0.14314,\n",
              "           0.14414,     0.14515,     0.14615,     0.14715,     0.14815,     0.14915,     0.15015,     0.15115,     0.15215,     0.15315,     0.15415,     0.15516,     0.15616,     0.15716,     0.15816,     0.15916,     0.16016,     0.16116,     0.16216,     0.16316,     0.16416,     0.16517,     0.16617,     0.16717,\n",
              "           0.16817,     0.16917,     0.17017,     0.17117,     0.17217,     0.17317,     0.17417,     0.17518,     0.17618,     0.17718,     0.17818,     0.17918,     0.18018,     0.18118,     0.18218,     0.18318,     0.18418,     0.18519,     0.18619,     0.18719,     0.18819,     0.18919,     0.19019,     0.19119,\n",
              "           0.19219,     0.19319,     0.19419,      0.1952,      0.1962,      0.1972,      0.1982,      0.1992,      0.2002,      0.2012,      0.2022,      0.2032,      0.2042,     0.20521,     0.20621,     0.20721,     0.20821,     0.20921,     0.21021,     0.21121,     0.21221,     0.21321,     0.21421,     0.21522,\n",
              "           0.21622,     0.21722,     0.21822,     0.21922,     0.22022,     0.22122,     0.22222,     0.22322,     0.22422,     0.22523,     0.22623,     0.22723,     0.22823,     0.22923,     0.23023,     0.23123,     0.23223,     0.23323,     0.23423,     0.23524,     0.23624,     0.23724,     0.23824,     0.23924,\n",
              "           0.24024,     0.24124,     0.24224,     0.24324,     0.24424,     0.24525,     0.24625,     0.24725,     0.24825,     0.24925,     0.25025,     0.25125,     0.25225,     0.25325,     0.25425,     0.25526,     0.25626,     0.25726,     0.25826,     0.25926,     0.26026,     0.26126,     0.26226,     0.26326,\n",
              "           0.26426,     0.26527,     0.26627,     0.26727,     0.26827,     0.26927,     0.27027,     0.27127,     0.27227,     0.27327,     0.27427,     0.27528,     0.27628,     0.27728,     0.27828,     0.27928,     0.28028,     0.28128,     0.28228,     0.28328,     0.28428,     0.28529,     0.28629,     0.28729,\n",
              "           0.28829,     0.28929,     0.29029,     0.29129,     0.29229,     0.29329,     0.29429,      0.2953,      0.2963,      0.2973,      0.2983,      0.2993,      0.3003,      0.3013,      0.3023,      0.3033,      0.3043,     0.30531,     0.30631,     0.30731,     0.30831,     0.30931,     0.31031,     0.31131,\n",
              "           0.31231,     0.31331,     0.31431,     0.31532,     0.31632,     0.31732,     0.31832,     0.31932,     0.32032,     0.32132,     0.32232,     0.32332,     0.32432,     0.32533,     0.32633,     0.32733,     0.32833,     0.32933,     0.33033,     0.33133,     0.33233,     0.33333,     0.33433,     0.33534,\n",
              "           0.33634,     0.33734,     0.33834,     0.33934,     0.34034,     0.34134,     0.34234,     0.34334,     0.34434,     0.34535,     0.34635,     0.34735,     0.34835,     0.34935,     0.35035,     0.35135,     0.35235,     0.35335,     0.35435,     0.35536,     0.35636,     0.35736,     0.35836,     0.35936,\n",
              "           0.36036,     0.36136,     0.36236,     0.36336,     0.36436,     0.36537,     0.36637,     0.36737,     0.36837,     0.36937,     0.37037,     0.37137,     0.37237,     0.37337,     0.37437,     0.37538,     0.37638,     0.37738,     0.37838,     0.37938,     0.38038,     0.38138,     0.38238,     0.38338,\n",
              "           0.38438,     0.38539,     0.38639,     0.38739,     0.38839,     0.38939,     0.39039,     0.39139,     0.39239,     0.39339,     0.39439,      0.3954,      0.3964,      0.3974,      0.3984,      0.3994,      0.4004,      0.4014,      0.4024,      0.4034,      0.4044,     0.40541,     0.40641,     0.40741,\n",
              "           0.40841,     0.40941,     0.41041,     0.41141,     0.41241,     0.41341,     0.41441,     0.41542,     0.41642,     0.41742,     0.41842,     0.41942,     0.42042,     0.42142,     0.42242,     0.42342,     0.42442,     0.42543,     0.42643,     0.42743,     0.42843,     0.42943,     0.43043,     0.43143,\n",
              "           0.43243,     0.43343,     0.43443,     0.43544,     0.43644,     0.43744,     0.43844,     0.43944,     0.44044,     0.44144,     0.44244,     0.44344,     0.44444,     0.44545,     0.44645,     0.44745,     0.44845,     0.44945,     0.45045,     0.45145,     0.45245,     0.45345,     0.45445,     0.45546,\n",
              "           0.45646,     0.45746,     0.45846,     0.45946,     0.46046,     0.46146,     0.46246,     0.46346,     0.46446,     0.46547,     0.46647,     0.46747,     0.46847,     0.46947,     0.47047,     0.47147,     0.47247,     0.47347,     0.47447,     0.47548,     0.47648,     0.47748,     0.47848,     0.47948,\n",
              "           0.48048,     0.48148,     0.48248,     0.48348,     0.48448,     0.48549,     0.48649,     0.48749,     0.48849,     0.48949,     0.49049,     0.49149,     0.49249,     0.49349,     0.49449,      0.4955,      0.4965,      0.4975,      0.4985,      0.4995,      0.5005,      0.5015,      0.5025,      0.5035,\n",
              "            0.5045,     0.50551,     0.50651,     0.50751,     0.50851,     0.50951,     0.51051,     0.51151,     0.51251,     0.51351,     0.51451,     0.51552,     0.51652,     0.51752,     0.51852,     0.51952,     0.52052,     0.52152,     0.52252,     0.52352,     0.52452,     0.52553,     0.52653,     0.52753,\n",
              "           0.52853,     0.52953,     0.53053,     0.53153,     0.53253,     0.53353,     0.53453,     0.53554,     0.53654,     0.53754,     0.53854,     0.53954,     0.54054,     0.54154,     0.54254,     0.54354,     0.54454,     0.54555,     0.54655,     0.54755,     0.54855,     0.54955,     0.55055,     0.55155,\n",
              "           0.55255,     0.55355,     0.55455,     0.55556,     0.55656,     0.55756,     0.55856,     0.55956,     0.56056,     0.56156,     0.56256,     0.56356,     0.56456,     0.56557,     0.56657,     0.56757,     0.56857,     0.56957,     0.57057,     0.57157,     0.57257,     0.57357,     0.57457,     0.57558,\n",
              "           0.57658,     0.57758,     0.57858,     0.57958,     0.58058,     0.58158,     0.58258,     0.58358,     0.58458,     0.58559,     0.58659,     0.58759,     0.58859,     0.58959,     0.59059,     0.59159,     0.59259,     0.59359,     0.59459,      0.5956,      0.5966,      0.5976,      0.5986,      0.5996,\n",
              "            0.6006,      0.6016,      0.6026,      0.6036,      0.6046,     0.60561,     0.60661,     0.60761,     0.60861,     0.60961,     0.61061,     0.61161,     0.61261,     0.61361,     0.61461,     0.61562,     0.61662,     0.61762,     0.61862,     0.61962,     0.62062,     0.62162,     0.62262,     0.62362,\n",
              "           0.62462,     0.62563,     0.62663,     0.62763,     0.62863,     0.62963,     0.63063,     0.63163,     0.63263,     0.63363,     0.63463,     0.63564,     0.63664,     0.63764,     0.63864,     0.63964,     0.64064,     0.64164,     0.64264,     0.64364,     0.64464,     0.64565,     0.64665,     0.64765,\n",
              "           0.64865,     0.64965,     0.65065,     0.65165,     0.65265,     0.65365,     0.65465,     0.65566,     0.65666,     0.65766,     0.65866,     0.65966,     0.66066,     0.66166,     0.66266,     0.66366,     0.66466,     0.66567,     0.66667,     0.66767,     0.66867,     0.66967,     0.67067,     0.67167,\n",
              "           0.67267,     0.67367,     0.67467,     0.67568,     0.67668,     0.67768,     0.67868,     0.67968,     0.68068,     0.68168,     0.68268,     0.68368,     0.68468,     0.68569,     0.68669,     0.68769,     0.68869,     0.68969,     0.69069,     0.69169,     0.69269,     0.69369,     0.69469,      0.6957,\n",
              "            0.6967,      0.6977,      0.6987,      0.6997,      0.7007,      0.7017,      0.7027,      0.7037,      0.7047,     0.70571,     0.70671,     0.70771,     0.70871,     0.70971,     0.71071,     0.71171,     0.71271,     0.71371,     0.71471,     0.71572,     0.71672,     0.71772,     0.71872,     0.71972,\n",
              "           0.72072,     0.72172,     0.72272,     0.72372,     0.72472,     0.72573,     0.72673,     0.72773,     0.72873,     0.72973,     0.73073,     0.73173,     0.73273,     0.73373,     0.73473,     0.73574,     0.73674,     0.73774,     0.73874,     0.73974,     0.74074,     0.74174,     0.74274,     0.74374,\n",
              "           0.74474,     0.74575,     0.74675,     0.74775,     0.74875,     0.74975,     0.75075,     0.75175,     0.75275,     0.75375,     0.75475,     0.75576,     0.75676,     0.75776,     0.75876,     0.75976,     0.76076,     0.76176,     0.76276,     0.76376,     0.76476,     0.76577,     0.76677,     0.76777,\n",
              "           0.76877,     0.76977,     0.77077,     0.77177,     0.77277,     0.77377,     0.77477,     0.77578,     0.77678,     0.77778,     0.77878,     0.77978,     0.78078,     0.78178,     0.78278,     0.78378,     0.78478,     0.78579,     0.78679,     0.78779,     0.78879,     0.78979,     0.79079,     0.79179,\n",
              "           0.79279,     0.79379,     0.79479,      0.7958,      0.7968,      0.7978,      0.7988,      0.7998,      0.8008,      0.8018,      0.8028,      0.8038,      0.8048,     0.80581,     0.80681,     0.80781,     0.80881,     0.80981,     0.81081,     0.81181,     0.81281,     0.81381,     0.81481,     0.81582,\n",
              "           0.81682,     0.81782,     0.81882,     0.81982,     0.82082,     0.82182,     0.82282,     0.82382,     0.82482,     0.82583,     0.82683,     0.82783,     0.82883,     0.82983,     0.83083,     0.83183,     0.83283,     0.83383,     0.83483,     0.83584,     0.83684,     0.83784,     0.83884,     0.83984,\n",
              "           0.84084,     0.84184,     0.84284,     0.84384,     0.84484,     0.84585,     0.84685,     0.84785,     0.84885,     0.84985,     0.85085,     0.85185,     0.85285,     0.85385,     0.85485,     0.85586,     0.85686,     0.85786,     0.85886,     0.85986,     0.86086,     0.86186,     0.86286,     0.86386,\n",
              "           0.86486,     0.86587,     0.86687,     0.86787,     0.86887,     0.86987,     0.87087,     0.87187,     0.87287,     0.87387,     0.87487,     0.87588,     0.87688,     0.87788,     0.87888,     0.87988,     0.88088,     0.88188,     0.88288,     0.88388,     0.88488,     0.88589,     0.88689,     0.88789,\n",
              "           0.88889,     0.88989,     0.89089,     0.89189,     0.89289,     0.89389,     0.89489,      0.8959,      0.8969,      0.8979,      0.8989,      0.8999,      0.9009,      0.9019,      0.9029,      0.9039,      0.9049,     0.90591,     0.90691,     0.90791,     0.90891,     0.90991,     0.91091,     0.91191,\n",
              "           0.91291,     0.91391,     0.91491,     0.91592,     0.91692,     0.91792,     0.91892,     0.91992,     0.92092,     0.92192,     0.92292,     0.92392,     0.92492,     0.92593,     0.92693,     0.92793,     0.92893,     0.92993,     0.93093,     0.93193,     0.93293,     0.93393,     0.93493,     0.93594,\n",
              "           0.93694,     0.93794,     0.93894,     0.93994,     0.94094,     0.94194,     0.94294,     0.94394,     0.94494,     0.94595,     0.94695,     0.94795,     0.94895,     0.94995,     0.95095,     0.95195,     0.95295,     0.95395,     0.95495,     0.95596,     0.95696,     0.95796,     0.95896,     0.95996,\n",
              "           0.96096,     0.96196,     0.96296,     0.96396,     0.96496,     0.96597,     0.96697,     0.96797,     0.96897,     0.96997,     0.97097,     0.97197,     0.97297,     0.97397,     0.97497,     0.97598,     0.97698,     0.97798,     0.97898,     0.97998,     0.98098,     0.98198,     0.98298,     0.98398,\n",
              "           0.98498,     0.98599,     0.98699,     0.98799,     0.98899,     0.98999,     0.99099,     0.99199,     0.99299,     0.99399,     0.99499,       0.996,       0.997,       0.998,       0.999,           1]), array([[          1,           1,           1,           1,           1,           1,           1,           1,           1,           1,           1,           1,           1,           1,           1,           1,           1,           1,           1,           1,           1,           1,           1,\n",
              "                  1,           1,           1,           1,           1,           1,           1,           1,           1,           1,           1,           1,           1,           1,           1,           1,           1,           1,           1,           1,           1,           1,           1,\n",
              "                  1,           1,           1,           1,           1,           1,           1,           1,           1,           1,           1,           1,           1,           1,           1,           1,           1,           1,           1,           1,           1,           1,           1,\n",
              "                  1,           1,           1,           1,           1,           1,           1,           1,           1,           1,           1,           1,           1,           1,           1,           1,           1,           1,           1,           1,           1,           1,           1,\n",
              "                  1,           1,           1,           1,           1,           1,           1,           1,           1,           1,           1,           1,           1,           1,           1,           1,           1,           1,           1,           1,           1,           1,           1,\n",
              "                  1,           1,           1,           1,           1,           1,           1,           1,           1,           1,           1,           1,           1,           1,           1,           1,           1,           1,           1,           1,           1,           1,           1,\n",
              "                  1,           1,           1,           1,           1,           1,           1,           1,           1,           1,           1,           1,           1,           1,           1,           1,           1,           1,           1,           1,           1,           1,           1,\n",
              "                  1,           1,           1,           1,           1,           1,           1,           1,           1,           1,           1,           1,           1,           1,           1,           1,           1,           1,           1,           1,           1,           1,           1,\n",
              "                  1,           1,           1,           1,           1,           1,           1,           1,           1,           1,           1,           1,           1,           1,           1,           1,           1,           1,           1,           1,           1,           1,           1,\n",
              "                  1,           1,           1,           1,           1,           1,           1,           1,           1,           1,           1,           1,           1,           1,           1,           1,           1,           1,           1,           1,           1,           1,           1,\n",
              "                  1,           1,           1,           1,           1,           1,           1,           1,           1,           1,           1,           1,           1,           1,           1,           1,           1,           1,           1,           1,           1,           1,           1,\n",
              "                  1,           1,           1,           1,           1,           1,           1,           1,           1,           1,           1,           1,           1,           1,           1,           1,           1,           1,           1,           1,           1,           1,           1,\n",
              "                  1,           1,           1,           1,           1,           1,           1,           1,           1,           1,           1,           1,           1,           1,           1,           1,           1,           1,           1,           1,           1,           1,           1,\n",
              "                  1,           1,           1,           1,           1,           1,           1,           1,           1,           1,           1,           1,           1,           1,           1,           1,           1,           1,           1,           1,           1,           1,           1,\n",
              "                  1,           1,           1,           1,           1,           1,           1,           1,           1,           1,           1,           1,           1,           1,           1,           1,           1,           1,           1,           1,           1,           1,           1,\n",
              "                  1,           1,           1,           1,           1,           1,           1,           1,           1,           1,           1,           1,           1,           1,           1,           1,           1,           1,           1,           1,           1,           1,           1,\n",
              "                  1,           1,           1,           1,           1,           1,           1,           1,           1,           1,           1,           1,           1,           1,           1,           1,           1,           1,           1,           1,           1,           1,           1,\n",
              "                  1,           1,           1,           1,           1,           1,           1,           1,           1,           1,           1,           1,           1,           1,           1,           1,           1,           1,           1,           1,           1,           1,           1,\n",
              "                  1,           1,           1,           1,           1,           1,           1,           1,           1,           1,           1,           1,           1,           1,           1,           1,           1,           1,           1,           1,           1,           1,           1,\n",
              "                  1,           1,           1,           1,           1,           1,           1,           1,           1,           1,           1,           1,           1,           1,           1,           1,           1,           1,           1,           1,           1,           1,           1,\n",
              "                  1,           1,           1,           1,           1,           1,           1,           1,           1,           1,           1,           1,           1,           1,           1,           1,           1,           1,           1,           1,           1,           1,           1,\n",
              "                  1,           1,           1,           1,           1,           1,           1,           1,           1,           1,           1,           1,           1,           1,           1,           1,           1,           1,           1,           1,           1,           1,           1,\n",
              "                  1,           1,           1,           1,           1,           1,           1,           1,           1,           1,           1,           1,           1,           1,           1,           1,           1,           1,           1,           1,           1,           1,           1,\n",
              "                  1,           1,           1,           1,           1,           1,           1,           1,           1,           1,           1,           1,           1,           1,           1,           1,           1,           1,           1,           1,           1,           1,           1,\n",
              "                  1,           1,           1,           1,           1,           1,           1,           1,           1,           1,           1,           1,           1,           1,           1,           1,           1,           1,           1,           1,           1,           1,           1,\n",
              "                  1,           1,           1,           1,           1,           1,           1,           1,           1,           1,           1,           1,           1,           1,           1,           1,           1,           1,           1,           1,           1,           1,           1,\n",
              "                  1,           1,           1,           1,           1,           1,           1,           1,           1,           1,           1,           1,           1,           1,           1,           1,           1,           1,           1,           1,           1,           1,           1,\n",
              "                  1,           1,           1,           1,           1,           1,           1,           1,           1,           1,           1,           1,           1,           1,           1,           1,           1,           1,           1,           1,           1,           1,           1,\n",
              "                  1,           1,           1,           1,           1,           1,           1,           1,           1,           1,           1,           1,           1,           1,           1,           1,           1,           1,           1,           1,           1,           1,           1,\n",
              "                  1,           1,           1,           1,           1,           1,           1,           1,           1,           1,           1,           1,           1,           1,           1,           1,           1,           1,           1,           1,           1,           1,           1,\n",
              "                  1,           1,           1,           1,           1,           1,           1,           1,           1,           1,           1,           1,           1,           1,           1,           1,           1,           1,           1,           1,           1,           1,           1,\n",
              "                  1,           1,           1,           1,           1,           1,           1,           1,           1,           1,           1,           1,           1,           1,           1,           1,           1,           1,           1,           1,           1,           1,           1,\n",
              "                  1,           1,           1,           1,           1,           1,           1,           1,           1,           1,           1,           1,           1,           1,           1,           1,           1,           1,           1,           1,           1,           1,           1,\n",
              "                  1,           1,           1,           1,           1,           1,           1,           1,           1,           1,           1,           1,           1,           1,           1,           1,           1,           1,           1,           1,           1,           1,           1,\n",
              "                  1,           1,           1,           1,           1,           1,           1,           1,           1,           1,           1,           1,           1,           1,           1,           1,           1,           1,           1,           1,           1,           1,           1,\n",
              "                  1,           1,           1,           1,           1,           1,           1,           1,           1,           1,           1,           1,           1,           1,           1,           1,           1,           1,           1,           1,           1,           1,           1,\n",
              "                  1,           1,           1,     0.99805,     0.99597,     0.99388,      0.9918,     0.98971,     0.98763,     0.98554,     0.98346,     0.98137,     0.97929,      0.9772,     0.97512,     0.97304,     0.97095,     0.96887,     0.96678,      0.9647,     0.96261,     0.96053,     0.95844,\n",
              "            0.95636,     0.95428,     0.95219,     0.95011,     0.94889,     0.94772,     0.94655,     0.94538,     0.94422,     0.94305,     0.94188,     0.94071,     0.93954,     0.93837,      0.9372,     0.93603,     0.93486,      0.9337,     0.93253,     0.93136,     0.93019,     0.92902,     0.92785,\n",
              "            0.92668,     0.92551,     0.92435,     0.92318,     0.92201,     0.92084,     0.91967,      0.9185,     0.91733,     0.91616,       0.915,     0.91383,     0.91266,     0.91149,     0.91032,     0.90915,     0.90798,     0.90681,     0.90564,     0.90448,     0.90331,     0.90214,     0.90097,\n",
              "            0.89915,     0.89418,     0.88922,     0.88425,     0.87928,     0.87431,     0.86935,     0.86438,     0.85941,     0.85444,     0.84957,     0.84553,     0.84149,     0.83745,     0.83341,     0.82937,     0.82533,     0.82129,     0.81725,     0.81321,     0.80917,     0.80513,     0.80109,\n",
              "            0.79425,     0.78637,     0.77849,     0.77061,     0.76273,     0.75485,     0.74454,     0.73031,     0.71609,     0.70186,     0.69203,     0.68286,     0.67369,     0.66452,     0.65535,     0.64644,     0.63789,     0.62934,     0.62078,     0.61223,     0.60368,     0.58999,     0.57242,\n",
              "            0.55485,     0.52569,     0.49531,     0.47529,     0.45528,      0.3942,     0.38045,     0.36669,     0.35294,     0.34634,     0.34167,     0.33701,     0.33235,     0.32769,     0.32303,     0.31837,     0.31371,     0.30905,     0.30438,     0.29621,     0.24651,     0.23374,     0.22097,\n",
              "             0.2082,     0.18818,      0.1552,     0.13509,     0.11739,     0.09923,    0.055073,           0,           0,           0,           0,           0,           0,           0,           0,           0,           0,           0,           0,           0,           0,           0,           0,\n",
              "                  0,           0,           0,           0,           0,           0,           0,           0,           0,           0,           0]]), 'Confidence', 'Recall']]\n",
              "fitness: 0.8194532442748091\n",
              "keys: ['metrics/precision(B)', 'metrics/recall(B)', 'metrics/mAP50(B)', 'metrics/mAP50-95(B)']\n",
              "maps: array([    0.79995])\n",
              "names: {0: 'plate'}\n",
              "plot: True\n",
              "results_dict: {'metrics/precision(B)': 0.996337884810587, 'metrics/recall(B)': 1.0, 'metrics/mAP50(B)': 0.995, 'metrics/mAP50-95(B)': 0.7999480491942323, 'fitness': 0.8194532442748091}\n",
              "save_dir: PosixPath('runs/detect/train2')\n",
              "speed: {'preprocess': 1.0952115058898926, 'inference': 110.71898937225342, 'loss': 0.00013113021850585938, 'postprocess': 1.0820865631103516}\n",
              "task: 'detect'"
            ]
          },
          "execution_count": 8,
          "metadata": {},
          "output_type": "execute_result"
        }
      ],
      "source": [
        "model.train(data = '/content/parking_plate_data/car_plate_model_data.yaml', epochs=25, patience=30, batch=32,imgsz=412)"
      ]
    },
    {
      "cell_type": "code",
      "execution_count": 9,
      "metadata": {
        "colab": {
          "base_uri": "https://localhost:8080/"
        },
        "id": "QDWH_qV7WRpi",
        "outputId": "fa1eb4ae-e9b7-4429-cd0f-6c91a3cbb629"
      },
      "outputs": [
        {
          "name": "stdout",
          "output_type": "stream",
          "text": [
            "\n",
            "\n",
            "WARNING ⚠️ inference results will accumulate in RAM unless `stream=True` is passed, causing potential out-of-memory\n",
            "errors for large sources or long-running streams and videos. See https://docs.ultralytics.com/modes/predict/ for help.\n",
            "\n",
            "Example:\n",
            "    results = model(source=..., stream=True)  # generator of Results objects\n",
            "    for r in results:\n",
            "        boxes = r.boxes  # Boxes object for bbox outputs\n",
            "        masks = r.masks  # Masks object for segment masks outputs\n",
            "        probs = r.probs  # Class probabilities for classification outputs\n",
            "\n",
            "video 1/1 (frame 1/586) /content/drive/MyDrive/parking_tracking_project/tracking_ocr_edit.mp4: 256x416 1 plate, 78.0ms\n",
            "video 1/1 (frame 2/586) /content/drive/MyDrive/parking_tracking_project/tracking_ocr_edit.mp4: 256x416 1 plate, 72.0ms\n",
            "video 1/1 (frame 3/586) /content/drive/MyDrive/parking_tracking_project/tracking_ocr_edit.mp4: 256x416 1 plate, 66.3ms\n",
            "video 1/1 (frame 4/586) /content/drive/MyDrive/parking_tracking_project/tracking_ocr_edit.mp4: 256x416 1 plate, 71.9ms\n",
            "video 1/1 (frame 5/586) /content/drive/MyDrive/parking_tracking_project/tracking_ocr_edit.mp4: 256x416 1 plate, 89.0ms\n",
            "video 1/1 (frame 6/586) /content/drive/MyDrive/parking_tracking_project/tracking_ocr_edit.mp4: 256x416 1 plate, 112.3ms\n",
            "video 1/1 (frame 7/586) /content/drive/MyDrive/parking_tracking_project/tracking_ocr_edit.mp4: 256x416 1 plate, 108.7ms\n",
            "video 1/1 (frame 8/586) /content/drive/MyDrive/parking_tracking_project/tracking_ocr_edit.mp4: 256x416 1 plate, 119.1ms\n",
            "video 1/1 (frame 9/586) /content/drive/MyDrive/parking_tracking_project/tracking_ocr_edit.mp4: 256x416 1 plate, 105.8ms\n",
            "video 1/1 (frame 10/586) /content/drive/MyDrive/parking_tracking_project/tracking_ocr_edit.mp4: 256x416 1 plate, 126.2ms\n",
            "video 1/1 (frame 11/586) /content/drive/MyDrive/parking_tracking_project/tracking_ocr_edit.mp4: 256x416 1 plate, 105.7ms\n",
            "video 1/1 (frame 12/586) /content/drive/MyDrive/parking_tracking_project/tracking_ocr_edit.mp4: 256x416 1 plate, 104.3ms\n",
            "video 1/1 (frame 13/586) /content/drive/MyDrive/parking_tracking_project/tracking_ocr_edit.mp4: 256x416 1 plate, 99.9ms\n",
            "video 1/1 (frame 14/586) /content/drive/MyDrive/parking_tracking_project/tracking_ocr_edit.mp4: 256x416 1 plate, 116.8ms\n",
            "video 1/1 (frame 15/586) /content/drive/MyDrive/parking_tracking_project/tracking_ocr_edit.mp4: 256x416 1 plate, 128.1ms\n",
            "video 1/1 (frame 16/586) /content/drive/MyDrive/parking_tracking_project/tracking_ocr_edit.mp4: 256x416 1 plate, 113.9ms\n",
            "video 1/1 (frame 17/586) /content/drive/MyDrive/parking_tracking_project/tracking_ocr_edit.mp4: 256x416 1 plate, 109.2ms\n",
            "video 1/1 (frame 18/586) /content/drive/MyDrive/parking_tracking_project/tracking_ocr_edit.mp4: 256x416 1 plate, 110.5ms\n",
            "video 1/1 (frame 19/586) /content/drive/MyDrive/parking_tracking_project/tracking_ocr_edit.mp4: 256x416 1 plate, 104.4ms\n",
            "video 1/1 (frame 20/586) /content/drive/MyDrive/parking_tracking_project/tracking_ocr_edit.mp4: 256x416 1 plate, 107.7ms\n",
            "video 1/1 (frame 21/586) /content/drive/MyDrive/parking_tracking_project/tracking_ocr_edit.mp4: 256x416 1 plate, 103.4ms\n",
            "video 1/1 (frame 22/586) /content/drive/MyDrive/parking_tracking_project/tracking_ocr_edit.mp4: 256x416 1 plate, 106.6ms\n",
            "video 1/1 (frame 23/586) /content/drive/MyDrive/parking_tracking_project/tracking_ocr_edit.mp4: 256x416 1 plate, 106.6ms\n",
            "video 1/1 (frame 24/586) /content/drive/MyDrive/parking_tracking_project/tracking_ocr_edit.mp4: 256x416 1 plate, 119.1ms\n",
            "video 1/1 (frame 25/586) /content/drive/MyDrive/parking_tracking_project/tracking_ocr_edit.mp4: 256x416 1 plate, 100.9ms\n",
            "video 1/1 (frame 26/586) /content/drive/MyDrive/parking_tracking_project/tracking_ocr_edit.mp4: 256x416 1 plate, 102.9ms\n",
            "video 1/1 (frame 27/586) /content/drive/MyDrive/parking_tracking_project/tracking_ocr_edit.mp4: 256x416 1 plate, 116.3ms\n",
            "video 1/1 (frame 28/586) /content/drive/MyDrive/parking_tracking_project/tracking_ocr_edit.mp4: 256x416 1 plate, 103.6ms\n",
            "video 1/1 (frame 29/586) /content/drive/MyDrive/parking_tracking_project/tracking_ocr_edit.mp4: 256x416 1 plate, 116.2ms\n",
            "video 1/1 (frame 30/586) /content/drive/MyDrive/parking_tracking_project/tracking_ocr_edit.mp4: 256x416 1 plate, 123.3ms\n",
            "video 1/1 (frame 31/586) /content/drive/MyDrive/parking_tracking_project/tracking_ocr_edit.mp4: 256x416 1 plate, 108.5ms\n",
            "video 1/1 (frame 32/586) /content/drive/MyDrive/parking_tracking_project/tracking_ocr_edit.mp4: 256x416 1 plate, 120.0ms\n",
            "video 1/1 (frame 33/586) /content/drive/MyDrive/parking_tracking_project/tracking_ocr_edit.mp4: 256x416 1 plate, 119.7ms\n",
            "video 1/1 (frame 34/586) /content/drive/MyDrive/parking_tracking_project/tracking_ocr_edit.mp4: 256x416 1 plate, 110.9ms\n",
            "video 1/1 (frame 35/586) /content/drive/MyDrive/parking_tracking_project/tracking_ocr_edit.mp4: 256x416 1 plate, 116.3ms\n",
            "video 1/1 (frame 36/586) /content/drive/MyDrive/parking_tracking_project/tracking_ocr_edit.mp4: 256x416 1 plate, 112.3ms\n",
            "video 1/1 (frame 37/586) /content/drive/MyDrive/parking_tracking_project/tracking_ocr_edit.mp4: 256x416 1 plate, 131.2ms\n",
            "video 1/1 (frame 38/586) /content/drive/MyDrive/parking_tracking_project/tracking_ocr_edit.mp4: 256x416 1 plate, 117.0ms\n",
            "video 1/1 (frame 39/586) /content/drive/MyDrive/parking_tracking_project/tracking_ocr_edit.mp4: 256x416 1 plate, 117.5ms\n",
            "video 1/1 (frame 40/586) /content/drive/MyDrive/parking_tracking_project/tracking_ocr_edit.mp4: 256x416 1 plate, 109.4ms\n",
            "video 1/1 (frame 41/586) /content/drive/MyDrive/parking_tracking_project/tracking_ocr_edit.mp4: 256x416 1 plate, 106.2ms\n",
            "video 1/1 (frame 42/586) /content/drive/MyDrive/parking_tracking_project/tracking_ocr_edit.mp4: 256x416 1 plate, 112.5ms\n",
            "video 1/1 (frame 43/586) /content/drive/MyDrive/parking_tracking_project/tracking_ocr_edit.mp4: 256x416 1 plate, 107.9ms\n",
            "video 1/1 (frame 44/586) /content/drive/MyDrive/parking_tracking_project/tracking_ocr_edit.mp4: 256x416 1 plate, 73.1ms\n",
            "video 1/1 (frame 45/586) /content/drive/MyDrive/parking_tracking_project/tracking_ocr_edit.mp4: 256x416 1 plate, 82.9ms\n",
            "video 1/1 (frame 46/586) /content/drive/MyDrive/parking_tracking_project/tracking_ocr_edit.mp4: 256x416 1 plate, 75.2ms\n",
            "video 1/1 (frame 47/586) /content/drive/MyDrive/parking_tracking_project/tracking_ocr_edit.mp4: 256x416 1 plate, 68.9ms\n",
            "video 1/1 (frame 48/586) /content/drive/MyDrive/parking_tracking_project/tracking_ocr_edit.mp4: 256x416 1 plate, 68.0ms\n",
            "video 1/1 (frame 49/586) /content/drive/MyDrive/parking_tracking_project/tracking_ocr_edit.mp4: 256x416 1 plate, 69.9ms\n",
            "video 1/1 (frame 50/586) /content/drive/MyDrive/parking_tracking_project/tracking_ocr_edit.mp4: 256x416 1 plate, 75.8ms\n",
            "video 1/1 (frame 51/586) /content/drive/MyDrive/parking_tracking_project/tracking_ocr_edit.mp4: 256x416 1 plate, 73.5ms\n",
            "video 1/1 (frame 52/586) /content/drive/MyDrive/parking_tracking_project/tracking_ocr_edit.mp4: 256x416 1 plate, 74.9ms\n",
            "video 1/1 (frame 53/586) /content/drive/MyDrive/parking_tracking_project/tracking_ocr_edit.mp4: 256x416 1 plate, 72.7ms\n",
            "video 1/1 (frame 54/586) /content/drive/MyDrive/parking_tracking_project/tracking_ocr_edit.mp4: 256x416 1 plate, 71.3ms\n",
            "video 1/1 (frame 55/586) /content/drive/MyDrive/parking_tracking_project/tracking_ocr_edit.mp4: 256x416 1 plate, 87.8ms\n",
            "video 1/1 (frame 56/586) /content/drive/MyDrive/parking_tracking_project/tracking_ocr_edit.mp4: 256x416 1 plate, 78.9ms\n",
            "video 1/1 (frame 57/586) /content/drive/MyDrive/parking_tracking_project/tracking_ocr_edit.mp4: 256x416 1 plate, 67.4ms\n",
            "video 1/1 (frame 58/586) /content/drive/MyDrive/parking_tracking_project/tracking_ocr_edit.mp4: 256x416 1 plate, 67.0ms\n",
            "video 1/1 (frame 59/586) /content/drive/MyDrive/parking_tracking_project/tracking_ocr_edit.mp4: 256x416 1 plate, 72.7ms\n",
            "video 1/1 (frame 60/586) /content/drive/MyDrive/parking_tracking_project/tracking_ocr_edit.mp4: 256x416 1 plate, 66.5ms\n",
            "video 1/1 (frame 61/586) /content/drive/MyDrive/parking_tracking_project/tracking_ocr_edit.mp4: 256x416 1 plate, 67.1ms\n",
            "video 1/1 (frame 62/586) /content/drive/MyDrive/parking_tracking_project/tracking_ocr_edit.mp4: 256x416 1 plate, 69.0ms\n",
            "video 1/1 (frame 63/586) /content/drive/MyDrive/parking_tracking_project/tracking_ocr_edit.mp4: 256x416 1 plate, 69.8ms\n",
            "video 1/1 (frame 64/586) /content/drive/MyDrive/parking_tracking_project/tracking_ocr_edit.mp4: 256x416 1 plate, 67.7ms\n",
            "video 1/1 (frame 65/586) /content/drive/MyDrive/parking_tracking_project/tracking_ocr_edit.mp4: 256x416 1 plate, 90.7ms\n",
            "video 1/1 (frame 66/586) /content/drive/MyDrive/parking_tracking_project/tracking_ocr_edit.mp4: 256x416 1 plate, 74.8ms\n",
            "video 1/1 (frame 67/586) /content/drive/MyDrive/parking_tracking_project/tracking_ocr_edit.mp4: 256x416 1 plate, 71.9ms\n",
            "video 1/1 (frame 68/586) /content/drive/MyDrive/parking_tracking_project/tracking_ocr_edit.mp4: 256x416 1 plate, 71.5ms\n",
            "video 1/1 (frame 69/586) /content/drive/MyDrive/parking_tracking_project/tracking_ocr_edit.mp4: 256x416 1 plate, 68.9ms\n",
            "video 1/1 (frame 70/586) /content/drive/MyDrive/parking_tracking_project/tracking_ocr_edit.mp4: 256x416 1 plate, 70.4ms\n",
            "video 1/1 (frame 71/586) /content/drive/MyDrive/parking_tracking_project/tracking_ocr_edit.mp4: 256x416 1 plate, 66.7ms\n",
            "video 1/1 (frame 72/586) /content/drive/MyDrive/parking_tracking_project/tracking_ocr_edit.mp4: 256x416 1 plate, 74.5ms\n",
            "video 1/1 (frame 73/586) /content/drive/MyDrive/parking_tracking_project/tracking_ocr_edit.mp4: 256x416 1 plate, 74.8ms\n",
            "video 1/1 (frame 74/586) /content/drive/MyDrive/parking_tracking_project/tracking_ocr_edit.mp4: 256x416 1 plate, 69.4ms\n",
            "video 1/1 (frame 75/586) /content/drive/MyDrive/parking_tracking_project/tracking_ocr_edit.mp4: 256x416 1 plate, 77.2ms\n",
            "video 1/1 (frame 76/586) /content/drive/MyDrive/parking_tracking_project/tracking_ocr_edit.mp4: 256x416 1 plate, 73.4ms\n",
            "video 1/1 (frame 77/586) /content/drive/MyDrive/parking_tracking_project/tracking_ocr_edit.mp4: 256x416 1 plate, 85.6ms\n",
            "video 1/1 (frame 78/586) /content/drive/MyDrive/parking_tracking_project/tracking_ocr_edit.mp4: 256x416 1 plate, 69.0ms\n",
            "video 1/1 (frame 79/586) /content/drive/MyDrive/parking_tracking_project/tracking_ocr_edit.mp4: 256x416 1 plate, 67.1ms\n",
            "video 1/1 (frame 80/586) /content/drive/MyDrive/parking_tracking_project/tracking_ocr_edit.mp4: 256x416 1 plate, 70.4ms\n",
            "video 1/1 (frame 81/586) /content/drive/MyDrive/parking_tracking_project/tracking_ocr_edit.mp4: 256x416 1 plate, 76.1ms\n",
            "video 1/1 (frame 82/586) /content/drive/MyDrive/parking_tracking_project/tracking_ocr_edit.mp4: 256x416 1 plate, 71.9ms\n",
            "video 1/1 (frame 83/586) /content/drive/MyDrive/parking_tracking_project/tracking_ocr_edit.mp4: 256x416 1 plate, 75.2ms\n",
            "video 1/1 (frame 84/586) /content/drive/MyDrive/parking_tracking_project/tracking_ocr_edit.mp4: 256x416 1 plate, 71.1ms\n",
            "video 1/1 (frame 85/586) /content/drive/MyDrive/parking_tracking_project/tracking_ocr_edit.mp4: 256x416 1 plate, 70.7ms\n",
            "video 1/1 (frame 86/586) /content/drive/MyDrive/parking_tracking_project/tracking_ocr_edit.mp4: 256x416 1 plate, 81.7ms\n",
            "video 1/1 (frame 87/586) /content/drive/MyDrive/parking_tracking_project/tracking_ocr_edit.mp4: 256x416 1 plate, 79.0ms\n",
            "video 1/1 (frame 88/586) /content/drive/MyDrive/parking_tracking_project/tracking_ocr_edit.mp4: 256x416 1 plate, 72.7ms\n",
            "video 1/1 (frame 89/586) /content/drive/MyDrive/parking_tracking_project/tracking_ocr_edit.mp4: 256x416 1 plate, 69.2ms\n",
            "video 1/1 (frame 90/586) /content/drive/MyDrive/parking_tracking_project/tracking_ocr_edit.mp4: 256x416 1 plate, 69.6ms\n",
            "video 1/1 (frame 91/586) /content/drive/MyDrive/parking_tracking_project/tracking_ocr_edit.mp4: 256x416 1 plate, 66.9ms\n",
            "video 1/1 (frame 92/586) /content/drive/MyDrive/parking_tracking_project/tracking_ocr_edit.mp4: 256x416 1 plate, 71.2ms\n",
            "video 1/1 (frame 93/586) /content/drive/MyDrive/parking_tracking_project/tracking_ocr_edit.mp4: 256x416 1 plate, 69.5ms\n",
            "video 1/1 (frame 94/586) /content/drive/MyDrive/parking_tracking_project/tracking_ocr_edit.mp4: 256x416 1 plate, 71.2ms\n",
            "video 1/1 (frame 95/586) /content/drive/MyDrive/parking_tracking_project/tracking_ocr_edit.mp4: 256x416 1 plate, 68.1ms\n",
            "video 1/1 (frame 96/586) /content/drive/MyDrive/parking_tracking_project/tracking_ocr_edit.mp4: 256x416 1 plate, 86.5ms\n",
            "video 1/1 (frame 97/586) /content/drive/MyDrive/parking_tracking_project/tracking_ocr_edit.mp4: 256x416 1 plate, 67.1ms\n",
            "video 1/1 (frame 98/586) /content/drive/MyDrive/parking_tracking_project/tracking_ocr_edit.mp4: 256x416 1 plate, 89.0ms\n",
            "video 1/1 (frame 99/586) /content/drive/MyDrive/parking_tracking_project/tracking_ocr_edit.mp4: 256x416 1 plate, 70.5ms\n",
            "video 1/1 (frame 100/586) /content/drive/MyDrive/parking_tracking_project/tracking_ocr_edit.mp4: 256x416 1 plate, 66.9ms\n",
            "video 1/1 (frame 101/586) /content/drive/MyDrive/parking_tracking_project/tracking_ocr_edit.mp4: 256x416 1 plate, 67.6ms\n",
            "video 1/1 (frame 102/586) /content/drive/MyDrive/parking_tracking_project/tracking_ocr_edit.mp4: 256x416 1 plate, 69.6ms\n",
            "video 1/1 (frame 103/586) /content/drive/MyDrive/parking_tracking_project/tracking_ocr_edit.mp4: 256x416 1 plate, 71.1ms\n",
            "video 1/1 (frame 104/586) /content/drive/MyDrive/parking_tracking_project/tracking_ocr_edit.mp4: 256x416 1 plate, 76.6ms\n",
            "video 1/1 (frame 105/586) /content/drive/MyDrive/parking_tracking_project/tracking_ocr_edit.mp4: 256x416 1 plate, 68.4ms\n",
            "video 1/1 (frame 106/586) /content/drive/MyDrive/parking_tracking_project/tracking_ocr_edit.mp4: 256x416 1 plate, 88.0ms\n",
            "video 1/1 (frame 107/586) /content/drive/MyDrive/parking_tracking_project/tracking_ocr_edit.mp4: 256x416 1 plate, 66.5ms\n",
            "video 1/1 (frame 108/586) /content/drive/MyDrive/parking_tracking_project/tracking_ocr_edit.mp4: 256x416 1 plate, 67.2ms\n",
            "video 1/1 (frame 109/586) /content/drive/MyDrive/parking_tracking_project/tracking_ocr_edit.mp4: 256x416 1 plate, 82.4ms\n",
            "video 1/1 (frame 110/586) /content/drive/MyDrive/parking_tracking_project/tracking_ocr_edit.mp4: 256x416 1 plate, 66.6ms\n",
            "video 1/1 (frame 111/586) /content/drive/MyDrive/parking_tracking_project/tracking_ocr_edit.mp4: 256x416 1 plate, 68.2ms\n",
            "video 1/1 (frame 112/586) /content/drive/MyDrive/parking_tracking_project/tracking_ocr_edit.mp4: 256x416 1 plate, 69.2ms\n",
            "video 1/1 (frame 113/586) /content/drive/MyDrive/parking_tracking_project/tracking_ocr_edit.mp4: 256x416 1 plate, 70.7ms\n",
            "video 1/1 (frame 114/586) /content/drive/MyDrive/parking_tracking_project/tracking_ocr_edit.mp4: 256x416 1 plate, 67.7ms\n",
            "video 1/1 (frame 115/586) /content/drive/MyDrive/parking_tracking_project/tracking_ocr_edit.mp4: 256x416 1 plate, 71.5ms\n",
            "video 1/1 (frame 116/586) /content/drive/MyDrive/parking_tracking_project/tracking_ocr_edit.mp4: 256x416 1 plate, 76.0ms\n",
            "video 1/1 (frame 117/586) /content/drive/MyDrive/parking_tracking_project/tracking_ocr_edit.mp4: 256x416 1 plate, 78.9ms\n",
            "video 1/1 (frame 118/586) /content/drive/MyDrive/parking_tracking_project/tracking_ocr_edit.mp4: 256x416 1 plate, 68.6ms\n",
            "video 1/1 (frame 119/586) /content/drive/MyDrive/parking_tracking_project/tracking_ocr_edit.mp4: 256x416 1 plate, 68.4ms\n",
            "video 1/1 (frame 120/586) /content/drive/MyDrive/parking_tracking_project/tracking_ocr_edit.mp4: 256x416 1 plate, 67.6ms\n",
            "video 1/1 (frame 121/586) /content/drive/MyDrive/parking_tracking_project/tracking_ocr_edit.mp4: 256x416 1 plate, 78.5ms\n",
            "video 1/1 (frame 122/586) /content/drive/MyDrive/parking_tracking_project/tracking_ocr_edit.mp4: 256x416 1 plate, 68.5ms\n",
            "video 1/1 (frame 123/586) /content/drive/MyDrive/parking_tracking_project/tracking_ocr_edit.mp4: 256x416 1 plate, 69.2ms\n",
            "video 1/1 (frame 124/586) /content/drive/MyDrive/parking_tracking_project/tracking_ocr_edit.mp4: 256x416 1 plate, 72.3ms\n",
            "video 1/1 (frame 125/586) /content/drive/MyDrive/parking_tracking_project/tracking_ocr_edit.mp4: 256x416 1 plate, 70.0ms\n",
            "video 1/1 (frame 126/586) /content/drive/MyDrive/parking_tracking_project/tracking_ocr_edit.mp4: 256x416 1 plate, 72.1ms\n",
            "video 1/1 (frame 127/586) /content/drive/MyDrive/parking_tracking_project/tracking_ocr_edit.mp4: 256x416 1 plate, 82.8ms\n",
            "video 1/1 (frame 128/586) /content/drive/MyDrive/parking_tracking_project/tracking_ocr_edit.mp4: 256x416 1 plate, 68.6ms\n",
            "video 1/1 (frame 129/586) /content/drive/MyDrive/parking_tracking_project/tracking_ocr_edit.mp4: 256x416 1 plate, 67.5ms\n",
            "video 1/1 (frame 130/586) /content/drive/MyDrive/parking_tracking_project/tracking_ocr_edit.mp4: 256x416 1 plate, 88.2ms\n",
            "video 1/1 (frame 131/586) /content/drive/MyDrive/parking_tracking_project/tracking_ocr_edit.mp4: 256x416 1 plate, 67.5ms\n",
            "video 1/1 (frame 132/586) /content/drive/MyDrive/parking_tracking_project/tracking_ocr_edit.mp4: 256x416 1 plate, 96.4ms\n",
            "video 1/1 (frame 133/586) /content/drive/MyDrive/parking_tracking_project/tracking_ocr_edit.mp4: 256x416 1 plate, 72.5ms\n",
            "video 1/1 (frame 134/586) /content/drive/MyDrive/parking_tracking_project/tracking_ocr_edit.mp4: 256x416 1 plate, 69.8ms\n",
            "video 1/1 (frame 135/586) /content/drive/MyDrive/parking_tracking_project/tracking_ocr_edit.mp4: 256x416 1 plate, 72.2ms\n",
            "video 1/1 (frame 136/586) /content/drive/MyDrive/parking_tracking_project/tracking_ocr_edit.mp4: 256x416 1 plate, 68.7ms\n",
            "video 1/1 (frame 137/586) /content/drive/MyDrive/parking_tracking_project/tracking_ocr_edit.mp4: 256x416 1 plate, 87.3ms\n",
            "video 1/1 (frame 138/586) /content/drive/MyDrive/parking_tracking_project/tracking_ocr_edit.mp4: 256x416 1 plate, 70.3ms\n",
            "video 1/1 (frame 139/586) /content/drive/MyDrive/parking_tracking_project/tracking_ocr_edit.mp4: 256x416 1 plate, 71.8ms\n",
            "video 1/1 (frame 140/586) /content/drive/MyDrive/parking_tracking_project/tracking_ocr_edit.mp4: 256x416 1 plate, 78.1ms\n",
            "video 1/1 (frame 141/586) /content/drive/MyDrive/parking_tracking_project/tracking_ocr_edit.mp4: 256x416 1 plate, 70.1ms\n",
            "video 1/1 (frame 142/586) /content/drive/MyDrive/parking_tracking_project/tracking_ocr_edit.mp4: 256x416 1 plate, 71.1ms\n",
            "video 1/1 (frame 143/586) /content/drive/MyDrive/parking_tracking_project/tracking_ocr_edit.mp4: 256x416 1 plate, 70.1ms\n",
            "video 1/1 (frame 144/586) /content/drive/MyDrive/parking_tracking_project/tracking_ocr_edit.mp4: 256x416 1 plate, 70.9ms\n",
            "video 1/1 (frame 145/586) /content/drive/MyDrive/parking_tracking_project/tracking_ocr_edit.mp4: 256x416 1 plate, 70.7ms\n",
            "video 1/1 (frame 146/586) /content/drive/MyDrive/parking_tracking_project/tracking_ocr_edit.mp4: 256x416 1 plate, 94.4ms\n",
            "video 1/1 (frame 147/586) /content/drive/MyDrive/parking_tracking_project/tracking_ocr_edit.mp4: 256x416 1 plate, 122.4ms\n",
            "video 1/1 (frame 148/586) /content/drive/MyDrive/parking_tracking_project/tracking_ocr_edit.mp4: 256x416 1 plate, 109.9ms\n",
            "video 1/1 (frame 149/586) /content/drive/MyDrive/parking_tracking_project/tracking_ocr_edit.mp4: 256x416 1 plate, 120.5ms\n",
            "video 1/1 (frame 150/586) /content/drive/MyDrive/parking_tracking_project/tracking_ocr_edit.mp4: 256x416 1 plate, 105.6ms\n",
            "video 1/1 (frame 151/586) /content/drive/MyDrive/parking_tracking_project/tracking_ocr_edit.mp4: 256x416 1 plate, 109.0ms\n",
            "video 1/1 (frame 152/586) /content/drive/MyDrive/parking_tracking_project/tracking_ocr_edit.mp4: 256x416 1 plate, 106.2ms\n",
            "video 1/1 (frame 153/586) /content/drive/MyDrive/parking_tracking_project/tracking_ocr_edit.mp4: 256x416 1 plate, 107.7ms\n",
            "video 1/1 (frame 154/586) /content/drive/MyDrive/parking_tracking_project/tracking_ocr_edit.mp4: 256x416 1 plate, 102.8ms\n",
            "video 1/1 (frame 155/586) /content/drive/MyDrive/parking_tracking_project/tracking_ocr_edit.mp4: 256x416 1 plate, 105.1ms\n",
            "video 1/1 (frame 156/586) /content/drive/MyDrive/parking_tracking_project/tracking_ocr_edit.mp4: 256x416 1 plate, 108.0ms\n",
            "video 1/1 (frame 157/586) /content/drive/MyDrive/parking_tracking_project/tracking_ocr_edit.mp4: 256x416 1 plate, 126.5ms\n",
            "video 1/1 (frame 158/586) /content/drive/MyDrive/parking_tracking_project/tracking_ocr_edit.mp4: 256x416 1 plate, 110.3ms\n",
            "video 1/1 (frame 159/586) /content/drive/MyDrive/parking_tracking_project/tracking_ocr_edit.mp4: 256x416 1 plate, 111.1ms\n",
            "video 1/1 (frame 160/586) /content/drive/MyDrive/parking_tracking_project/tracking_ocr_edit.mp4: 256x416 1 plate, 108.2ms\n",
            "video 1/1 (frame 161/586) /content/drive/MyDrive/parking_tracking_project/tracking_ocr_edit.mp4: 256x416 1 plate, 102.4ms\n",
            "video 1/1 (frame 162/586) /content/drive/MyDrive/parking_tracking_project/tracking_ocr_edit.mp4: 256x416 1 plate, 112.4ms\n",
            "video 1/1 (frame 163/586) /content/drive/MyDrive/parking_tracking_project/tracking_ocr_edit.mp4: 256x416 1 plate, 102.0ms\n",
            "video 1/1 (frame 164/586) /content/drive/MyDrive/parking_tracking_project/tracking_ocr_edit.mp4: 256x416 1 plate, 124.6ms\n",
            "video 1/1 (frame 165/586) /content/drive/MyDrive/parking_tracking_project/tracking_ocr_edit.mp4: 256x416 1 plate, 107.5ms\n",
            "video 1/1 (frame 166/586) /content/drive/MyDrive/parking_tracking_project/tracking_ocr_edit.mp4: 256x416 1 plate, 102.7ms\n",
            "video 1/1 (frame 167/586) /content/drive/MyDrive/parking_tracking_project/tracking_ocr_edit.mp4: 256x416 1 plate, 116.6ms\n",
            "video 1/1 (frame 168/586) /content/drive/MyDrive/parking_tracking_project/tracking_ocr_edit.mp4: 256x416 1 plate, 114.2ms\n",
            "video 1/1 (frame 169/586) /content/drive/MyDrive/parking_tracking_project/tracking_ocr_edit.mp4: 256x416 1 plate, 105.1ms\n",
            "video 1/1 (frame 170/586) /content/drive/MyDrive/parking_tracking_project/tracking_ocr_edit.mp4: 256x416 1 plate, 113.3ms\n",
            "video 1/1 (frame 171/586) /content/drive/MyDrive/parking_tracking_project/tracking_ocr_edit.mp4: 256x416 1 plate, 114.8ms\n",
            "video 1/1 (frame 172/586) /content/drive/MyDrive/parking_tracking_project/tracking_ocr_edit.mp4: 256x416 1 plate, 115.7ms\n",
            "video 1/1 (frame 173/586) /content/drive/MyDrive/parking_tracking_project/tracking_ocr_edit.mp4: 256x416 1 plate, 113.4ms\n",
            "video 1/1 (frame 174/586) /content/drive/MyDrive/parking_tracking_project/tracking_ocr_edit.mp4: 256x416 1 plate, 139.0ms\n",
            "video 1/1 (frame 175/586) /content/drive/MyDrive/parking_tracking_project/tracking_ocr_edit.mp4: 256x416 1 plate, 113.6ms\n",
            "video 1/1 (frame 176/586) /content/drive/MyDrive/parking_tracking_project/tracking_ocr_edit.mp4: 256x416 1 plate, 126.5ms\n",
            "video 1/1 (frame 177/586) /content/drive/MyDrive/parking_tracking_project/tracking_ocr_edit.mp4: 256x416 1 plate, 114.3ms\n",
            "video 1/1 (frame 178/586) /content/drive/MyDrive/parking_tracking_project/tracking_ocr_edit.mp4: 256x416 1 plate, 122.9ms\n",
            "video 1/1 (frame 179/586) /content/drive/MyDrive/parking_tracking_project/tracking_ocr_edit.mp4: 256x416 1 plate, 115.8ms\n",
            "video 1/1 (frame 180/586) /content/drive/MyDrive/parking_tracking_project/tracking_ocr_edit.mp4: 256x416 1 plate, 128.5ms\n",
            "video 1/1 (frame 181/586) /content/drive/MyDrive/parking_tracking_project/tracking_ocr_edit.mp4: 256x416 1 plate, 115.4ms\n",
            "video 1/1 (frame 182/586) /content/drive/MyDrive/parking_tracking_project/tracking_ocr_edit.mp4: 256x416 1 plate, 113.7ms\n",
            "video 1/1 (frame 183/586) /content/drive/MyDrive/parking_tracking_project/tracking_ocr_edit.mp4: 256x416 1 plate, 110.0ms\n",
            "video 1/1 (frame 184/586) /content/drive/MyDrive/parking_tracking_project/tracking_ocr_edit.mp4: 256x416 1 plate, 109.6ms\n",
            "video 1/1 (frame 185/586) /content/drive/MyDrive/parking_tracking_project/tracking_ocr_edit.mp4: 256x416 1 plate, 111.6ms\n",
            "video 1/1 (frame 186/586) /content/drive/MyDrive/parking_tracking_project/tracking_ocr_edit.mp4: 256x416 1 plate, 76.7ms\n",
            "video 1/1 (frame 187/586) /content/drive/MyDrive/parking_tracking_project/tracking_ocr_edit.mp4: 256x416 1 plate, 68.3ms\n",
            "video 1/1 (frame 188/586) /content/drive/MyDrive/parking_tracking_project/tracking_ocr_edit.mp4: 256x416 1 plate, 84.0ms\n",
            "video 1/1 (frame 189/586) /content/drive/MyDrive/parking_tracking_project/tracking_ocr_edit.mp4: 256x416 1 plate, 72.2ms\n",
            "video 1/1 (frame 190/586) /content/drive/MyDrive/parking_tracking_project/tracking_ocr_edit.mp4: 256x416 1 plate, 70.6ms\n",
            "video 1/1 (frame 191/586) /content/drive/MyDrive/parking_tracking_project/tracking_ocr_edit.mp4: 256x416 1 plate, 68.0ms\n",
            "video 1/1 (frame 192/586) /content/drive/MyDrive/parking_tracking_project/tracking_ocr_edit.mp4: 256x416 1 plate, 72.4ms\n",
            "video 1/1 (frame 193/586) /content/drive/MyDrive/parking_tracking_project/tracking_ocr_edit.mp4: 256x416 1 plate, 70.7ms\n",
            "video 1/1 (frame 194/586) /content/drive/MyDrive/parking_tracking_project/tracking_ocr_edit.mp4: 256x416 1 plate, 71.9ms\n",
            "video 1/1 (frame 195/586) /content/drive/MyDrive/parking_tracking_project/tracking_ocr_edit.mp4: 256x416 1 plate, 75.8ms\n",
            "video 1/1 (frame 196/586) /content/drive/MyDrive/parking_tracking_project/tracking_ocr_edit.mp4: 256x416 1 plate, 85.7ms\n",
            "video 1/1 (frame 197/586) /content/drive/MyDrive/parking_tracking_project/tracking_ocr_edit.mp4: 256x416 1 plate, 69.0ms\n",
            "video 1/1 (frame 198/586) /content/drive/MyDrive/parking_tracking_project/tracking_ocr_edit.mp4: 256x416 1 plate, 84.6ms\n",
            "video 1/1 (frame 199/586) /content/drive/MyDrive/parking_tracking_project/tracking_ocr_edit.mp4: 256x416 1 plate, 71.1ms\n",
            "video 1/1 (frame 200/586) /content/drive/MyDrive/parking_tracking_project/tracking_ocr_edit.mp4: 256x416 1 plate, 70.1ms\n",
            "video 1/1 (frame 201/586) /content/drive/MyDrive/parking_tracking_project/tracking_ocr_edit.mp4: 256x416 1 plate, 76.5ms\n",
            "video 1/1 (frame 202/586) /content/drive/MyDrive/parking_tracking_project/tracking_ocr_edit.mp4: 256x416 1 plate, 68.5ms\n",
            "video 1/1 (frame 203/586) /content/drive/MyDrive/parking_tracking_project/tracking_ocr_edit.mp4: 256x416 1 plate, 68.8ms\n",
            "video 1/1 (frame 204/586) /content/drive/MyDrive/parking_tracking_project/tracking_ocr_edit.mp4: 256x416 1 plate, 72.7ms\n",
            "video 1/1 (frame 205/586) /content/drive/MyDrive/parking_tracking_project/tracking_ocr_edit.mp4: 256x416 1 plate, 73.4ms\n",
            "video 1/1 (frame 206/586) /content/drive/MyDrive/parking_tracking_project/tracking_ocr_edit.mp4: 256x416 1 plate, 70.0ms\n",
            "video 1/1 (frame 207/586) /content/drive/MyDrive/parking_tracking_project/tracking_ocr_edit.mp4: 256x416 1 plate, 83.8ms\n",
            "video 1/1 (frame 208/586) /content/drive/MyDrive/parking_tracking_project/tracking_ocr_edit.mp4: 256x416 1 plate, 88.7ms\n",
            "video 1/1 (frame 209/586) /content/drive/MyDrive/parking_tracking_project/tracking_ocr_edit.mp4: 256x416 1 plate, 69.5ms\n",
            "video 1/1 (frame 210/586) /content/drive/MyDrive/parking_tracking_project/tracking_ocr_edit.mp4: 256x416 1 plate, 71.8ms\n",
            "video 1/1 (frame 211/586) /content/drive/MyDrive/parking_tracking_project/tracking_ocr_edit.mp4: 256x416 1 plate, 70.7ms\n",
            "video 1/1 (frame 212/586) /content/drive/MyDrive/parking_tracking_project/tracking_ocr_edit.mp4: 256x416 1 plate, 66.9ms\n",
            "video 1/1 (frame 213/586) /content/drive/MyDrive/parking_tracking_project/tracking_ocr_edit.mp4: 256x416 1 plate, 68.0ms\n",
            "video 1/1 (frame 214/586) /content/drive/MyDrive/parking_tracking_project/tracking_ocr_edit.mp4: 256x416 1 plate, 67.5ms\n",
            "video 1/1 (frame 215/586) /content/drive/MyDrive/parking_tracking_project/tracking_ocr_edit.mp4: 256x416 1 plate, 70.7ms\n",
            "video 1/1 (frame 216/586) /content/drive/MyDrive/parking_tracking_project/tracking_ocr_edit.mp4: 256x416 1 plate, 72.2ms\n",
            "video 1/1 (frame 217/586) /content/drive/MyDrive/parking_tracking_project/tracking_ocr_edit.mp4: 256x416 1 plate, 83.9ms\n",
            "video 1/1 (frame 218/586) /content/drive/MyDrive/parking_tracking_project/tracking_ocr_edit.mp4: 256x416 1 plate, 78.4ms\n",
            "video 1/1 (frame 219/586) /content/drive/MyDrive/parking_tracking_project/tracking_ocr_edit.mp4: 256x416 1 plate, 68.3ms\n",
            "video 1/1 (frame 220/586) /content/drive/MyDrive/parking_tracking_project/tracking_ocr_edit.mp4: 256x416 1 plate, 74.3ms\n",
            "video 1/1 (frame 221/586) /content/drive/MyDrive/parking_tracking_project/tracking_ocr_edit.mp4: 256x416 1 plate, 67.2ms\n",
            "video 1/1 (frame 222/586) /content/drive/MyDrive/parking_tracking_project/tracking_ocr_edit.mp4: 256x416 1 plate, 68.2ms\n",
            "video 1/1 (frame 223/586) /content/drive/MyDrive/parking_tracking_project/tracking_ocr_edit.mp4: 256x416 1 plate, 73.9ms\n",
            "video 1/1 (frame 224/586) /content/drive/MyDrive/parking_tracking_project/tracking_ocr_edit.mp4: 256x416 1 plate, 69.9ms\n",
            "video 1/1 (frame 225/586) /content/drive/MyDrive/parking_tracking_project/tracking_ocr_edit.mp4: 256x416 1 plate, 68.9ms\n",
            "video 1/1 (frame 226/586) /content/drive/MyDrive/parking_tracking_project/tracking_ocr_edit.mp4: 256x416 1 plate, 70.6ms\n",
            "video 1/1 (frame 227/586) /content/drive/MyDrive/parking_tracking_project/tracking_ocr_edit.mp4: 256x416 1 plate, 70.1ms\n",
            "video 1/1 (frame 228/586) /content/drive/MyDrive/parking_tracking_project/tracking_ocr_edit.mp4: 256x416 1 plate, 87.2ms\n",
            "video 1/1 (frame 229/586) /content/drive/MyDrive/parking_tracking_project/tracking_ocr_edit.mp4: 256x416 1 plate, 72.8ms\n",
            "video 1/1 (frame 230/586) /content/drive/MyDrive/parking_tracking_project/tracking_ocr_edit.mp4: 256x416 1 plate, 73.0ms\n",
            "video 1/1 (frame 231/586) /content/drive/MyDrive/parking_tracking_project/tracking_ocr_edit.mp4: 256x416 1 plate, 67.9ms\n",
            "video 1/1 (frame 232/586) /content/drive/MyDrive/parking_tracking_project/tracking_ocr_edit.mp4: 256x416 1 plate, 76.5ms\n",
            "video 1/1 (frame 233/586) /content/drive/MyDrive/parking_tracking_project/tracking_ocr_edit.mp4: 256x416 1 plate, 71.1ms\n",
            "video 1/1 (frame 234/586) /content/drive/MyDrive/parking_tracking_project/tracking_ocr_edit.mp4: 256x416 1 plate, 68.4ms\n",
            "video 1/1 (frame 235/586) /content/drive/MyDrive/parking_tracking_project/tracking_ocr_edit.mp4: 256x416 1 plate, 70.5ms\n",
            "video 1/1 (frame 236/586) /content/drive/MyDrive/parking_tracking_project/tracking_ocr_edit.mp4: 256x416 1 plate, 72.6ms\n",
            "video 1/1 (frame 237/586) /content/drive/MyDrive/parking_tracking_project/tracking_ocr_edit.mp4: 256x416 1 plate, 69.0ms\n",
            "video 1/1 (frame 238/586) /content/drive/MyDrive/parking_tracking_project/tracking_ocr_edit.mp4: 256x416 1 plate, 84.9ms\n",
            "video 1/1 (frame 239/586) /content/drive/MyDrive/parking_tracking_project/tracking_ocr_edit.mp4: 256x416 1 plate, 71.5ms\n",
            "video 1/1 (frame 240/586) /content/drive/MyDrive/parking_tracking_project/tracking_ocr_edit.mp4: 256x416 1 plate, 71.5ms\n",
            "video 1/1 (frame 241/586) /content/drive/MyDrive/parking_tracking_project/tracking_ocr_edit.mp4: 256x416 1 plate, 74.5ms\n",
            "video 1/1 (frame 242/586) /content/drive/MyDrive/parking_tracking_project/tracking_ocr_edit.mp4: 256x416 1 plate, 69.0ms\n",
            "video 1/1 (frame 243/586) /content/drive/MyDrive/parking_tracking_project/tracking_ocr_edit.mp4: 256x416 1 plate, 68.4ms\n",
            "video 1/1 (frame 244/586) /content/drive/MyDrive/parking_tracking_project/tracking_ocr_edit.mp4: 256x416 1 plate, 69.7ms\n",
            "video 1/1 (frame 245/586) /content/drive/MyDrive/parking_tracking_project/tracking_ocr_edit.mp4: 256x416 1 plate, 74.0ms\n",
            "video 1/1 (frame 246/586) /content/drive/MyDrive/parking_tracking_project/tracking_ocr_edit.mp4: 256x416 1 plate, 73.0ms\n",
            "video 1/1 (frame 247/586) /content/drive/MyDrive/parking_tracking_project/tracking_ocr_edit.mp4: 256x416 1 plate, 73.0ms\n",
            "video 1/1 (frame 248/586) /content/drive/MyDrive/parking_tracking_project/tracking_ocr_edit.mp4: 256x416 1 plate, 79.8ms\n",
            "video 1/1 (frame 249/586) /content/drive/MyDrive/parking_tracking_project/tracking_ocr_edit.mp4: 256x416 1 plate, 83.3ms\n",
            "video 1/1 (frame 250/586) /content/drive/MyDrive/parking_tracking_project/tracking_ocr_edit.mp4: 256x416 1 plate, 74.1ms\n",
            "video 1/1 (frame 251/586) /content/drive/MyDrive/parking_tracking_project/tracking_ocr_edit.mp4: 256x416 1 plate, 67.8ms\n",
            "video 1/1 (frame 252/586) /content/drive/MyDrive/parking_tracking_project/tracking_ocr_edit.mp4: 256x416 1 plate, 71.9ms\n",
            "video 1/1 (frame 253/586) /content/drive/MyDrive/parking_tracking_project/tracking_ocr_edit.mp4: 256x416 1 plate, 74.7ms\n",
            "video 1/1 (frame 254/586) /content/drive/MyDrive/parking_tracking_project/tracking_ocr_edit.mp4: 256x416 1 plate, 70.7ms\n",
            "video 1/1 (frame 255/586) /content/drive/MyDrive/parking_tracking_project/tracking_ocr_edit.mp4: 256x416 1 plate, 71.1ms\n",
            "video 1/1 (frame 256/586) /content/drive/MyDrive/parking_tracking_project/tracking_ocr_edit.mp4: 256x416 1 plate, 72.4ms\n",
            "video 1/1 (frame 257/586) /content/drive/MyDrive/parking_tracking_project/tracking_ocr_edit.mp4: 256x416 1 plate, 69.9ms\n",
            "video 1/1 (frame 258/586) /content/drive/MyDrive/parking_tracking_project/tracking_ocr_edit.mp4: 256x416 1 plate, 70.1ms\n",
            "video 1/1 (frame 259/586) /content/drive/MyDrive/parking_tracking_project/tracking_ocr_edit.mp4: 256x416 1 plate, 96.6ms\n",
            "video 1/1 (frame 260/586) /content/drive/MyDrive/parking_tracking_project/tracking_ocr_edit.mp4: 256x416 1 plate, 73.9ms\n",
            "video 1/1 (frame 261/586) /content/drive/MyDrive/parking_tracking_project/tracking_ocr_edit.mp4: 256x416 1 plate, 74.1ms\n",
            "video 1/1 (frame 262/586) /content/drive/MyDrive/parking_tracking_project/tracking_ocr_edit.mp4: 256x416 1 plate, 73.6ms\n",
            "video 1/1 (frame 263/586) /content/drive/MyDrive/parking_tracking_project/tracking_ocr_edit.mp4: 256x416 1 plate, 71.3ms\n",
            "video 1/1 (frame 264/586) /content/drive/MyDrive/parking_tracking_project/tracking_ocr_edit.mp4: 256x416 1 plate, 68.5ms\n",
            "video 1/1 (frame 265/586) /content/drive/MyDrive/parking_tracking_project/tracking_ocr_edit.mp4: 256x416 1 plate, 70.1ms\n",
            "video 1/1 (frame 266/586) /content/drive/MyDrive/parking_tracking_project/tracking_ocr_edit.mp4: 256x416 1 plate, 72.0ms\n",
            "video 1/1 (frame 267/586) /content/drive/MyDrive/parking_tracking_project/tracking_ocr_edit.mp4: 256x416 1 plate, 71.4ms\n",
            "video 1/1 (frame 268/586) /content/drive/MyDrive/parking_tracking_project/tracking_ocr_edit.mp4: 256x416 1 plate, 72.5ms\n",
            "video 1/1 (frame 269/586) /content/drive/MyDrive/parking_tracking_project/tracking_ocr_edit.mp4: 256x416 1 plate, 89.8ms\n",
            "video 1/1 (frame 270/586) /content/drive/MyDrive/parking_tracking_project/tracking_ocr_edit.mp4: 256x416 1 plate, 74.0ms\n",
            "video 1/1 (frame 271/586) /content/drive/MyDrive/parking_tracking_project/tracking_ocr_edit.mp4: 256x416 1 plate, 70.8ms\n",
            "video 1/1 (frame 272/586) /content/drive/MyDrive/parking_tracking_project/tracking_ocr_edit.mp4: 256x416 1 plate, 70.5ms\n",
            "video 1/1 (frame 273/586) /content/drive/MyDrive/parking_tracking_project/tracking_ocr_edit.mp4: 256x416 1 plate, 73.0ms\n",
            "video 1/1 (frame 274/586) /content/drive/MyDrive/parking_tracking_project/tracking_ocr_edit.mp4: 256x416 1 plate, 70.4ms\n",
            "video 1/1 (frame 275/586) /content/drive/MyDrive/parking_tracking_project/tracking_ocr_edit.mp4: 256x416 1 plate, 71.7ms\n",
            "video 1/1 (frame 276/586) /content/drive/MyDrive/parking_tracking_project/tracking_ocr_edit.mp4: 256x416 1 plate, 71.2ms\n",
            "video 1/1 (frame 277/586) /content/drive/MyDrive/parking_tracking_project/tracking_ocr_edit.mp4: 256x416 1 plate, 74.5ms\n",
            "video 1/1 (frame 278/586) /content/drive/MyDrive/parking_tracking_project/tracking_ocr_edit.mp4: 256x416 1 plate, 71.6ms\n",
            "video 1/1 (frame 279/586) /content/drive/MyDrive/parking_tracking_project/tracking_ocr_edit.mp4: 256x416 1 plate, 81.8ms\n",
            "video 1/1 (frame 280/586) /content/drive/MyDrive/parking_tracking_project/tracking_ocr_edit.mp4: 256x416 1 plate, 86.2ms\n",
            "video 1/1 (frame 281/586) /content/drive/MyDrive/parking_tracking_project/tracking_ocr_edit.mp4: 256x416 1 plate, 72.6ms\n",
            "video 1/1 (frame 282/586) /content/drive/MyDrive/parking_tracking_project/tracking_ocr_edit.mp4: 256x416 1 plate, 67.9ms\n",
            "video 1/1 (frame 283/586) /content/drive/MyDrive/parking_tracking_project/tracking_ocr_edit.mp4: 256x416 1 plate, 67.1ms\n",
            "video 1/1 (frame 284/586) /content/drive/MyDrive/parking_tracking_project/tracking_ocr_edit.mp4: 256x416 1 plate, 72.7ms\n",
            "video 1/1 (frame 285/586) /content/drive/MyDrive/parking_tracking_project/tracking_ocr_edit.mp4: 256x416 1 plate, 67.6ms\n",
            "video 1/1 (frame 286/586) /content/drive/MyDrive/parking_tracking_project/tracking_ocr_edit.mp4: 256x416 1 plate, 70.1ms\n",
            "video 1/1 (frame 287/586) /content/drive/MyDrive/parking_tracking_project/tracking_ocr_edit.mp4: 256x416 1 plate, 108.8ms\n",
            "video 1/1 (frame 288/586) /content/drive/MyDrive/parking_tracking_project/tracking_ocr_edit.mp4: 256x416 1 plate, 110.8ms\n",
            "video 1/1 (frame 289/586) /content/drive/MyDrive/parking_tracking_project/tracking_ocr_edit.mp4: 256x416 1 plate, 132.1ms\n",
            "video 1/1 (frame 290/586) /content/drive/MyDrive/parking_tracking_project/tracking_ocr_edit.mp4: 256x416 1 plate, 105.8ms\n",
            "video 1/1 (frame 291/586) /content/drive/MyDrive/parking_tracking_project/tracking_ocr_edit.mp4: 256x416 1 plate, 110.7ms\n",
            "video 1/1 (frame 292/586) /content/drive/MyDrive/parking_tracking_project/tracking_ocr_edit.mp4: 256x416 1 plate, 103.8ms\n",
            "video 1/1 (frame 293/586) /content/drive/MyDrive/parking_tracking_project/tracking_ocr_edit.mp4: 256x416 1 plate, 106.8ms\n",
            "video 1/1 (frame 294/586) /content/drive/MyDrive/parking_tracking_project/tracking_ocr_edit.mp4: 256x416 1 plate, 101.0ms\n",
            "video 1/1 (frame 295/586) /content/drive/MyDrive/parking_tracking_project/tracking_ocr_edit.mp4: 256x416 1 plate, 122.5ms\n",
            "video 1/1 (frame 296/586) /content/drive/MyDrive/parking_tracking_project/tracking_ocr_edit.mp4: 256x416 1 plate, 109.3ms\n",
            "video 1/1 (frame 297/586) /content/drive/MyDrive/parking_tracking_project/tracking_ocr_edit.mp4: 256x416 1 plate, 122.2ms\n",
            "video 1/1 (frame 298/586) /content/drive/MyDrive/parking_tracking_project/tracking_ocr_edit.mp4: 256x416 1 plate, 111.3ms\n",
            "video 1/1 (frame 299/586) /content/drive/MyDrive/parking_tracking_project/tracking_ocr_edit.mp4: 256x416 1 plate, 105.5ms\n",
            "video 1/1 (frame 300/586) /content/drive/MyDrive/parking_tracking_project/tracking_ocr_edit.mp4: 256x416 1 plate, 108.8ms\n",
            "video 1/1 (frame 301/586) /content/drive/MyDrive/parking_tracking_project/tracking_ocr_edit.mp4: 256x416 1 plate, 104.2ms\n",
            "video 1/1 (frame 302/586) /content/drive/MyDrive/parking_tracking_project/tracking_ocr_edit.mp4: 256x416 1 plate, 119.2ms\n",
            "video 1/1 (frame 303/586) /content/drive/MyDrive/parking_tracking_project/tracking_ocr_edit.mp4: 256x416 1 plate, 102.8ms\n",
            "video 1/1 (frame 304/586) /content/drive/MyDrive/parking_tracking_project/tracking_ocr_edit.mp4: 256x416 1 plate, 111.9ms\n",
            "video 1/1 (frame 305/586) /content/drive/MyDrive/parking_tracking_project/tracking_ocr_edit.mp4: 256x416 1 plate, 100.2ms\n",
            "video 1/1 (frame 306/586) /content/drive/MyDrive/parking_tracking_project/tracking_ocr_edit.mp4: 256x416 1 plate, 106.5ms\n",
            "video 1/1 (frame 307/586) /content/drive/MyDrive/parking_tracking_project/tracking_ocr_edit.mp4: 256x416 1 plate, 104.8ms\n",
            "video 1/1 (frame 308/586) /content/drive/MyDrive/parking_tracking_project/tracking_ocr_edit.mp4: 256x416 1 plate, 110.0ms\n",
            "video 1/1 (frame 309/586) /content/drive/MyDrive/parking_tracking_project/tracking_ocr_edit.mp4: 256x416 1 plate, 123.9ms\n",
            "video 1/1 (frame 310/586) /content/drive/MyDrive/parking_tracking_project/tracking_ocr_edit.mp4: 256x416 1 plate, 104.6ms\n",
            "video 1/1 (frame 311/586) /content/drive/MyDrive/parking_tracking_project/tracking_ocr_edit.mp4: 256x416 1 plate, 132.8ms\n",
            "video 1/1 (frame 312/586) /content/drive/MyDrive/parking_tracking_project/tracking_ocr_edit.mp4: 256x416 1 plate, 106.2ms\n",
            "video 1/1 (frame 313/586) /content/drive/MyDrive/parking_tracking_project/tracking_ocr_edit.mp4: 256x416 1 plate, 115.1ms\n",
            "video 1/1 (frame 314/586) /content/drive/MyDrive/parking_tracking_project/tracking_ocr_edit.mp4: 256x416 1 plate, 121.6ms\n",
            "video 1/1 (frame 315/586) /content/drive/MyDrive/parking_tracking_project/tracking_ocr_edit.mp4: 256x416 1 plate, 119.0ms\n",
            "video 1/1 (frame 316/586) /content/drive/MyDrive/parking_tracking_project/tracking_ocr_edit.mp4: 256x416 1 plate, 119.9ms\n",
            "video 1/1 (frame 317/586) /content/drive/MyDrive/parking_tracking_project/tracking_ocr_edit.mp4: 256x416 1 plate, 133.0ms\n",
            "video 1/1 (frame 318/586) /content/drive/MyDrive/parking_tracking_project/tracking_ocr_edit.mp4: 256x416 1 plate, 119.6ms\n",
            "video 1/1 (frame 319/586) /content/drive/MyDrive/parking_tracking_project/tracking_ocr_edit.mp4: 256x416 1 plate, 113.1ms\n",
            "video 1/1 (frame 320/586) /content/drive/MyDrive/parking_tracking_project/tracking_ocr_edit.mp4: 256x416 1 plate, 110.3ms\n",
            "video 1/1 (frame 321/586) /content/drive/MyDrive/parking_tracking_project/tracking_ocr_edit.mp4: 256x416 1 plate, 68.9ms\n",
            "video 1/1 (frame 322/586) /content/drive/MyDrive/parking_tracking_project/tracking_ocr_edit.mp4: 256x416 1 plate, 71.4ms\n",
            "video 1/1 (frame 323/586) /content/drive/MyDrive/parking_tracking_project/tracking_ocr_edit.mp4: 256x416 1 plate, 78.7ms\n",
            "video 1/1 (frame 324/586) /content/drive/MyDrive/parking_tracking_project/tracking_ocr_edit.mp4: 256x416 1 plate, 68.9ms\n",
            "video 1/1 (frame 325/586) /content/drive/MyDrive/parking_tracking_project/tracking_ocr_edit.mp4: 256x416 1 plate, 73.7ms\n",
            "video 1/1 (frame 326/586) /content/drive/MyDrive/parking_tracking_project/tracking_ocr_edit.mp4: 256x416 1 plate, 70.8ms\n",
            "video 1/1 (frame 327/586) /content/drive/MyDrive/parking_tracking_project/tracking_ocr_edit.mp4: 256x416 1 plate, 80.9ms\n",
            "video 1/1 (frame 328/586) /content/drive/MyDrive/parking_tracking_project/tracking_ocr_edit.mp4: 256x416 1 plate, 73.4ms\n",
            "video 1/1 (frame 329/586) /content/drive/MyDrive/parking_tracking_project/tracking_ocr_edit.mp4: 256x416 1 plate, 70.8ms\n",
            "video 1/1 (frame 330/586) /content/drive/MyDrive/parking_tracking_project/tracking_ocr_edit.mp4: 256x416 1 plate, 77.2ms\n",
            "video 1/1 (frame 331/586) /content/drive/MyDrive/parking_tracking_project/tracking_ocr_edit.mp4: 256x416 1 plate, 70.5ms\n",
            "video 1/1 (frame 332/586) /content/drive/MyDrive/parking_tracking_project/tracking_ocr_edit.mp4: 256x416 1 plate, 68.3ms\n",
            "video 1/1 (frame 333/586) /content/drive/MyDrive/parking_tracking_project/tracking_ocr_edit.mp4: 256x416 1 plate, 76.6ms\n",
            "video 1/1 (frame 334/586) /content/drive/MyDrive/parking_tracking_project/tracking_ocr_edit.mp4: 256x416 1 plate, 75.6ms\n",
            "video 1/1 (frame 335/586) /content/drive/MyDrive/parking_tracking_project/tracking_ocr_edit.mp4: 256x416 1 plate, 69.8ms\n",
            "video 1/1 (frame 336/586) /content/drive/MyDrive/parking_tracking_project/tracking_ocr_edit.mp4: 256x416 1 plate, 70.5ms\n",
            "video 1/1 (frame 337/586) /content/drive/MyDrive/parking_tracking_project/tracking_ocr_edit.mp4: 256x416 1 plate, 69.1ms\n",
            "video 1/1 (frame 338/586) /content/drive/MyDrive/parking_tracking_project/tracking_ocr_edit.mp4: 256x416 1 plate, 84.1ms\n",
            "video 1/1 (frame 339/586) /content/drive/MyDrive/parking_tracking_project/tracking_ocr_edit.mp4: 256x416 1 plate, 65.7ms\n",
            "video 1/1 (frame 340/586) /content/drive/MyDrive/parking_tracking_project/tracking_ocr_edit.mp4: 256x416 1 plate, 68.9ms\n",
            "video 1/1 (frame 341/586) /content/drive/MyDrive/parking_tracking_project/tracking_ocr_edit.mp4: 256x416 1 plate, 69.7ms\n",
            "video 1/1 (frame 342/586) /content/drive/MyDrive/parking_tracking_project/tracking_ocr_edit.mp4: 256x416 1 plate, 69.5ms\n",
            "video 1/1 (frame 343/586) /content/drive/MyDrive/parking_tracking_project/tracking_ocr_edit.mp4: 256x416 1 plate, 71.6ms\n",
            "video 1/1 (frame 344/586) /content/drive/MyDrive/parking_tracking_project/tracking_ocr_edit.mp4: 256x416 1 plate, 78.5ms\n",
            "video 1/1 (frame 345/586) /content/drive/MyDrive/parking_tracking_project/tracking_ocr_edit.mp4: 256x416 1 plate, 68.9ms\n",
            "video 1/1 (frame 346/586) /content/drive/MyDrive/parking_tracking_project/tracking_ocr_edit.mp4: 256x416 1 plate, 69.2ms\n",
            "video 1/1 (frame 347/586) /content/drive/MyDrive/parking_tracking_project/tracking_ocr_edit.mp4: 256x416 1 plate, 74.9ms\n",
            "video 1/1 (frame 348/586) /content/drive/MyDrive/parking_tracking_project/tracking_ocr_edit.mp4: 256x416 1 plate, 70.4ms\n",
            "video 1/1 (frame 349/586) /content/drive/MyDrive/parking_tracking_project/tracking_ocr_edit.mp4: 256x416 1 plate, 67.7ms\n",
            "video 1/1 (frame 350/586) /content/drive/MyDrive/parking_tracking_project/tracking_ocr_edit.mp4: 256x416 1 plate, 68.6ms\n",
            "video 1/1 (frame 351/586) /content/drive/MyDrive/parking_tracking_project/tracking_ocr_edit.mp4: 256x416 1 plate, 72.4ms\n",
            "video 1/1 (frame 352/586) /content/drive/MyDrive/parking_tracking_project/tracking_ocr_edit.mp4: 256x416 1 plate, 73.1ms\n",
            "video 1/1 (frame 353/586) /content/drive/MyDrive/parking_tracking_project/tracking_ocr_edit.mp4: 256x416 1 plate, 70.3ms\n",
            "video 1/1 (frame 354/586) /content/drive/MyDrive/parking_tracking_project/tracking_ocr_edit.mp4: 256x416 1 plate, 79.9ms\n",
            "video 1/1 (frame 355/586) /content/drive/MyDrive/parking_tracking_project/tracking_ocr_edit.mp4: 256x416 1 plate, 69.8ms\n",
            "video 1/1 (frame 356/586) /content/drive/MyDrive/parking_tracking_project/tracking_ocr_edit.mp4: 256x416 1 plate, 76.1ms\n",
            "video 1/1 (frame 357/586) /content/drive/MyDrive/parking_tracking_project/tracking_ocr_edit.mp4: 256x416 1 plate, 70.2ms\n",
            "video 1/1 (frame 358/586) /content/drive/MyDrive/parking_tracking_project/tracking_ocr_edit.mp4: 256x416 1 plate, 67.4ms\n",
            "video 1/1 (frame 359/586) /content/drive/MyDrive/parking_tracking_project/tracking_ocr_edit.mp4: 256x416 1 plate, 85.7ms\n",
            "video 1/1 (frame 360/586) /content/drive/MyDrive/parking_tracking_project/tracking_ocr_edit.mp4: 256x416 1 plate, 71.3ms\n",
            "video 1/1 (frame 361/586) /content/drive/MyDrive/parking_tracking_project/tracking_ocr_edit.mp4: 256x416 1 plate, 73.1ms\n",
            "video 1/1 (frame 362/586) /content/drive/MyDrive/parking_tracking_project/tracking_ocr_edit.mp4: 256x416 1 plate, 68.1ms\n",
            "video 1/1 (frame 363/586) /content/drive/MyDrive/parking_tracking_project/tracking_ocr_edit.mp4: 256x416 1 plate, 71.4ms\n",
            "video 1/1 (frame 364/586) /content/drive/MyDrive/parking_tracking_project/tracking_ocr_edit.mp4: 256x416 1 plate, 77.6ms\n",
            "video 1/1 (frame 365/586) /content/drive/MyDrive/parking_tracking_project/tracking_ocr_edit.mp4: 256x416 1 plate, 76.5ms\n",
            "video 1/1 (frame 366/586) /content/drive/MyDrive/parking_tracking_project/tracking_ocr_edit.mp4: 256x416 1 plate, 69.0ms\n",
            "video 1/1 (frame 367/586) /content/drive/MyDrive/parking_tracking_project/tracking_ocr_edit.mp4: 256x416 1 plate, 70.8ms\n",
            "video 1/1 (frame 368/586) /content/drive/MyDrive/parking_tracking_project/tracking_ocr_edit.mp4: 256x416 1 plate, 69.9ms\n",
            "video 1/1 (frame 369/586) /content/drive/MyDrive/parking_tracking_project/tracking_ocr_edit.mp4: 256x416 1 plate, 75.2ms\n",
            "video 1/1 (frame 370/586) /content/drive/MyDrive/parking_tracking_project/tracking_ocr_edit.mp4: 256x416 1 plate, 75.2ms\n",
            "video 1/1 (frame 371/586) /content/drive/MyDrive/parking_tracking_project/tracking_ocr_edit.mp4: 256x416 1 plate, 69.5ms\n",
            "video 1/1 (frame 372/586) /content/drive/MyDrive/parking_tracking_project/tracking_ocr_edit.mp4: 256x416 1 plate, 69.5ms\n",
            "video 1/1 (frame 373/586) /content/drive/MyDrive/parking_tracking_project/tracking_ocr_edit.mp4: 256x416 1 plate, 69.7ms\n",
            "video 1/1 (frame 374/586) /content/drive/MyDrive/parking_tracking_project/tracking_ocr_edit.mp4: 256x416 1 plate, 79.2ms\n",
            "video 1/1 (frame 375/586) /content/drive/MyDrive/parking_tracking_project/tracking_ocr_edit.mp4: 256x416 1 plate, 70.8ms\n",
            "video 1/1 (frame 376/586) /content/drive/MyDrive/parking_tracking_project/tracking_ocr_edit.mp4: 256x416 1 plate, 69.3ms\n",
            "video 1/1 (frame 377/586) /content/drive/MyDrive/parking_tracking_project/tracking_ocr_edit.mp4: 256x416 1 plate, 68.4ms\n",
            "video 1/1 (frame 378/586) /content/drive/MyDrive/parking_tracking_project/tracking_ocr_edit.mp4: 256x416 1 plate, 71.8ms\n",
            "video 1/1 (frame 379/586) /content/drive/MyDrive/parking_tracking_project/tracking_ocr_edit.mp4: 256x416 1 plate, 75.9ms\n",
            "video 1/1 (frame 380/586) /content/drive/MyDrive/parking_tracking_project/tracking_ocr_edit.mp4: 256x416 1 plate, 79.8ms\n",
            "video 1/1 (frame 381/586) /content/drive/MyDrive/parking_tracking_project/tracking_ocr_edit.mp4: 256x416 1 plate, 70.3ms\n",
            "video 1/1 (frame 382/586) /content/drive/MyDrive/parking_tracking_project/tracking_ocr_edit.mp4: 256x416 1 plate, 67.9ms\n",
            "video 1/1 (frame 383/586) /content/drive/MyDrive/parking_tracking_project/tracking_ocr_edit.mp4: 256x416 1 plate, 72.1ms\n",
            "video 1/1 (frame 384/586) /content/drive/MyDrive/parking_tracking_project/tracking_ocr_edit.mp4: 256x416 1 plate, 67.7ms\n",
            "video 1/1 (frame 385/586) /content/drive/MyDrive/parking_tracking_project/tracking_ocr_edit.mp4: 256x416 1 plate, 78.6ms\n",
            "video 1/1 (frame 386/586) /content/drive/MyDrive/parking_tracking_project/tracking_ocr_edit.mp4: 256x416 1 plate, 68.4ms\n",
            "video 1/1 (frame 387/586) /content/drive/MyDrive/parking_tracking_project/tracking_ocr_edit.mp4: 256x416 1 plate, 75.8ms\n",
            "video 1/1 (frame 388/586) /content/drive/MyDrive/parking_tracking_project/tracking_ocr_edit.mp4: 256x416 1 plate, 67.1ms\n",
            "video 1/1 (frame 389/586) /content/drive/MyDrive/parking_tracking_project/tracking_ocr_edit.mp4: 256x416 1 plate, 66.2ms\n",
            "video 1/1 (frame 390/586) /content/drive/MyDrive/parking_tracking_project/tracking_ocr_edit.mp4: 256x416 1 plate, 66.8ms\n",
            "video 1/1 (frame 391/586) /content/drive/MyDrive/parking_tracking_project/tracking_ocr_edit.mp4: 256x416 1 plate, 81.6ms\n",
            "video 1/1 (frame 392/586) /content/drive/MyDrive/parking_tracking_project/tracking_ocr_edit.mp4: 256x416 1 plate, 70.9ms\n",
            "video 1/1 (frame 393/586) /content/drive/MyDrive/parking_tracking_project/tracking_ocr_edit.mp4: 256x416 1 plate, 66.9ms\n",
            "video 1/1 (frame 394/586) /content/drive/MyDrive/parking_tracking_project/tracking_ocr_edit.mp4: 256x416 1 plate, 68.4ms\n",
            "video 1/1 (frame 395/586) /content/drive/MyDrive/parking_tracking_project/tracking_ocr_edit.mp4: 256x416 1 plate, 83.7ms\n",
            "video 1/1 (frame 396/586) /content/drive/MyDrive/parking_tracking_project/tracking_ocr_edit.mp4: 256x416 1 plate, 74.9ms\n",
            "video 1/1 (frame 397/586) /content/drive/MyDrive/parking_tracking_project/tracking_ocr_edit.mp4: 256x416 1 plate, 67.0ms\n",
            "video 1/1 (frame 398/586) /content/drive/MyDrive/parking_tracking_project/tracking_ocr_edit.mp4: 256x416 1 plate, 81.1ms\n",
            "video 1/1 (frame 399/586) /content/drive/MyDrive/parking_tracking_project/tracking_ocr_edit.mp4: 256x416 1 plate, 68.8ms\n",
            "video 1/1 (frame 400/586) /content/drive/MyDrive/parking_tracking_project/tracking_ocr_edit.mp4: 256x416 1 plate, 86.6ms\n",
            "video 1/1 (frame 401/586) /content/drive/MyDrive/parking_tracking_project/tracking_ocr_edit.mp4: 256x416 1 plate, 81.7ms\n",
            "video 1/1 (frame 402/586) /content/drive/MyDrive/parking_tracking_project/tracking_ocr_edit.mp4: 256x416 1 plate, 81.8ms\n",
            "video 1/1 (frame 403/586) /content/drive/MyDrive/parking_tracking_project/tracking_ocr_edit.mp4: 256x416 1 plate, 82.2ms\n",
            "video 1/1 (frame 404/586) /content/drive/MyDrive/parking_tracking_project/tracking_ocr_edit.mp4: 256x416 1 plate, 80.6ms\n",
            "video 1/1 (frame 405/586) /content/drive/MyDrive/parking_tracking_project/tracking_ocr_edit.mp4: 256x416 1 plate, 93.3ms\n",
            "video 1/1 (frame 406/586) /content/drive/MyDrive/parking_tracking_project/tracking_ocr_edit.mp4: 256x416 1 plate, 83.5ms\n",
            "video 1/1 (frame 407/586) /content/drive/MyDrive/parking_tracking_project/tracking_ocr_edit.mp4: 256x416 1 plate, 71.0ms\n",
            "video 1/1 (frame 408/586) /content/drive/MyDrive/parking_tracking_project/tracking_ocr_edit.mp4: 256x416 1 plate, 72.1ms\n",
            "video 1/1 (frame 409/586) /content/drive/MyDrive/parking_tracking_project/tracking_ocr_edit.mp4: 256x416 1 plate, 69.8ms\n",
            "video 1/1 (frame 410/586) /content/drive/MyDrive/parking_tracking_project/tracking_ocr_edit.mp4: 256x416 1 plate, 69.9ms\n",
            "video 1/1 (frame 411/586) /content/drive/MyDrive/parking_tracking_project/tracking_ocr_edit.mp4: 256x416 1 plate, 85.2ms\n",
            "video 1/1 (frame 412/586) /content/drive/MyDrive/parking_tracking_project/tracking_ocr_edit.mp4: 256x416 1 plate, 67.9ms\n",
            "video 1/1 (frame 413/586) /content/drive/MyDrive/parking_tracking_project/tracking_ocr_edit.mp4: 256x416 1 plate, 79.5ms\n",
            "video 1/1 (frame 414/586) /content/drive/MyDrive/parking_tracking_project/tracking_ocr_edit.mp4: 256x416 1 plate, 79.0ms\n",
            "video 1/1 (frame 415/586) /content/drive/MyDrive/parking_tracking_project/tracking_ocr_edit.mp4: 256x416 1 plate, 71.6ms\n",
            "video 1/1 (frame 416/586) /content/drive/MyDrive/parking_tracking_project/tracking_ocr_edit.mp4: 256x416 1 plate, 70.6ms\n",
            "video 1/1 (frame 417/586) /content/drive/MyDrive/parking_tracking_project/tracking_ocr_edit.mp4: 256x416 1 plate, 81.2ms\n",
            "video 1/1 (frame 418/586) /content/drive/MyDrive/parking_tracking_project/tracking_ocr_edit.mp4: 256x416 1 plate, 68.7ms\n",
            "video 1/1 (frame 419/586) /content/drive/MyDrive/parking_tracking_project/tracking_ocr_edit.mp4: 256x416 1 plate, 68.4ms\n",
            "video 1/1 (frame 420/586) /content/drive/MyDrive/parking_tracking_project/tracking_ocr_edit.mp4: 256x416 1 plate, 70.1ms\n",
            "video 1/1 (frame 421/586) /content/drive/MyDrive/parking_tracking_project/tracking_ocr_edit.mp4: 256x416 1 plate, 76.0ms\n",
            "video 1/1 (frame 422/586) /content/drive/MyDrive/parking_tracking_project/tracking_ocr_edit.mp4: 256x416 1 plate, 91.3ms\n",
            "video 1/1 (frame 423/586) /content/drive/MyDrive/parking_tracking_project/tracking_ocr_edit.mp4: 256x416 1 plate, 107.9ms\n",
            "video 1/1 (frame 424/586) /content/drive/MyDrive/parking_tracking_project/tracking_ocr_edit.mp4: 256x416 1 plate, 121.1ms\n",
            "video 1/1 (frame 425/586) /content/drive/MyDrive/parking_tracking_project/tracking_ocr_edit.mp4: 256x416 1 plate, 108.2ms\n",
            "video 1/1 (frame 426/586) /content/drive/MyDrive/parking_tracking_project/tracking_ocr_edit.mp4: 256x416 1 plate, 102.1ms\n",
            "video 1/1 (frame 427/586) /content/drive/MyDrive/parking_tracking_project/tracking_ocr_edit.mp4: 256x416 1 plate, 114.8ms\n",
            "video 1/1 (frame 428/586) /content/drive/MyDrive/parking_tracking_project/tracking_ocr_edit.mp4: 256x416 (no detections), 102.9ms\n",
            "video 1/1 (frame 429/586) /content/drive/MyDrive/parking_tracking_project/tracking_ocr_edit.mp4: 256x416 (no detections), 111.5ms\n",
            "video 1/1 (frame 430/586) /content/drive/MyDrive/parking_tracking_project/tracking_ocr_edit.mp4: 256x416 (no detections), 104.5ms\n",
            "video 1/1 (frame 431/586) /content/drive/MyDrive/parking_tracking_project/tracking_ocr_edit.mp4: 256x416 (no detections), 111.3ms\n",
            "video 1/1 (frame 432/586) /content/drive/MyDrive/parking_tracking_project/tracking_ocr_edit.mp4: 256x416 (no detections), 110.7ms\n",
            "video 1/1 (frame 433/586) /content/drive/MyDrive/parking_tracking_project/tracking_ocr_edit.mp4: 256x416 (no detections), 126.9ms\n",
            "video 1/1 (frame 434/586) /content/drive/MyDrive/parking_tracking_project/tracking_ocr_edit.mp4: 256x416 (no detections), 113.0ms\n",
            "video 1/1 (frame 435/586) /content/drive/MyDrive/parking_tracking_project/tracking_ocr_edit.mp4: 256x416 (no detections), 104.4ms\n",
            "video 1/1 (frame 436/586) /content/drive/MyDrive/parking_tracking_project/tracking_ocr_edit.mp4: 256x416 (no detections), 113.3ms\n",
            "video 1/1 (frame 437/586) /content/drive/MyDrive/parking_tracking_project/tracking_ocr_edit.mp4: 256x416 (no detections), 104.9ms\n",
            "video 1/1 (frame 438/586) /content/drive/MyDrive/parking_tracking_project/tracking_ocr_edit.mp4: 256x416 (no detections), 103.4ms\n",
            "video 1/1 (frame 439/586) /content/drive/MyDrive/parking_tracking_project/tracking_ocr_edit.mp4: 256x416 (no detections), 109.0ms\n",
            "video 1/1 (frame 440/586) /content/drive/MyDrive/parking_tracking_project/tracking_ocr_edit.mp4: 256x416 (no detections), 103.8ms\n",
            "video 1/1 (frame 441/586) /content/drive/MyDrive/parking_tracking_project/tracking_ocr_edit.mp4: 256x416 (no detections), 103.0ms\n",
            "video 1/1 (frame 442/586) /content/drive/MyDrive/parking_tracking_project/tracking_ocr_edit.mp4: 256x416 (no detections), 104.7ms\n",
            "video 1/1 (frame 443/586) /content/drive/MyDrive/parking_tracking_project/tracking_ocr_edit.mp4: 256x416 (no detections), 104.3ms\n",
            "video 1/1 (frame 444/586) /content/drive/MyDrive/parking_tracking_project/tracking_ocr_edit.mp4: 256x416 (no detections), 125.1ms\n",
            "video 1/1 (frame 445/586) /content/drive/MyDrive/parking_tracking_project/tracking_ocr_edit.mp4: 256x416 (no detections), 119.1ms\n",
            "video 1/1 (frame 446/586) /content/drive/MyDrive/parking_tracking_project/tracking_ocr_edit.mp4: 256x416 (no detections), 109.5ms\n",
            "video 1/1 (frame 447/586) /content/drive/MyDrive/parking_tracking_project/tracking_ocr_edit.mp4: 256x416 (no detections), 144.3ms\n",
            "video 1/1 (frame 448/586) /content/drive/MyDrive/parking_tracking_project/tracking_ocr_edit.mp4: 256x416 (no detections), 117.1ms\n",
            "video 1/1 (frame 449/586) /content/drive/MyDrive/parking_tracking_project/tracking_ocr_edit.mp4: 256x416 (no detections), 111.0ms\n",
            "video 1/1 (frame 450/586) /content/drive/MyDrive/parking_tracking_project/tracking_ocr_edit.mp4: 256x416 (no detections), 110.9ms\n",
            "video 1/1 (frame 451/586) /content/drive/MyDrive/parking_tracking_project/tracking_ocr_edit.mp4: 256x416 (no detections), 145.5ms\n",
            "video 1/1 (frame 452/586) /content/drive/MyDrive/parking_tracking_project/tracking_ocr_edit.mp4: 256x416 (no detections), 114.9ms\n",
            "video 1/1 (frame 453/586) /content/drive/MyDrive/parking_tracking_project/tracking_ocr_edit.mp4: 256x416 (no detections), 133.3ms\n",
            "video 1/1 (frame 454/586) /content/drive/MyDrive/parking_tracking_project/tracking_ocr_edit.mp4: 256x416 (no detections), 118.0ms\n",
            "video 1/1 (frame 455/586) /content/drive/MyDrive/parking_tracking_project/tracking_ocr_edit.mp4: 256x416 (no detections), 108.0ms\n",
            "video 1/1 (frame 456/586) /content/drive/MyDrive/parking_tracking_project/tracking_ocr_edit.mp4: 256x416 (no detections), 112.0ms\n",
            "video 1/1 (frame 457/586) /content/drive/MyDrive/parking_tracking_project/tracking_ocr_edit.mp4: 256x416 (no detections), 112.4ms\n",
            "video 1/1 (frame 458/586) /content/drive/MyDrive/parking_tracking_project/tracking_ocr_edit.mp4: 256x416 (no detections), 77.2ms\n",
            "video 1/1 (frame 459/586) /content/drive/MyDrive/parking_tracking_project/tracking_ocr_edit.mp4: 256x416 (no detections), 71.0ms\n",
            "video 1/1 (frame 460/586) /content/drive/MyDrive/parking_tracking_project/tracking_ocr_edit.mp4: 256x416 (no detections), 72.1ms\n",
            "video 1/1 (frame 461/586) /content/drive/MyDrive/parking_tracking_project/tracking_ocr_edit.mp4: 256x416 (no detections), 74.5ms\n",
            "video 1/1 (frame 462/586) /content/drive/MyDrive/parking_tracking_project/tracking_ocr_edit.mp4: 256x416 (no detections), 71.0ms\n",
            "video 1/1 (frame 463/586) /content/drive/MyDrive/parking_tracking_project/tracking_ocr_edit.mp4: 256x416 (no detections), 73.9ms\n",
            "video 1/1 (frame 464/586) /content/drive/MyDrive/parking_tracking_project/tracking_ocr_edit.mp4: 256x416 (no detections), 72.4ms\n",
            "video 1/1 (frame 465/586) /content/drive/MyDrive/parking_tracking_project/tracking_ocr_edit.mp4: 256x416 (no detections), 77.6ms\n",
            "video 1/1 (frame 466/586) /content/drive/MyDrive/parking_tracking_project/tracking_ocr_edit.mp4: 256x416 (no detections), 73.0ms\n",
            "video 1/1 (frame 467/586) /content/drive/MyDrive/parking_tracking_project/tracking_ocr_edit.mp4: 256x416 (no detections), 69.1ms\n",
            "video 1/1 (frame 468/586) /content/drive/MyDrive/parking_tracking_project/tracking_ocr_edit.mp4: 256x416 (no detections), 97.2ms\n",
            "video 1/1 (frame 469/586) /content/drive/MyDrive/parking_tracking_project/tracking_ocr_edit.mp4: 256x416 (no detections), 75.6ms\n",
            "video 1/1 (frame 470/586) /content/drive/MyDrive/parking_tracking_project/tracking_ocr_edit.mp4: 256x416 (no detections), 70.4ms\n",
            "video 1/1 (frame 471/586) /content/drive/MyDrive/parking_tracking_project/tracking_ocr_edit.mp4: 256x416 (no detections), 70.3ms\n",
            "video 1/1 (frame 472/586) /content/drive/MyDrive/parking_tracking_project/tracking_ocr_edit.mp4: 256x416 (no detections), 71.3ms\n",
            "video 1/1 (frame 473/586) /content/drive/MyDrive/parking_tracking_project/tracking_ocr_edit.mp4: 256x416 (no detections), 72.7ms\n",
            "video 1/1 (frame 474/586) /content/drive/MyDrive/parking_tracking_project/tracking_ocr_edit.mp4: 256x416 (no detections), 68.9ms\n",
            "video 1/1 (frame 475/586) /content/drive/MyDrive/parking_tracking_project/tracking_ocr_edit.mp4: 256x416 (no detections), 73.8ms\n",
            "video 1/1 (frame 476/586) /content/drive/MyDrive/parking_tracking_project/tracking_ocr_edit.mp4: 256x416 (no detections), 68.5ms\n",
            "video 1/1 (frame 477/586) /content/drive/MyDrive/parking_tracking_project/tracking_ocr_edit.mp4: 256x416 (no detections), 71.3ms\n",
            "video 1/1 (frame 478/586) /content/drive/MyDrive/parking_tracking_project/tracking_ocr_edit.mp4: 256x416 (no detections), 78.1ms\n",
            "video 1/1 (frame 479/586) /content/drive/MyDrive/parking_tracking_project/tracking_ocr_edit.mp4: 256x416 (no detections), 83.2ms\n",
            "video 1/1 (frame 480/586) /content/drive/MyDrive/parking_tracking_project/tracking_ocr_edit.mp4: 256x416 (no detections), 68.0ms\n",
            "video 1/1 (frame 481/586) /content/drive/MyDrive/parking_tracking_project/tracking_ocr_edit.mp4: 256x416 (no detections), 68.5ms\n",
            "video 1/1 (frame 482/586) /content/drive/MyDrive/parking_tracking_project/tracking_ocr_edit.mp4: 256x416 (no detections), 76.8ms\n",
            "video 1/1 (frame 483/586) /content/drive/MyDrive/parking_tracking_project/tracking_ocr_edit.mp4: 256x416 (no detections), 68.5ms\n",
            "video 1/1 (frame 484/586) /content/drive/MyDrive/parking_tracking_project/tracking_ocr_edit.mp4: 256x416 (no detections), 67.5ms\n",
            "video 1/1 (frame 485/586) /content/drive/MyDrive/parking_tracking_project/tracking_ocr_edit.mp4: 256x416 (no detections), 68.1ms\n",
            "video 1/1 (frame 486/586) /content/drive/MyDrive/parking_tracking_project/tracking_ocr_edit.mp4: 256x416 (no detections), 72.0ms\n",
            "video 1/1 (frame 487/586) /content/drive/MyDrive/parking_tracking_project/tracking_ocr_edit.mp4: 256x416 (no detections), 71.2ms\n",
            "video 1/1 (frame 488/586) /content/drive/MyDrive/parking_tracking_project/tracking_ocr_edit.mp4: 256x416 (no detections), 69.2ms\n",
            "video 1/1 (frame 489/586) /content/drive/MyDrive/parking_tracking_project/tracking_ocr_edit.mp4: 256x416 (no detections), 75.9ms\n",
            "video 1/1 (frame 490/586) /content/drive/MyDrive/parking_tracking_project/tracking_ocr_edit.mp4: 256x416 (no detections), 75.9ms\n",
            "video 1/1 (frame 491/586) /content/drive/MyDrive/parking_tracking_project/tracking_ocr_edit.mp4: 256x416 (no detections), 77.8ms\n",
            "video 1/1 (frame 492/586) /content/drive/MyDrive/parking_tracking_project/tracking_ocr_edit.mp4: 256x416 (no detections), 73.2ms\n",
            "video 1/1 (frame 493/586) /content/drive/MyDrive/parking_tracking_project/tracking_ocr_edit.mp4: 256x416 (no detections), 68.3ms\n",
            "video 1/1 (frame 494/586) /content/drive/MyDrive/parking_tracking_project/tracking_ocr_edit.mp4: 256x416 (no detections), 67.2ms\n",
            "video 1/1 (frame 495/586) /content/drive/MyDrive/parking_tracking_project/tracking_ocr_edit.mp4: 256x416 (no detections), 70.7ms\n",
            "video 1/1 (frame 496/586) /content/drive/MyDrive/parking_tracking_project/tracking_ocr_edit.mp4: 256x416 (no detections), 69.6ms\n",
            "video 1/1 (frame 497/586) /content/drive/MyDrive/parking_tracking_project/tracking_ocr_edit.mp4: 256x416 (no detections), 74.7ms\n",
            "video 1/1 (frame 498/586) /content/drive/MyDrive/parking_tracking_project/tracking_ocr_edit.mp4: 256x416 (no detections), 72.9ms\n",
            "video 1/1 (frame 499/586) /content/drive/MyDrive/parking_tracking_project/tracking_ocr_edit.mp4: 256x416 1 plate, 79.9ms\n",
            "video 1/1 (frame 500/586) /content/drive/MyDrive/parking_tracking_project/tracking_ocr_edit.mp4: 256x416 1 plate, 88.9ms\n",
            "video 1/1 (frame 501/586) /content/drive/MyDrive/parking_tracking_project/tracking_ocr_edit.mp4: 256x416 1 plate, 69.7ms\n",
            "video 1/1 (frame 502/586) /content/drive/MyDrive/parking_tracking_project/tracking_ocr_edit.mp4: 256x416 1 plate, 69.8ms\n",
            "video 1/1 (frame 503/586) /content/drive/MyDrive/parking_tracking_project/tracking_ocr_edit.mp4: 256x416 1 plate, 68.3ms\n",
            "video 1/1 (frame 504/586) /content/drive/MyDrive/parking_tracking_project/tracking_ocr_edit.mp4: 256x416 1 plate, 75.8ms\n",
            "video 1/1 (frame 505/586) /content/drive/MyDrive/parking_tracking_project/tracking_ocr_edit.mp4: 256x416 1 plate, 70.0ms\n",
            "video 1/1 (frame 506/586) /content/drive/MyDrive/parking_tracking_project/tracking_ocr_edit.mp4: 256x416 1 plate, 70.0ms\n",
            "video 1/1 (frame 507/586) /content/drive/MyDrive/parking_tracking_project/tracking_ocr_edit.mp4: 256x416 1 plate, 69.7ms\n",
            "video 1/1 (frame 508/586) /content/drive/MyDrive/parking_tracking_project/tracking_ocr_edit.mp4: 256x416 1 plate, 67.2ms\n",
            "video 1/1 (frame 509/586) /content/drive/MyDrive/parking_tracking_project/tracking_ocr_edit.mp4: 256x416 1 plate, 81.8ms\n",
            "video 1/1 (frame 510/586) /content/drive/MyDrive/parking_tracking_project/tracking_ocr_edit.mp4: 256x416 1 plate, 68.6ms\n",
            "video 1/1 (frame 511/586) /content/drive/MyDrive/parking_tracking_project/tracking_ocr_edit.mp4: 256x416 1 plate, 84.4ms\n",
            "video 1/1 (frame 512/586) /content/drive/MyDrive/parking_tracking_project/tracking_ocr_edit.mp4: 256x416 1 plate, 67.0ms\n",
            "video 1/1 (frame 513/586) /content/drive/MyDrive/parking_tracking_project/tracking_ocr_edit.mp4: 256x416 1 plate, 80.8ms\n",
            "video 1/1 (frame 514/586) /content/drive/MyDrive/parking_tracking_project/tracking_ocr_edit.mp4: 256x416 1 plate, 70.6ms\n",
            "video 1/1 (frame 515/586) /content/drive/MyDrive/parking_tracking_project/tracking_ocr_edit.mp4: 256x416 1 plate, 72.6ms\n",
            "video 1/1 (frame 516/586) /content/drive/MyDrive/parking_tracking_project/tracking_ocr_edit.mp4: 256x416 1 plate, 73.4ms\n",
            "video 1/1 (frame 517/586) /content/drive/MyDrive/parking_tracking_project/tracking_ocr_edit.mp4: 256x416 1 plate, 74.3ms\n",
            "video 1/1 (frame 518/586) /content/drive/MyDrive/parking_tracking_project/tracking_ocr_edit.mp4: 256x416 1 plate, 72.6ms\n",
            "video 1/1 (frame 519/586) /content/drive/MyDrive/parking_tracking_project/tracking_ocr_edit.mp4: 256x416 1 plate, 78.4ms\n",
            "video 1/1 (frame 520/586) /content/drive/MyDrive/parking_tracking_project/tracking_ocr_edit.mp4: 256x416 1 plate, 76.2ms\n",
            "video 1/1 (frame 521/586) /content/drive/MyDrive/parking_tracking_project/tracking_ocr_edit.mp4: 256x416 1 plate, 88.3ms\n",
            "video 1/1 (frame 522/586) /content/drive/MyDrive/parking_tracking_project/tracking_ocr_edit.mp4: 256x416 1 plate, 73.1ms\n",
            "video 1/1 (frame 523/586) /content/drive/MyDrive/parking_tracking_project/tracking_ocr_edit.mp4: 256x416 1 plate, 70.9ms\n",
            "video 1/1 (frame 524/586) /content/drive/MyDrive/parking_tracking_project/tracking_ocr_edit.mp4: 256x416 1 plate, 68.5ms\n",
            "video 1/1 (frame 525/586) /content/drive/MyDrive/parking_tracking_project/tracking_ocr_edit.mp4: 256x416 1 plate, 68.7ms\n",
            "video 1/1 (frame 526/586) /content/drive/MyDrive/parking_tracking_project/tracking_ocr_edit.mp4: 256x416 1 plate, 73.5ms\n",
            "video 1/1 (frame 527/586) /content/drive/MyDrive/parking_tracking_project/tracking_ocr_edit.mp4: 256x416 1 plate, 71.4ms\n",
            "video 1/1 (frame 528/586) /content/drive/MyDrive/parking_tracking_project/tracking_ocr_edit.mp4: 256x416 1 plate, 67.7ms\n",
            "video 1/1 (frame 529/586) /content/drive/MyDrive/parking_tracking_project/tracking_ocr_edit.mp4: 256x416 1 plate, 79.7ms\n",
            "video 1/1 (frame 530/586) /content/drive/MyDrive/parking_tracking_project/tracking_ocr_edit.mp4: 256x416 1 plate, 70.1ms\n",
            "video 1/1 (frame 531/586) /content/drive/MyDrive/parking_tracking_project/tracking_ocr_edit.mp4: 256x416 1 plate, 71.5ms\n",
            "video 1/1 (frame 532/586) /content/drive/MyDrive/parking_tracking_project/tracking_ocr_edit.mp4: 256x416 1 plate, 69.8ms\n",
            "video 1/1 (frame 533/586) /content/drive/MyDrive/parking_tracking_project/tracking_ocr_edit.mp4: 256x416 1 plate, 76.7ms\n",
            "video 1/1 (frame 534/586) /content/drive/MyDrive/parking_tracking_project/tracking_ocr_edit.mp4: 256x416 1 plate, 69.6ms\n",
            "video 1/1 (frame 535/586) /content/drive/MyDrive/parking_tracking_project/tracking_ocr_edit.mp4: 256x416 1 plate, 68.1ms\n",
            "video 1/1 (frame 536/586) /content/drive/MyDrive/parking_tracking_project/tracking_ocr_edit.mp4: 256x416 1 plate, 71.4ms\n",
            "video 1/1 (frame 537/586) /content/drive/MyDrive/parking_tracking_project/tracking_ocr_edit.mp4: 256x416 1 plate, 70.3ms\n",
            "video 1/1 (frame 538/586) /content/drive/MyDrive/parking_tracking_project/tracking_ocr_edit.mp4: 256x416 1 plate, 68.0ms\n",
            "video 1/1 (frame 539/586) /content/drive/MyDrive/parking_tracking_project/tracking_ocr_edit.mp4: 256x416 1 plate, 66.9ms\n",
            "video 1/1 (frame 540/586) /content/drive/MyDrive/parking_tracking_project/tracking_ocr_edit.mp4: 256x416 1 plate, 72.9ms\n",
            "video 1/1 (frame 541/586) /content/drive/MyDrive/parking_tracking_project/tracking_ocr_edit.mp4: 256x416 1 plate, 75.1ms\n",
            "video 1/1 (frame 542/586) /content/drive/MyDrive/parking_tracking_project/tracking_ocr_edit.mp4: 256x416 1 plate, 81.5ms\n",
            "video 1/1 (frame 543/586) /content/drive/MyDrive/parking_tracking_project/tracking_ocr_edit.mp4: 256x416 1 plate, 69.2ms\n",
            "video 1/1 (frame 544/586) /content/drive/MyDrive/parking_tracking_project/tracking_ocr_edit.mp4: 256x416 1 plate, 71.6ms\n",
            "video 1/1 (frame 545/586) /content/drive/MyDrive/parking_tracking_project/tracking_ocr_edit.mp4: 256x416 1 plate, 69.9ms\n",
            "video 1/1 (frame 546/586) /content/drive/MyDrive/parking_tracking_project/tracking_ocr_edit.mp4: 256x416 1 plate, 71.0ms\n",
            "video 1/1 (frame 547/586) /content/drive/MyDrive/parking_tracking_project/tracking_ocr_edit.mp4: 256x416 1 plate, 71.0ms\n",
            "video 1/1 (frame 548/586) /content/drive/MyDrive/parking_tracking_project/tracking_ocr_edit.mp4: 256x416 1 plate, 74.4ms\n",
            "video 1/1 (frame 549/586) /content/drive/MyDrive/parking_tracking_project/tracking_ocr_edit.mp4: 256x416 1 plate, 78.5ms\n",
            "video 1/1 (frame 550/586) /content/drive/MyDrive/parking_tracking_project/tracking_ocr_edit.mp4: 256x416 1 plate, 85.8ms\n",
            "video 1/1 (frame 551/586) /content/drive/MyDrive/parking_tracking_project/tracking_ocr_edit.mp4: 256x416 1 plate, 70.2ms\n",
            "video 1/1 (frame 552/586) /content/drive/MyDrive/parking_tracking_project/tracking_ocr_edit.mp4: 256x416 1 plate, 72.8ms\n",
            "video 1/1 (frame 553/586) /content/drive/MyDrive/parking_tracking_project/tracking_ocr_edit.mp4: 256x416 1 plate, 87.4ms\n",
            "video 1/1 (frame 554/586) /content/drive/MyDrive/parking_tracking_project/tracking_ocr_edit.mp4: 256x416 1 plate, 67.8ms\n",
            "video 1/1 (frame 555/586) /content/drive/MyDrive/parking_tracking_project/tracking_ocr_edit.mp4: 256x416 1 plate, 70.7ms\n",
            "video 1/1 (frame 556/586) /content/drive/MyDrive/parking_tracking_project/tracking_ocr_edit.mp4: 256x416 1 plate, 68.3ms\n",
            "video 1/1 (frame 557/586) /content/drive/MyDrive/parking_tracking_project/tracking_ocr_edit.mp4: 256x416 1 plate, 74.4ms\n",
            "video 1/1 (frame 558/586) /content/drive/MyDrive/parking_tracking_project/tracking_ocr_edit.mp4: 256x416 1 plate, 69.3ms\n",
            "video 1/1 (frame 559/586) /content/drive/MyDrive/parking_tracking_project/tracking_ocr_edit.mp4: 256x416 1 plate, 73.1ms\n",
            "video 1/1 (frame 560/586) /content/drive/MyDrive/parking_tracking_project/tracking_ocr_edit.mp4: 256x416 1 plate, 107.3ms\n",
            "video 1/1 (frame 561/586) /content/drive/MyDrive/parking_tracking_project/tracking_ocr_edit.mp4: 256x416 1 plate, 109.6ms\n",
            "video 1/1 (frame 562/586) /content/drive/MyDrive/parking_tracking_project/tracking_ocr_edit.mp4: 256x416 1 plate, 114.0ms\n",
            "video 1/1 (frame 563/586) /content/drive/MyDrive/parking_tracking_project/tracking_ocr_edit.mp4: 256x416 1 plate, 108.6ms\n",
            "video 1/1 (frame 564/586) /content/drive/MyDrive/parking_tracking_project/tracking_ocr_edit.mp4: 256x416 1 plate, 106.1ms\n",
            "video 1/1 (frame 565/586) /content/drive/MyDrive/parking_tracking_project/tracking_ocr_edit.mp4: 256x416 1 plate, 107.0ms\n",
            "video 1/1 (frame 566/586) /content/drive/MyDrive/parking_tracking_project/tracking_ocr_edit.mp4: 256x416 1 plate, 103.8ms\n",
            "video 1/1 (frame 567/586) /content/drive/MyDrive/parking_tracking_project/tracking_ocr_edit.mp4: 256x416 1 plate, 116.2ms\n",
            "video 1/1 (frame 568/586) /content/drive/MyDrive/parking_tracking_project/tracking_ocr_edit.mp4: 256x416 1 plate, 102.0ms\n",
            "video 1/1 (frame 569/586) /content/drive/MyDrive/parking_tracking_project/tracking_ocr_edit.mp4: 256x416 1 plate, 102.3ms\n",
            "video 1/1 (frame 570/586) /content/drive/MyDrive/parking_tracking_project/tracking_ocr_edit.mp4: 256x416 1 plate, 132.4ms\n",
            "video 1/1 (frame 571/586) /content/drive/MyDrive/parking_tracking_project/tracking_ocr_edit.mp4: 256x416 1 plate, 109.8ms\n",
            "video 1/1 (frame 572/586) /content/drive/MyDrive/parking_tracking_project/tracking_ocr_edit.mp4: 256x416 1 plate, 110.1ms\n",
            "video 1/1 (frame 573/586) /content/drive/MyDrive/parking_tracking_project/tracking_ocr_edit.mp4: 256x416 1 plate, 108.8ms\n",
            "video 1/1 (frame 574/586) /content/drive/MyDrive/parking_tracking_project/tracking_ocr_edit.mp4: 256x416 1 plate, 107.2ms\n",
            "video 1/1 (frame 575/586) /content/drive/MyDrive/parking_tracking_project/tracking_ocr_edit.mp4: 256x416 1 plate, 111.2ms\n",
            "video 1/1 (frame 576/586) /content/drive/MyDrive/parking_tracking_project/tracking_ocr_edit.mp4: 256x416 1 plate, 114.6ms\n",
            "video 1/1 (frame 577/586) /content/drive/MyDrive/parking_tracking_project/tracking_ocr_edit.mp4: 256x416 1 plate, 125.0ms\n",
            "video 1/1 (frame 578/586) /content/drive/MyDrive/parking_tracking_project/tracking_ocr_edit.mp4: 256x416 1 plate, 100.9ms\n",
            "video 1/1 (frame 579/586) /content/drive/MyDrive/parking_tracking_project/tracking_ocr_edit.mp4: 256x416 1 plate, 103.4ms\n",
            "video 1/1 (frame 580/586) /content/drive/MyDrive/parking_tracking_project/tracking_ocr_edit.mp4: 256x416 1 plate, 100.5ms\n",
            "video 1/1 (frame 581/586) /content/drive/MyDrive/parking_tracking_project/tracking_ocr_edit.mp4: 256x416 1 plate, 107.4ms\n",
            "video 1/1 (frame 582/586) /content/drive/MyDrive/parking_tracking_project/tracking_ocr_edit.mp4: 256x416 1 plate, 113.8ms\n",
            "video 1/1 (frame 583/586) /content/drive/MyDrive/parking_tracking_project/tracking_ocr_edit.mp4: 256x416 1 plate, 110.2ms\n",
            "video 1/1 (frame 584/586) /content/drive/MyDrive/parking_tracking_project/tracking_ocr_edit.mp4: 256x416 1 plate, 117.8ms\n",
            "video 1/1 (frame 585/586) /content/drive/MyDrive/parking_tracking_project/tracking_ocr_edit.mp4: 256x416 1 plate, 110.7ms\n",
            "video 1/1 (frame 586/586) /content/drive/MyDrive/parking_tracking_project/tracking_ocr_edit.mp4: 256x416 1 plate, 110.7ms\n",
            "Speed: 2.2ms preprocess, 84.8ms inference, 1.0ms postprocess per image at shape (1, 3, 256, 416)\n",
            "Results saved to \u001b[1mruns/detect/predict\u001b[0m\n"
          ]
        }
      ],
      "source": [
        "model = YOLO('/content/runs/detect/train2/weights/registration_plate.pt')\n",
        "\n",
        "\n",
        "results = model('/content/drive/MyDrive/parking_tracking_project/tracking_ocr_edit.mp4', save = True)"
      ]
    },
    {
      "cell_type": "code",
      "execution_count": null,
      "metadata": {
        "id": "SuAtoWVzi00l"
      },
      "outputs": [],
      "source": []
    }
  ],
  "metadata": {
    "colab": {
      "provenance": []
    },
    "kernelspec": {
      "display_name": "Python 3",
      "name": "python3"
    },
    "language_info": {
      "name": "python"
    }
  },
  "nbformat": 4,
  "nbformat_minor": 0
}
